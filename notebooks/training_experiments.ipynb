{
 "cells": [
  {
   "cell_type": "code",
   "execution_count": 1,
   "metadata": {
    "autoscroll": false,
    "collapsed": false,
    "ein.hycell": false,
    "ein.tags": "worksheet-0",
    "slideshow": {
     "slide_type": "-"
    }
   },
   "outputs": [
    {
     "name": "stderr",
     "output_type": "stream",
     "text": [
      "2019-04-12 08:34:51,210\tINFO node.py:423 -- Process STDOUT and STDERR is being redirected to /tmp/ray/session_2019-04-12_08-34-51_9356/logs.\n"
     ]
    },
    {
     "name": "stderr",
     "output_type": "stream",
     "text": [
      "2019-04-12 08:34:51,339\tINFO services.py:363 -- Waiting for redis server at 127.0.0.1:28578 to respond...\n"
     ]
    },
    {
     "name": "stderr",
     "output_type": "stream",
     "text": [
      "2019-04-12 08:34:51,456\tINFO services.py:363 -- Waiting for redis server at 127.0.0.1:23816 to respond...\n"
     ]
    },
    {
     "name": "stderr",
     "output_type": "stream",
     "text": [
      "2019-04-12 08:34:51,460\tINFO services.py:760 -- Starting Redis shard with 4.2 GB max memory.\n"
     ]
    },
    {
     "name": "stderr",
     "output_type": "stream",
     "text": [
      "2019-04-12 08:34:51,482\tINFO services.py:1384 -- Starting the Plasma object store with 6.3 GB memory using /dev/shm.\n"
     ]
    },
    {
     "data": {
      "text/plain": [
       "{'node_ip_address': None,\n 'redis_address': '10.60.55.201:28578',\n 'object_store_address': '/tmp/ray/session_2019-04-12_08-34-51_9356/sockets/plasma_store',\n 'webui_url': None,\n 'raylet_socket_name': '/tmp/ray/session_2019-04-12_08-34-51_9356/sockets/raylet'}"
      ]
     },
     "execution_count": 1,
     "metadata": {},
     "output_type": "execute_result"
    }
   ],
   "source": [
    "import importlib\n",
    "import dill as pickle\n",
    "from tqdm import tqdm\n",
    "from tqdm import trange\n",
    "\n",
    "import pentago\n",
    "from pentago import agent, memory, minimax, learning_agent, neural_model, monte_carlo, evaluate, game, multi\n",
    "\n",
    "import ray\n",
    "ray.init()"
   ]
  },
  {
   "cell_type": "code",
   "execution_count": 2,
   "metadata": {
    "autoscroll": false,
    "collapsed": false,
    "ein.hycell": false,
    "ein.tags": "worksheet-0",
    "slideshow": {
     "slide_type": "-"
    }
   },
   "outputs": [],
   "source": [
    "view = memory.MemoryView()\n",
    "round = 0"
   ]
  },
  {
   "cell_type": "code",
   "execution_count": 3,
   "metadata": {
    "autoscroll": false,
    "collapsed": false,
    "ein.hycell": false,
    "ein.tags": "worksheet-0",
    "slideshow": {
     "slide_type": "-"
    }
   },
   "outputs": [
    {
     "name": "stdout",
     "output_type": "stream",
     "text": [
      "528.8494734764099 seconds taken, 0.5288494734764099 per game\n"
     ]
    }
   ],
   "source": [
    "multi.self_play_games(minimax.MinimaxSearchAgent(depth=2),\n",
    "                      view,\n",
    "                      1000,\n",
    "                      verbose=True,\n",
    "                      num_workers=3)"
   ]
  },
  {
   "cell_type": "code",
   "execution_count": 34,
   "metadata": {
    "autoscroll": false,
    "collapsed": false,
    "ein.hycell": false,
    "ein.tags": "worksheet-0",
    "slideshow": {
     "slide_type": "-"
    }
   },
   "outputs": [],
   "source": [
    "pickle.dump(view, open('initial_view.pkl', mode='wb'))"
   ]
  },
  {
   "cell_type": "code",
   "execution_count": 4,
   "metadata": {
    "autoscroll": false,
    "collapsed": false,
    "ein.hycell": false,
    "ein.tags": "worksheet-0",
    "slideshow": {
     "slide_type": "-"
    }
   },
   "outputs": [],
   "source": [
    "view = pickle.load(open('initial_view.pkl', mode='rb'))"
   ]
  },
  {
   "cell_type": "code",
   "execution_count": 4,
   "metadata": {
    "autoscroll": false,
    "collapsed": false,
    "ein.hycell": false,
    "ein.tags": "worksheet-0",
    "slideshow": {
     "slide_type": "-"
    }
   },
   "outputs": [
    {
     "name": "stdout",
     "output_type": "stream",
     "text": [
      "WARNING:tensorflow:From /home/derick/anaconda3/envs/gai-project/lib/python3.7/site-packages/tensorflow/python/ops/resource_variable_ops.py:435: colocate_with (from tensorflow.python.framework.ops) is deprecated and will be removed in a future version.\n",
      "Instructions for updating:\n",
      "Colocations handled automatically by placer.\n"
     ]
    }
   ],
   "source": [
    "model_params = {'dense_regularization_const': 1e-2,\n",
    "                'regularization_const': 1e-4,\n",
    "                'num_layers': 5,\n",
    "                'kernel_size': 5,\n",
    "                'num_filters': 64}\n",
    "current_agent = learning_agent.NeuralAgent(model_params=model_params)\n",
    "best_agent = learning_agent.NeuralAgent(model_params=model_params)"
   ]
  },
  {
   "cell_type": "code",
   "execution_count": 9,
   "metadata": {
    "autoscroll": false,
    "collapsed": false,
    "ein.hycell": false,
    "ein.tags": "worksheet-0",
    "slideshow": {
     "slide_type": "-"
    }
   },
   "outputs": [
    {
     "name": "stdout",
     "output_type": "stream",
     "text": [
      "547.2369258403778 seconds taken, 18.241230861345926 per game\n",
      "Train on 3600 samples, validate on 400 samples\n"
     ]
    },
    {
     "name": "stdout",
     "output_type": "stream",
     "text": [
      " - 5s - loss: 5.3600 - policy_head_loss: 4.3967 - value_head_loss: 0.8308 - val_loss: 5.6990 - val_policy_head_loss: 4.6544 - val_value_head_loss: 0.9127\n"
     ]
    },
    {
     "name": "stdout",
     "output_type": "stream",
     "text": [
      "Train on 3600 samples, validate on 400 samples\n"
     ]
    },
    {
     "name": "stdout",
     "output_type": "stream",
     "text": [
      " - 5s - loss: 5.3477 - policy_head_loss: 4.3891 - value_head_loss: 0.8270 - val_loss: 5.6458 - val_policy_head_loss: 4.6142 - val_value_head_loss: 0.9005\n"
     ]
    },
    {
     "name": "stdout",
     "output_type": "stream",
     "text": [
      "Train on 3600 samples, validate on 400 samples\n"
     ]
    },
    {
     "name": "stdout",
     "output_type": "stream",
     "text": [
      " - 5s - loss: 5.3724 - policy_head_loss: 4.4119 - value_head_loss: 0.8298 - val_loss: 5.6803 - val_policy_head_loss: 4.6341 - val_value_head_loss: 0.9161\n"
     ]
    },
    {
     "name": "stdout",
     "output_type": "stream",
     "text": [
      "Train on 3600 samples, validate on 400 samples\n"
     ]
    },
    {
     "name": "stdout",
     "output_type": "stream",
     "text": [
      " - 5s - loss: 5.3858 - policy_head_loss: 4.4147 - value_head_loss: 0.8412 - val_loss: 5.6989 - val_policy_head_loss: 4.6393 - val_value_head_loss: 0.9303\n"
     ]
    },
    {
     "name": "stdout",
     "output_type": "stream",
     "text": [
      "518.3358874320984 seconds taken, 17.27786291440328 per game\n",
      "Train on 3600 samples, validate on 400 samples\n"
     ]
    },
    {
     "name": "stdout",
     "output_type": "stream",
     "text": [
      " - 5s - loss: 5.3598 - policy_head_loss: 4.3847 - value_head_loss: 0.8461 - val_loss: 5.6350 - val_policy_head_loss: 4.5840 - val_value_head_loss: 0.9226\n"
     ]
    },
    {
     "name": "stdout",
     "output_type": "stream",
     "text": [
      "Train on 3600 samples, validate on 400 samples\n"
     ]
    },
    {
     "name": "stdout",
     "output_type": "stream",
     "text": [
      " - 5s - loss: 5.3785 - policy_head_loss: 4.4152 - value_head_loss: 0.8352 - val_loss: 5.6682 - val_policy_head_loss: 4.6114 - val_value_head_loss: 0.9292\n"
     ]
    },
    {
     "name": "stdout",
     "output_type": "stream",
     "text": [
      "Train on 3600 samples, validate on 400 samples\n"
     ]
    },
    {
     "name": "stdout",
     "output_type": "stream",
     "text": [
      " - 5s - loss: 5.3388 - policy_head_loss: 4.3866 - value_head_loss: 0.8248 - val_loss: 5.6130 - val_policy_head_loss: 4.5702 - val_value_head_loss: 0.9159\n"
     ]
    },
    {
     "name": "stdout",
     "output_type": "stream",
     "text": [
      "Train on 3600 samples, validate on 400 samples\n"
     ]
    },
    {
     "name": "stdout",
     "output_type": "stream",
     "text": [
      " - 5s - loss: 5.3483 - policy_head_loss: 4.3889 - value_head_loss: 0.8328 - val_loss: 5.5701 - val_policy_head_loss: 4.5435 - val_value_head_loss: 0.9005\n"
     ]
    },
    {
     "name": "stdout",
     "output_type": "stream",
     "text": [
      "495.312371969223 seconds taken, 16.5104123989741 per game\n",
      "Train on 3600 samples, validate on 400 samples\n"
     ]
    },
    {
     "name": "stdout",
     "output_type": "stream",
     "text": [
      " - 5s - loss: 5.3421 - policy_head_loss: 4.3692 - value_head_loss: 0.8471 - val_loss: 5.6733 - val_policy_head_loss: 4.5984 - val_value_head_loss: 0.9496\n"
     ]
    },
    {
     "name": "stdout",
     "output_type": "stream",
     "text": [
      "Train on 3600 samples, validate on 400 samples\n"
     ]
    },
    {
     "name": "stdout",
     "output_type": "stream",
     "text": [
      " - 5s - loss: 5.3839 - policy_head_loss: 4.4180 - value_head_loss: 0.8409 - val_loss: 5.6832 - val_policy_head_loss: 4.6387 - val_value_head_loss: 0.9200\n"
     ]
    },
    {
     "name": "stdout",
     "output_type": "stream",
     "text": [
      "Train on 3600 samples, validate on 400 samples\n"
     ]
    },
    {
     "name": "stdout",
     "output_type": "stream",
     "text": [
      " - 5s - loss: 5.3735 - policy_head_loss: 4.4217 - value_head_loss: 0.8275 - val_loss: 5.5937 - val_policy_head_loss: 4.5597 - val_value_head_loss: 0.9102\n"
     ]
    },
    {
     "name": "stdout",
     "output_type": "stream",
     "text": [
      "Train on 3600 samples, validate on 400 samples\n"
     ]
    },
    {
     "name": "stdout",
     "output_type": "stream",
     "text": [
      " - 5s - loss: 5.3332 - policy_head_loss: 4.3778 - value_head_loss: 0.8318 - val_loss: 5.5919 - val_policy_head_loss: 4.5289 - val_value_head_loss: 0.9400\n"
     ]
    },
    {
     "name": "stdout",
     "output_type": "stream",
     "text": [
      "576.1518428325653 seconds taken, 19.205061427752177 per game\n",
      "Train on 3600 samples, validate on 400 samples\n"
     ]
    },
    {
     "name": "stdout",
     "output_type": "stream",
     "text": [
      " - 5s - loss: 5.3145 - policy_head_loss: 4.3608 - value_head_loss: 0.8310 - val_loss: 5.5272 - val_policy_head_loss: 4.4845 - val_value_head_loss: 0.9203\n"
     ]
    },
    {
     "name": "stdout",
     "output_type": "stream",
     "text": [
      "Train on 3600 samples, validate on 400 samples\n"
     ]
    },
    {
     "name": "stdout",
     "output_type": "stream",
     "text": [
      " - 5s - loss: 5.3583 - policy_head_loss: 4.4016 - value_head_loss: 0.8346 - val_loss: 5.6259 - val_policy_head_loss: 4.5797 - val_value_head_loss: 0.9245\n"
     ]
    },
    {
     "name": "stdout",
     "output_type": "stream",
     "text": [
      "Train on 3600 samples, validate on 400 samples\n"
     ]
    },
    {
     "name": "stdout",
     "output_type": "stream",
     "text": [
      " - 5s - loss: 5.3329 - policy_head_loss: 4.3724 - value_head_loss: 0.8391 - val_loss: 5.5735 - val_policy_head_loss: 4.5381 - val_value_head_loss: 0.9145\n"
     ]
    },
    {
     "name": "stdout",
     "output_type": "stream",
     "text": [
      "Train on 3600 samples, validate on 400 samples\n"
     ]
    },
    {
     "name": "stdout",
     "output_type": "stream",
     "text": [
      " - 5s - loss: 5.3703 - policy_head_loss: 4.3803 - value_head_loss: 0.8693 - val_loss: 5.5692 - val_policy_head_loss: 4.5316 - val_value_head_loss: 0.9174\n"
     ]
    },
    {
     "name": "stdout",
     "output_type": "stream",
     "text": [
      "517.2198297977448 seconds taken, 17.240660993258157 per game\n",
      "Train on 3600 samples, validate on 400 samples\n"
     ]
    },
    {
     "name": "stdout",
     "output_type": "stream",
     "text": [
      " - 5s - loss: 5.3521 - policy_head_loss: 4.3862 - value_head_loss: 0.8458 - val_loss: 5.5480 - val_policy_head_loss: 4.5044 - val_value_head_loss: 0.9241\n"
     ]
    },
    {
     "name": "stdout",
     "output_type": "stream",
     "text": [
      "Train on 3600 samples, validate on 400 samples\n"
     ]
    },
    {
     "name": "stdout",
     "output_type": "stream",
     "text": [
      " - 5s - loss: 5.3611 - policy_head_loss: 4.4105 - value_head_loss: 0.8313 - val_loss: 5.5993 - val_policy_head_loss: 4.5563 - val_value_head_loss: 0.9240\n"
     ]
    },
    {
     "name": "stdout",
     "output_type": "stream",
     "text": [
      "Train on 3600 samples, validate on 400 samples\n"
     ]
    },
    {
     "name": "stdout",
     "output_type": "stream",
     "text": [
      " - 5s - loss: 5.3601 - policy_head_loss: 4.4072 - value_head_loss: 0.8342 - val_loss: 5.5907 - val_policy_head_loss: 4.5338 - val_value_head_loss: 0.9387\n"
     ]
    },
    {
     "name": "stdout",
     "output_type": "stream",
     "text": [
      "Train on 3600 samples, validate on 400 samples\n"
     ]
    },
    {
     "name": "stdout",
     "output_type": "stream",
     "text": [
      " - 5s - loss: 5.3445 - policy_head_loss: 4.3841 - value_head_loss: 0.8423 - val_loss: 5.5826 - val_policy_head_loss: 4.5436 - val_value_head_loss: 0.9213\n"
     ]
    },
    {
     "name": "stdout",
     "output_type": "stream",
     "text": [
      "Round 25, against minimax: Counter({1: 10, 0: 0, -1: 0})\n"
     ]
    },
    {
     "name": "stdout",
     "output_type": "stream",
     "text": [
      "Round 25, against current best neural: Counter({1: 6, -1: 4, 0: 0})\n"
     ]
    },
    {
     "name": "stdout",
     "output_type": "stream",
     "text": [
      "553.9588956832886 seconds taken, 18.465296522776285 per game\n",
      "Train on 3600 samples, validate on 400 samples\n"
     ]
    },
    {
     "name": "stdout",
     "output_type": "stream",
     "text": [
      " - 5s - loss: 5.3309 - policy_head_loss: 4.3717 - value_head_loss: 0.8417 - val_loss: 5.5424 - val_policy_head_loss: 4.5255 - val_value_head_loss: 0.8998\n"
     ]
    },
    {
     "name": "stdout",
     "output_type": "stream",
     "text": [
      "Train on 3600 samples, validate on 400 samples\n"
     ]
    },
    {
     "name": "stdout",
     "output_type": "stream",
     "text": [
      " - 5s - loss: 5.3130 - policy_head_loss: 4.3482 - value_head_loss: 0.8479 - val_loss: 5.5244 - val_policy_head_loss: 4.4784 - val_value_head_loss: 0.9296\n"
     ]
    },
    {
     "name": "stdout",
     "output_type": "stream",
     "text": [
      "Train on 3600 samples, validate on 400 samples\n"
     ]
    },
    {
     "name": "stdout",
     "output_type": "stream",
     "text": [
      " - 5s - loss: 5.3022 - policy_head_loss: 4.3487 - value_head_loss: 0.8373 - val_loss: 5.5718 - val_policy_head_loss: 4.5320 - val_value_head_loss: 0.9240\n"
     ]
    },
    {
     "name": "stdout",
     "output_type": "stream",
     "text": [
      "Train on 3600 samples, validate on 400 samples\n"
     ]
    },
    {
     "name": "stdout",
     "output_type": "stream",
     "text": [
      " - 5s - loss: 5.3335 - policy_head_loss: 4.3824 - value_head_loss: 0.8355 - val_loss: 5.5389 - val_policy_head_loss: 4.5172 - val_value_head_loss: 0.9065\n"
     ]
    },
    {
     "name": "stdout",
     "output_type": "stream",
     "text": [
      "571.2875077724457 seconds taken, 19.04291692574819 per game\n",
      "Train on 3600 samples, validate on 400 samples\n"
     ]
    },
    {
     "name": "stdout",
     "output_type": "stream",
     "text": [
      " - 5s - loss: 5.3171 - policy_head_loss: 4.3681 - value_head_loss: 0.8340 - val_loss: 5.4729 - val_policy_head_loss: 4.4613 - val_value_head_loss: 0.8970\n"
     ]
    },
    {
     "name": "stdout",
     "output_type": "stream",
     "text": [
      "Train on 3600 samples, validate on 400 samples\n"
     ]
    },
    {
     "name": "stdout",
     "output_type": "stream",
     "text": [
      " - 5s - loss: 5.3919 - policy_head_loss: 4.4056 - value_head_loss: 0.8720 - val_loss: 5.5134 - val_policy_head_loss: 4.4850 - val_value_head_loss: 0.9144\n"
     ]
    },
    {
     "name": "stdout",
     "output_type": "stream",
     "text": [
      "Train on 3600 samples, validate on 400 samples\n"
     ]
    },
    {
     "name": "stdout",
     "output_type": "stream",
     "text": [
      " - 5s - loss: 5.2279 - policy_head_loss: 4.2934 - value_head_loss: 0.8207 - val_loss: 5.4529 - val_policy_head_loss: 4.4568 - val_value_head_loss: 0.8827\n"
     ]
    },
    {
     "name": "stdout",
     "output_type": "stream",
     "text": [
      "Train on 3600 samples, validate on 400 samples\n"
     ]
    },
    {
     "name": "stdout",
     "output_type": "stream",
     "text": [
      " - 5s - loss: 5.3120 - policy_head_loss: 4.3491 - value_head_loss: 0.8497 - val_loss: 5.5037 - val_policy_head_loss: 4.4703 - val_value_head_loss: 0.9205\n"
     ]
    },
    {
     "name": "stdout",
     "output_type": "stream",
     "text": [
      "675.7080881595612 seconds taken, 22.52360293865204 per game\n",
      "Train on 3600 samples, validate on 400 samples\n"
     ]
    },
    {
     "name": "stdout",
     "output_type": "stream",
     "text": [
      " - 5s - loss: 5.3363 - policy_head_loss: 4.3449 - value_head_loss: 0.8787 - val_loss: 5.4972 - val_policy_head_loss: 4.4862 - val_value_head_loss: 0.8988\n"
     ]
    },
    {
     "name": "stdout",
     "output_type": "stream",
     "text": [
      "Train on 3600 samples, validate on 400 samples\n"
     ]
    },
    {
     "name": "stdout",
     "output_type": "stream",
     "text": [
      " - 5s - loss: 5.2369 - policy_head_loss: 4.2689 - value_head_loss: 0.8559 - val_loss: 5.3894 - val_policy_head_loss: 4.3534 - val_value_head_loss: 0.9244\n"
     ]
    },
    {
     "name": "stdout",
     "output_type": "stream",
     "text": [
      "Train on 3600 samples, validate on 400 samples\n"
     ]
    },
    {
     "name": "stdout",
     "output_type": "stream",
     "text": [
      " - 6s - loss: 5.2751 - policy_head_loss: 4.3186 - value_head_loss: 0.8450 - val_loss: 5.4499 - val_policy_head_loss: 4.4069 - val_value_head_loss: 0.9319\n"
     ]
    },
    {
     "name": "stdout",
     "output_type": "stream",
     "text": [
      "Train on 3600 samples, validate on 400 samples\n"
     ]
    },
    {
     "name": "stdout",
     "output_type": "stream",
     "text": [
      " - 5s - loss: 5.3144 - policy_head_loss: 4.3521 - value_head_loss: 0.8513 - val_loss: 5.4769 - val_policy_head_loss: 4.4424 - val_value_head_loss: 0.9239\n"
     ]
    },
    {
     "name": "stdout",
     "output_type": "stream",
     "text": [
      "657.4748318195343 seconds taken, 21.91582772731781 per game\n",
      "Train on 3600 samples, validate on 400 samples\n"
     ]
    },
    {
     "name": "stdout",
     "output_type": "stream",
     "text": [
      " - 7s - loss: 5.2886 - policy_head_loss: 4.3079 - value_head_loss: 0.8704 - val_loss: 5.4655 - val_policy_head_loss: 4.4287 - val_value_head_loss: 0.9268\n"
     ]
    },
    {
     "name": "stdout",
     "output_type": "stream",
     "text": [
      "Train on 3600 samples, validate on 400 samples\n"
     ]
    },
    {
     "name": "stdout",
     "output_type": "stream",
     "text": [
      " - 6s - loss: 5.2343 - policy_head_loss: 4.2988 - value_head_loss: 0.8257 - val_loss: 5.3955 - val_policy_head_loss: 4.4001 - val_value_head_loss: 0.8859\n"
     ]
    },
    {
     "name": "stdout",
     "output_type": "stream",
     "text": [
      "Train on 3600 samples, validate on 400 samples\n"
     ]
    },
    {
     "name": "stdout",
     "output_type": "stream",
     "text": [
      " - 7s - loss: 5.2393 - policy_head_loss: 4.2897 - value_head_loss: 0.8403 - val_loss: 5.3544 - val_policy_head_loss: 4.3579 - val_value_head_loss: 0.8875\n"
     ]
    },
    {
     "name": "stdout",
     "output_type": "stream",
     "text": [
      "Train on 3600 samples, validate on 400 samples\n"
     ]
    },
    {
     "name": "stdout",
     "output_type": "stream",
     "text": [
      " - 7s - loss: 5.2384 - policy_head_loss: 4.3080 - value_head_loss: 0.8217 - val_loss: 5.3827 - val_policy_head_loss: 4.3456 - val_value_head_loss: 0.9286\n"
     ]
    },
    {
     "name": "stdout",
     "output_type": "stream",
     "text": [
      "740.0872340202332 seconds taken, 24.669574467341103 per game\n",
      "Train on 3600 samples, validate on 400 samples\n"
     ]
    },
    {
     "name": "stdout",
     "output_type": "stream",
     "text": [
      " - 5s - loss: 5.3034 - policy_head_loss: 4.3403 - value_head_loss: 0.8547 - val_loss: 5.4467 - val_policy_head_loss: 4.4248 - val_value_head_loss: 0.9139\n"
     ]
    },
    {
     "name": "stdout",
     "output_type": "stream",
     "text": [
      "Train on 3600 samples, validate on 400 samples\n"
     ]
    },
    {
     "name": "stdout",
     "output_type": "stream",
     "text": [
      " - 5s - loss: 5.2666 - policy_head_loss: 4.2985 - value_head_loss: 0.8603 - val_loss: 5.3962 - val_policy_head_loss: 4.3824 - val_value_head_loss: 0.9063\n"
     ]
    },
    {
     "name": "stdout",
     "output_type": "stream",
     "text": [
      "Train on 3600 samples, validate on 400 samples\n"
     ]
    },
    {
     "name": "stdout",
     "output_type": "stream",
     "text": [
      " - 5s - loss: 5.2761 - policy_head_loss: 4.3305 - value_head_loss: 0.8383 - val_loss: 5.4035 - val_policy_head_loss: 4.3937 - val_value_head_loss: 0.9029\n"
     ]
    },
    {
     "name": "stdout",
     "output_type": "stream",
     "text": [
      "Train on 3600 samples, validate on 400 samples\n"
     ]
    },
    {
     "name": "stdout",
     "output_type": "stream",
     "text": [
      " - 5s - loss: 5.3210 - policy_head_loss: 4.3652 - value_head_loss: 0.8490 - val_loss: 5.4470 - val_policy_head_loss: 4.4398 - val_value_head_loss: 0.9007\n"
     ]
    },
    {
     "name": "stdout",
     "output_type": "stream",
     "text": [
      "Round 30, against minimax: Counter({1: 8, -1: 2, 0: 0})\n"
     ]
    },
    {
     "name": "stdout",
     "output_type": "stream",
     "text": [
      "Round 30, against current best neural: Counter({1: 6, -1: 4, 0: 0})\n"
     ]
    },
    {
     "name": "stdout",
     "output_type": "stream",
     "text": [
      "717.1509947776794 seconds taken, 23.905033159255982 per game\n",
      "Train on 3600 samples, validate on 400 samples\n"
     ]
    },
    {
     "name": "stdout",
     "output_type": "stream",
     "text": [
      " - 5s - loss: 5.3007 - policy_head_loss: 4.3218 - value_head_loss: 0.8727 - val_loss: 5.4725 - val_policy_head_loss: 4.4356 - val_value_head_loss: 0.9310\n"
     ]
    },
    {
     "name": "stdout",
     "output_type": "stream",
     "text": [
      "Train on 3600 samples, validate on 400 samples\n"
     ]
    },
    {
     "name": "stdout",
     "output_type": "stream",
     "text": [
      " - 5s - loss: 5.2748 - policy_head_loss: 4.3015 - value_head_loss: 0.8675 - val_loss: 5.4101 - val_policy_head_loss: 4.3875 - val_value_head_loss: 0.9172\n"
     ]
    },
    {
     "name": "stdout",
     "output_type": "stream",
     "text": [
      "Train on 3600 samples, validate on 400 samples\n"
     ]
    },
    {
     "name": "stdout",
     "output_type": "stream",
     "text": [
      " - 5s - loss: 5.2350 - policy_head_loss: 4.2939 - value_head_loss: 0.8359 - val_loss: 5.4002 - val_policy_head_loss: 4.4044 - val_value_head_loss: 0.8910\n"
     ]
    },
    {
     "name": "stdout",
     "output_type": "stream",
     "text": [
      "Train on 3600 samples, validate on 400 samples\n"
     ]
    },
    {
     "name": "stdout",
     "output_type": "stream",
     "text": [
      " - 5s - loss: 5.2823 - policy_head_loss: 4.3260 - value_head_loss: 0.8515 - val_loss: 5.3408 - val_policy_head_loss: 4.3757 - val_value_head_loss: 0.8607\n"
     ]
    },
    {
     "name": "stdout",
     "output_type": "stream",
     "text": [
      "701.5248885154724 seconds taken, 23.384162950515748 per game\n",
      "Train on 3600 samples, validate on 400 samples\n"
     ]
    },
    {
     "name": "stdout",
     "output_type": "stream",
     "text": [
      " - 5s - loss: 5.2643 - policy_head_loss: 4.3009 - value_head_loss: 0.8592 - val_loss: 5.3559 - val_policy_head_loss: 4.3555 - val_value_head_loss: 0.8964\n"
     ]
    },
    {
     "name": "stdout",
     "output_type": "stream",
     "text": [
      "Train on 3600 samples, validate on 400 samples\n"
     ]
    },
    {
     "name": "stdout",
     "output_type": "stream",
     "text": [
      " - 5s - loss: 5.1965 - policy_head_loss: 4.2707 - value_head_loss: 0.8221 - val_loss: 5.2414 - val_policy_head_loss: 4.2622 - val_value_head_loss: 0.8757\n"
     ]
    },
    {
     "name": "stdout",
     "output_type": "stream",
     "text": [
      "Train on 3600 samples, validate on 400 samples\n"
     ]
    },
    {
     "name": "stdout",
     "output_type": "stream",
     "text": [
      " - 6s - loss: 5.1730 - policy_head_loss: 4.2230 - value_head_loss: 0.8465 - val_loss: 5.3585 - val_policy_head_loss: 4.3240 - val_value_head_loss: 0.9315\n"
     ]
    },
    {
     "name": "stdout",
     "output_type": "stream",
     "text": [
      "Train on 3600 samples, validate on 400 samples\n"
     ]
    },
    {
     "name": "stdout",
     "output_type": "stream",
     "text": [
      " - 6s - loss: 5.2647 - policy_head_loss: 4.3044 - value_head_loss: 0.8574 - val_loss: 5.3368 - val_policy_head_loss: 4.3251 - val_value_head_loss: 0.9090\n"
     ]
    },
    {
     "name": "stdout",
     "output_type": "stream",
     "text": [
      "705.0402238368988 seconds taken, 23.501340794563294 per game\n",
      "Train on 3600 samples, validate on 400 samples\n"
     ]
    },
    {
     "name": "stdout",
     "output_type": "stream",
     "text": [
      " - 5s - loss: 5.2696 - policy_head_loss: 4.3004 - value_head_loss: 0.8667 - val_loss: 5.3937 - val_policy_head_loss: 4.3907 - val_value_head_loss: 0.9008\n"
     ]
    },
    {
     "name": "stdout",
     "output_type": "stream",
     "text": [
      "Train on 3600 samples, validate on 400 samples\n"
     ]
    },
    {
     "name": "stdout",
     "output_type": "stream",
     "text": [
      " - 5s - loss: 5.2716 - policy_head_loss: 4.3007 - value_head_loss: 0.8688 - val_loss: 5.3640 - val_policy_head_loss: 4.3594 - val_value_head_loss: 0.9029\n"
     ]
    },
    {
     "name": "stdout",
     "output_type": "stream",
     "text": [
      "Train on 3600 samples, validate on 400 samples\n"
     ]
    },
    {
     "name": "stdout",
     "output_type": "stream",
     "text": [
      " - 5s - loss: 5.2352 - policy_head_loss: 4.2727 - value_head_loss: 0.8609 - val_loss: 5.2704 - val_policy_head_loss: 4.2768 - val_value_head_loss: 0.8923\n"
     ]
    },
    {
     "name": "stdout",
     "output_type": "stream",
     "text": [
      "Train on 3600 samples, validate on 400 samples\n"
     ]
    },
    {
     "name": "stdout",
     "output_type": "stream",
     "text": [
      " - 5s - loss: 5.2138 - policy_head_loss: 4.2381 - value_head_loss: 0.8746 - val_loss: 5.3041 - val_policy_head_loss: 4.2925 - val_value_head_loss: 0.9107\n"
     ]
    },
    {
     "name": "stdout",
     "output_type": "stream",
     "text": [
      "757.4227442741394 seconds taken, 25.24742480913798 per game\n",
      "Train on 3600 samples, validate on 400 samples\n"
     ]
    },
    {
     "name": "stdout",
     "output_type": "stream",
     "text": [
      " - 5s - loss: 5.2336 - policy_head_loss: 4.2601 - value_head_loss: 0.8728 - val_loss: 5.3057 - val_policy_head_loss: 4.2905 - val_value_head_loss: 0.9149\n"
     ]
    },
    {
     "name": "stdout",
     "output_type": "stream",
     "text": [
      "Train on 3600 samples, validate on 400 samples\n"
     ]
    },
    {
     "name": "stdout",
     "output_type": "stream",
     "text": [
      " - 5s - loss: 5.2530 - policy_head_loss: 4.2722 - value_head_loss: 0.8805 - val_loss: 5.3678 - val_policy_head_loss: 4.3399 - val_value_head_loss: 0.9279\n"
     ]
    },
    {
     "name": "stdout",
     "output_type": "stream",
     "text": [
      "Train on 3600 samples, validate on 400 samples\n"
     ]
    },
    {
     "name": "stdout",
     "output_type": "stream",
     "text": [
      " - 5s - loss: 5.2153 - policy_head_loss: 4.2687 - value_head_loss: 0.8468 - val_loss: 5.3498 - val_policy_head_loss: 4.3513 - val_value_head_loss: 0.8990\n"
     ]
    },
    {
     "name": "stdout",
     "output_type": "stream",
     "text": [
      "Train on 3600 samples, validate on 400 samples\n"
     ]
    },
    {
     "name": "stdout",
     "output_type": "stream",
     "text": [
      " - 5s - loss: 5.2461 - policy_head_loss: 4.2721 - value_head_loss: 0.8746 - val_loss: 5.3268 - val_policy_head_loss: 4.2951 - val_value_head_loss: 0.9326\n"
     ]
    },
    {
     "name": "stdout",
     "output_type": "stream",
     "text": [
      "740.6609373092651 seconds taken, 24.68869791030884 per game\n",
      "Train on 3600 samples, validate on 400 samples\n"
     ]
    },
    {
     "name": "stdout",
     "output_type": "stream",
     "text": [
      " - 5s - loss: 5.2775 - policy_head_loss: 4.2964 - value_head_loss: 0.8821 - val_loss: 5.3530 - val_policy_head_loss: 4.3338 - val_value_head_loss: 0.9205\n"
     ]
    },
    {
     "name": "stdout",
     "output_type": "stream",
     "text": [
      "Train on 3600 samples, validate on 400 samples\n"
     ]
    },
    {
     "name": "stdout",
     "output_type": "stream",
     "text": [
      " - 5s - loss: 5.2133 - policy_head_loss: 4.2459 - value_head_loss: 0.8689 - val_loss: 5.3188 - val_policy_head_loss: 4.2903 - val_value_head_loss: 0.9302\n"
     ]
    },
    {
     "name": "stdout",
     "output_type": "stream",
     "text": [
      "Train on 3600 samples, validate on 400 samples\n"
     ]
    },
    {
     "name": "stdout",
     "output_type": "stream",
     "text": [
      " - 5s - loss: 5.2283 - policy_head_loss: 4.2506 - value_head_loss: 0.8796 - val_loss: 5.2921 - val_policy_head_loss: 4.2886 - val_value_head_loss: 0.9057\n"
     ]
    },
    {
     "name": "stdout",
     "output_type": "stream",
     "text": [
      "Train on 3600 samples, validate on 400 samples\n"
     ]
    },
    {
     "name": "stdout",
     "output_type": "stream",
     "text": [
      " - 5s - loss: 5.2301 - policy_head_loss: 4.2429 - value_head_loss: 0.8895 - val_loss: 5.2283 - val_policy_head_loss: 4.2729 - val_value_head_loss: 0.8579\n"
     ]
    },
    {
     "name": "stdout",
     "output_type": "stream",
     "text": [
      "Round 35, against minimax: Counter({1: 9, -1: 1, 0: 0})\n"
     ]
    },
    {
     "name": "stdout",
     "output_type": "stream",
     "text": [
      "Round 35, against current best neural: Counter({-1: 8, 1: 2, 0: 0})\n",
      "Ratcheting best agent\n"
     ]
    },
    {
     "name": "stderr",
     "output_type": "stream",
     "text": [
      "Exception in thread ray_listen_error_messages:\n",
      "Traceback (most recent call last):\n",
      "  File \"/home/derick/anaconda3/envs/gai-project/lib/python3.7/site-packages/redis/connection.py\", line 185, in _read_from_socket\n",
      "    raise socket.error(SERVER_CLOSED_CONNECTION_ERROR)\n",
      "OSError: Connection closed by server.\n",
      "\n",
      "During handling of the above exception, another exception occurred:\n",
      "\n",
      "Traceback (most recent call last):\n",
      "  File \"/home/derick/anaconda3/envs/gai-project/lib/python3.7/threading.py\", line 917, in _bootstrap_inner\n",
      "    self.run()\n",
      "  File \"/home/derick/anaconda3/envs/gai-project/lib/python3.7/threading.py\", line 865, in run\n",
      "    self._target(*self._args, **self._kwargs)\n",
      "  File \"/home/derick/anaconda3/envs/gai-project/lib/python3.7/site-packages/ray/worker.py\", line 1758, in listen_error_messages_raylet\n",
      "    msg = worker.error_message_pubsub_client.get_message()\n",
      "  File \"/home/derick/anaconda3/envs/gai-project/lib/python3.7/site-packages/redis/client.py\", line 3135, in get_message\n",
      "    response = self.parse_response(block=False, timeout=timeout)\n",
      "  File \"/home/derick/anaconda3/envs/gai-project/lib/python3.7/site-packages/redis/client.py\", line 3036, in parse_response\n",
      "    return self._execute(connection, connection.read_response)\n",
      "  File \"/home/derick/anaconda3/envs/gai-project/lib/python3.7/site-packages/redis/client.py\", line 3013, in _execute\n",
      "    return command(*args)\n",
      "  File \"/home/derick/anaconda3/envs/gai-project/lib/python3.7/site-packages/redis/connection.py\", line 637, in read_response\n",
      "    response = self._parser.read_response()\n",
      "  File \"/home/derick/anaconda3/envs/gai-project/lib/python3.7/site-packages/redis/connection.py\", line 290, in read_response\n",
      "    response = self._buffer.readline()\n",
      "  File \"/home/derick/anaconda3/envs/gai-project/lib/python3.7/site-packages/redis/connection.py\", line 224, in readline\n",
      "    self._read_from_socket()\n",
      "  File \"/home/derick/anaconda3/envs/gai-project/lib/python3.7/site-packages/redis/connection.py\", line 199, in _read_from_socket\n",
      "    (e.args,))\n",
      "redis.exceptions.ConnectionError: Error while reading from socket: ('Connection closed by server.',)\n",
      "\n",
      "Exception in thread ray_import_thread:\n",
      "Traceback (most recent call last):\n",
      "  File \"/home/derick/anaconda3/envs/gai-project/lib/python3.7/site-packages/redis/connection.py\", line 185, in _read_from_socket\n",
      "    raise socket.error(SERVER_CLOSED_CONNECTION_ERROR)\n",
      "OSError: Connection closed by server.\n",
      "\n",
      "During handling of the above exception, another exception occurred:\n",
      "\n",
      "Traceback (most recent call last):\n",
      "  File \"/home/derick/anaconda3/envs/gai-project/lib/python3.7/threading.py\", line 917, in _bootstrap_inner\n",
      "    self.run()\n",
      "  File \"/home/derick/anaconda3/envs/gai-project/lib/python3.7/threading.py\", line 865, in run\n",
      "    self._target(*self._args, **self._kwargs)\n",
      "  File \"/home/derick/anaconda3/envs/gai-project/lib/python3.7/site-packages/ray/import_thread.py\", line 70, in _run\n",
      "    msg = import_pubsub_client.get_message()\n",
      "  File \"/home/derick/anaconda3/envs/gai-project/lib/python3.7/site-packages/redis/client.py\", line 3135, in get_message\n",
      "    response = self.parse_response(block=False, timeout=timeout)\n",
      "  File \"/home/derick/anaconda3/envs/gai-project/lib/python3.7/site-packages/redis/client.py\", line 3036, in parse_response\n",
      "    return self._execute(connection, connection.read_response)\n",
      "  File \"/home/derick/anaconda3/envs/gai-project/lib/python3.7/site-packages/redis/client.py\", line 3013, in _execute\n",
      "    return command(*args)\n",
      "  File \"/home/derick/anaconda3/envs/gai-project/lib/python3.7/site-packages/redis/connection.py\", line 637, in read_response\n",
      "    response = self._parser.read_response()\n",
      "  File \"/home/derick/anaconda3/envs/gai-project/lib/python3.7/site-packages/redis/connection.py\", line 290, in read_response\n",
      "    response = self._buffer.readline()\n",
      "  File \"/home/derick/anaconda3/envs/gai-project/lib/python3.7/site-packages/redis/connection.py\", line 224, in readline\n",
      "    self._read_from_socket()\n",
      "  File \"/home/derick/anaconda3/envs/gai-project/lib/python3.7/site-packages/redis/connection.py\", line 199, in _read_from_socket\n",
      "    (e.args,))\n",
      "redis.exceptions.ConnectionError: Error while reading from socket: ('Connection closed by server.',)\n",
      "Exception in thread ray_print_logs:\n",
      "Traceback (most recent call last):\n",
      "  File \"/home/derick/anaconda3/envs/gai-project/lib/python3.7/site-packages/redis/connection.py\", line 185, in _read_from_socket\n",
      "    raise socket.error(SERVER_CLOSED_CONNECTION_ERROR)\n",
      "OSError: Connection closed by server.\n",
      "\n",
      "During handling of the above exception, another exception occurred:\n",
      "\n",
      "Traceback (most recent call last):\n",
      "  File \"/home/derick/anaconda3/envs/gai-project/lib/python3.7/threading.py\", line 917, in _bootstrap_inner\n",
      "    self.run()\n",
      "  File \"/home/derick/anaconda3/envs/gai-project/lib/python3.7/threading.py\", line 865, in run\n",
      "    self._target(*self._args, **self._kwargs)\n",
      "  File \"/home/derick/anaconda3/envs/gai-project/lib/python3.7/site-packages/ray/worker.py\", line 1655, in print_logs\n",
      "    msg = pubsub_client.get_message()\n",
      "  File \"/home/derick/anaconda3/envs/gai-project/lib/python3.7/site-packages/redis/client.py\", line 3135, in get_message\n",
      "    response = self.parse_response(block=False, timeout=timeout)\n",
      "  File \"/home/derick/anaconda3/envs/gai-project/lib/python3.7/site-packages/redis/client.py\", line 3036, in parse_response\n",
      "    return self._execute(connection, connection.read_response)\n",
      "  File \"/home/derick/anaconda3/envs/gai-project/lib/python3.7/site-packages/redis/client.py\", line 3013, in _execute\n",
      "    return command(*args)\n",
      "  File \"/home/derick/anaconda3/envs/gai-project/lib/python3.7/site-packages/redis/connection.py\", line 637, in read_response\n",
      "    response = self._parser.read_response()\n",
      "  File \"/home/derick/anaconda3/envs/gai-project/lib/python3.7/site-packages/redis/connection.py\", line 290, in read_response\n",
      "    response = self._buffer.readline()\n",
      "  File \"/home/derick/anaconda3/envs/gai-project/lib/python3.7/site-packages/redis/connection.py\", line 224, in readline\n",
      "    self._read_from_socket()\n",
      "  File \"/home/derick/anaconda3/envs/gai-project/lib/python3.7/site-packages/redis/connection.py\", line 199, in _read_from_socket\n",
      "    (e.args,))\n",
      "redis.exceptions.ConnectionError: Error while reading from socket: ('Connection closed by server.',)\n",
      "\n",
      "\n"
     ]
    },
    {
     "ename": "KeyboardInterrupt",
     "evalue": "",
     "output_type": "error",
     "traceback": [
      "\u001b[0;31m\u001b[0m",
      "\u001b[0;31mKeyboardInterrupt\u001b[0mTraceback (most recent call last)",
      "\u001b[0;32m<ipython-input-9-151f554d5af0>\u001b[0m in \u001b[0;36m<module>\u001b[0;34m\u001b[0m\n\u001b[1;32m      5\u001b[0m                           \u001b[0;36m30\u001b[0m\u001b[0;34m,\u001b[0m\u001b[0;34m\u001b[0m\u001b[0;34m\u001b[0m\u001b[0m\n\u001b[1;32m      6\u001b[0m                           \u001b[0mverbose\u001b[0m\u001b[0;34m=\u001b[0m\u001b[0;32mTrue\u001b[0m\u001b[0;34m,\u001b[0m\u001b[0;34m\u001b[0m\u001b[0;34m\u001b[0m\u001b[0m\n\u001b[0;32m----> 7\u001b[0;31m                           num_workers=3)\n\u001b[0m\u001b[1;32m      8\u001b[0m     \u001b[0;32mfor\u001b[0m \u001b[0me\u001b[0m \u001b[0;32min\u001b[0m \u001b[0mrange\u001b[0m\u001b[0;34m(\u001b[0m\u001b[0;36m4\u001b[0m\u001b[0;34m)\u001b[0m\u001b[0;34m:\u001b[0m\u001b[0;34m\u001b[0m\u001b[0;34m\u001b[0m\u001b[0m\n\u001b[1;32m      9\u001b[0m         \u001b[0mcurrent_agent\u001b[0m\u001b[0;34m.\u001b[0m\u001b[0mfit\u001b[0m\u001b[0;34m(\u001b[0m\u001b[0mview\u001b[0m\u001b[0;34m.\u001b[0m\u001b[0mget_experiences\u001b[0m\u001b[0;34m(\u001b[0m\u001b[0msample_k\u001b[0m\u001b[0;34m=\u001b[0m\u001b[0;36m1000\u001b[0m\u001b[0;34m)\u001b[0m\u001b[0;34m,\u001b[0m \u001b[0mepochs\u001b[0m\u001b[0;34m=\u001b[0m\u001b[0;36m1\u001b[0m\u001b[0;34m)\u001b[0m\u001b[0;34m\u001b[0m\u001b[0;34m\u001b[0m\u001b[0m\n",
      "\u001b[0;32m~/code/gai-final-project/pentago/pentago/multi.py\u001b[0m in \u001b[0;36mself_play_games\u001b[0;34m(agent, view, num_games, num_workers, verbose)\u001b[0m\n\u001b[1;32m     35\u001b[0m         \u001b[0mgame_tasks\u001b[0m\u001b[0;34m.\u001b[0m\u001b[0mappend\u001b[0m\u001b[0;34m(\u001b[0m\u001b[0mworkers\u001b[0m\u001b[0;34m[\u001b[0m\u001b[0mi\u001b[0m \u001b[0;34m%\u001b[0m \u001b[0mnum_workers\u001b[0m\u001b[0;34m]\u001b[0m\u001b[0;34m.\u001b[0m\u001b[0mrun_one_game\u001b[0m\u001b[0;34m.\u001b[0m\u001b[0mremote\u001b[0m\u001b[0;34m(\u001b[0m\u001b[0;34m)\u001b[0m\u001b[0;34m)\u001b[0m\u001b[0;34m\u001b[0m\u001b[0;34m\u001b[0m\u001b[0m\n\u001b[1;32m     36\u001b[0m \u001b[0;34m\u001b[0m\u001b[0m\n\u001b[0;32m---> 37\u001b[0;31m     \u001b[0mgame_results\u001b[0m \u001b[0;34m=\u001b[0m \u001b[0mlist\u001b[0m\u001b[0;34m(\u001b[0m\u001b[0mitertools\u001b[0m\u001b[0;34m.\u001b[0m\u001b[0mchain\u001b[0m\u001b[0;34m.\u001b[0m\u001b[0mfrom_iterable\u001b[0m\u001b[0;34m(\u001b[0m\u001b[0mray\u001b[0m\u001b[0;34m.\u001b[0m\u001b[0mget\u001b[0m\u001b[0;34m(\u001b[0m\u001b[0mgame_tasks\u001b[0m\u001b[0;34m)\u001b[0m\u001b[0;34m)\u001b[0m\u001b[0;34m)\u001b[0m\u001b[0;34m\u001b[0m\u001b[0;34m\u001b[0m\u001b[0m\n\u001b[0m\u001b[1;32m     38\u001b[0m     \u001b[0mview\u001b[0m\u001b[0;34m.\u001b[0m\u001b[0m_add_experiences\u001b[0m\u001b[0;34m(\u001b[0m\u001b[0mgame_results\u001b[0m\u001b[0;34m)\u001b[0m\u001b[0;34m\u001b[0m\u001b[0;34m\u001b[0m\u001b[0m\n\u001b[1;32m     39\u001b[0m     \u001b[0mend_time\u001b[0m \u001b[0;34m=\u001b[0m \u001b[0mtime\u001b[0m\u001b[0;34m.\u001b[0m\u001b[0mtime\u001b[0m\u001b[0;34m(\u001b[0m\u001b[0;34m)\u001b[0m\u001b[0;34m\u001b[0m\u001b[0;34m\u001b[0m\u001b[0m\n",
      "\u001b[0;32m~/anaconda3/envs/gai-project/lib/python3.7/site-packages/ray/worker.py\u001b[0m in \u001b[0;36mget\u001b[0;34m(object_ids)\u001b[0m\n\u001b[1;32m   2301\u001b[0m         \u001b[0;32mglobal\u001b[0m \u001b[0mlast_task_error_raise_time\u001b[0m\u001b[0;34m\u001b[0m\u001b[0;34m\u001b[0m\u001b[0m\n\u001b[1;32m   2302\u001b[0m         \u001b[0;32mif\u001b[0m \u001b[0misinstance\u001b[0m\u001b[0;34m(\u001b[0m\u001b[0mobject_ids\u001b[0m\u001b[0;34m,\u001b[0m \u001b[0mlist\u001b[0m\u001b[0;34m)\u001b[0m\u001b[0;34m:\u001b[0m\u001b[0;34m\u001b[0m\u001b[0;34m\u001b[0m\u001b[0m\n\u001b[0;32m-> 2303\u001b[0;31m             \u001b[0mvalues\u001b[0m \u001b[0;34m=\u001b[0m \u001b[0mworker\u001b[0m\u001b[0;34m.\u001b[0m\u001b[0mget_object\u001b[0m\u001b[0;34m(\u001b[0m\u001b[0mobject_ids\u001b[0m\u001b[0;34m)\u001b[0m\u001b[0;34m\u001b[0m\u001b[0;34m\u001b[0m\u001b[0m\n\u001b[0m\u001b[1;32m   2304\u001b[0m             \u001b[0;32mfor\u001b[0m \u001b[0mi\u001b[0m\u001b[0;34m,\u001b[0m \u001b[0mvalue\u001b[0m \u001b[0;32min\u001b[0m \u001b[0menumerate\u001b[0m\u001b[0;34m(\u001b[0m\u001b[0mvalues\u001b[0m\u001b[0;34m)\u001b[0m\u001b[0;34m:\u001b[0m\u001b[0;34m\u001b[0m\u001b[0;34m\u001b[0m\u001b[0m\n\u001b[1;32m   2305\u001b[0m                 \u001b[0;32mif\u001b[0m \u001b[0misinstance\u001b[0m\u001b[0;34m(\u001b[0m\u001b[0mvalue\u001b[0m\u001b[0;34m,\u001b[0m \u001b[0mRayError\u001b[0m\u001b[0;34m)\u001b[0m\u001b[0;34m:\u001b[0m\u001b[0;34m\u001b[0m\u001b[0;34m\u001b[0m\u001b[0m\n",
      "\u001b[0;32m~/anaconda3/envs/gai-project/lib/python3.7/site-packages/ray/worker.py\u001b[0m in \u001b[0;36mget_object\u001b[0;34m(self, object_ids)\u001b[0m\n\u001b[1;32m    535\u001b[0m                     max([\n\u001b[1;32m    536\u001b[0m                         \u001b[0mray\u001b[0m\u001b[0;34m.\u001b[0m\u001b[0m_config\u001b[0m\u001b[0;34m.\u001b[0m\u001b[0mget_timeout_milliseconds\u001b[0m\u001b[0;34m(\u001b[0m\u001b[0;34m)\u001b[0m\u001b[0;34m,\u001b[0m\u001b[0;34m\u001b[0m\u001b[0;34m\u001b[0m\u001b[0m\n\u001b[0;32m--> 537\u001b[0;31m                         \u001b[0mint\u001b[0m\u001b[0;34m(\u001b[0m\u001b[0;36m0.01\u001b[0m \u001b[0;34m*\u001b[0m \u001b[0mlen\u001b[0m\u001b[0;34m(\u001b[0m\u001b[0munready_ids\u001b[0m\u001b[0;34m)\u001b[0m\u001b[0;34m)\u001b[0m\u001b[0;34m,\u001b[0m\u001b[0;34m\u001b[0m\u001b[0;34m\u001b[0m\u001b[0m\n\u001b[0m\u001b[1;32m    538\u001b[0m                     ]),\n\u001b[1;32m    539\u001b[0m                 )\n",
      "\u001b[0;32m~/anaconda3/envs/gai-project/lib/python3.7/site-packages/ray/worker.py\u001b[0m in \u001b[0;36mretrieve_and_deserialize\u001b[0;34m(self, object_ids, timeout, error_timeout)\u001b[0m\n\u001b[1;32m    409\u001b[0m                         \u001b[0mobject_ids\u001b[0m\u001b[0;34m[\u001b[0m\u001b[0mi\u001b[0m\u001b[0;34m:\u001b[0m\u001b[0mi\u001b[0m \u001b[0;34m+\u001b[0m \u001b[0mbatch_size\u001b[0m\u001b[0;34m]\u001b[0m\u001b[0;34m,\u001b[0m\u001b[0;34m\u001b[0m\u001b[0;34m\u001b[0m\u001b[0m\n\u001b[1;32m    410\u001b[0m                         \u001b[0mtimeout\u001b[0m\u001b[0;34m,\u001b[0m\u001b[0;34m\u001b[0m\u001b[0;34m\u001b[0m\u001b[0m\n\u001b[0;32m--> 411\u001b[0;31m                         \u001b[0mwith_meta\u001b[0m\u001b[0;34m=\u001b[0m\u001b[0;32mTrue\u001b[0m\u001b[0;34m,\u001b[0m\u001b[0;34m\u001b[0m\u001b[0;34m\u001b[0m\u001b[0m\n\u001b[0m\u001b[1;32m    412\u001b[0m                     )\n\u001b[1;32m    413\u001b[0m                     \u001b[0;32mfor\u001b[0m \u001b[0mj\u001b[0m \u001b[0;32min\u001b[0m \u001b[0mrange\u001b[0m\u001b[0;34m(\u001b[0m\u001b[0mlen\u001b[0m\u001b[0;34m(\u001b[0m\u001b[0mmetadata_data_pairs\u001b[0m\u001b[0;34m)\u001b[0m\u001b[0;34m)\u001b[0m\u001b[0;34m:\u001b[0m\u001b[0;34m\u001b[0m\u001b[0;34m\u001b[0m\u001b[0m\n",
      "\u001b[0;32m~/anaconda3/envs/gai-project/lib/python3.7/site-packages/ray/utils.py\u001b[0m in \u001b[0;36m_wrapper\u001b[0;34m(*args, **kwargs)\u001b[0m\n\u001b[1;32m    473\u001b[0m                 \u001b[0;32mdef\u001b[0m \u001b[0m_wrapper\u001b[0m\u001b[0;34m(\u001b[0m\u001b[0;34m*\u001b[0m\u001b[0margs\u001b[0m\u001b[0;34m,\u001b[0m \u001b[0;34m**\u001b[0m\u001b[0mkwargs\u001b[0m\u001b[0;34m)\u001b[0m\u001b[0;34m:\u001b[0m\u001b[0;34m\u001b[0m\u001b[0;34m\u001b[0m\u001b[0m\n\u001b[1;32m    474\u001b[0m                     \u001b[0;32mwith\u001b[0m \u001b[0mself\u001b[0m\u001b[0;34m.\u001b[0m\u001b[0mlock\u001b[0m\u001b[0;34m:\u001b[0m\u001b[0;34m\u001b[0m\u001b[0;34m\u001b[0m\u001b[0m\n\u001b[0;32m--> 475\u001b[0;31m                         \u001b[0;32mreturn\u001b[0m \u001b[0morig_attr\u001b[0m\u001b[0;34m(\u001b[0m\u001b[0;34m*\u001b[0m\u001b[0margs\u001b[0m\u001b[0;34m,\u001b[0m \u001b[0;34m**\u001b[0m\u001b[0mkwargs\u001b[0m\u001b[0;34m)\u001b[0m\u001b[0;34m\u001b[0m\u001b[0;34m\u001b[0m\u001b[0m\n\u001b[0m\u001b[1;32m    476\u001b[0m \u001b[0;34m\u001b[0m\u001b[0m\n\u001b[1;32m    477\u001b[0m                 \u001b[0mself\u001b[0m\u001b[0;34m.\u001b[0m\u001b[0m_wrapper_cache\u001b[0m\u001b[0;34m[\u001b[0m\u001b[0mattr\u001b[0m\u001b[0;34m]\u001b[0m \u001b[0;34m=\u001b[0m \u001b[0m_wrapper\u001b[0m\u001b[0;34m\u001b[0m\u001b[0;34m\u001b[0m\u001b[0m\n",
      "\u001b[0;32m~/anaconda3/envs/gai-project/lib/python3.7/site-packages/ray/pyarrow_files/pyarrow/_plasma.pyx\u001b[0m in \u001b[0;36mpyarrow._plasma.PlasmaClient.get_buffers\u001b[0;34m()\u001b[0m\n",
      "\u001b[0;32m~/anaconda3/envs/gai-project/lib/python3.7/site-packages/ray/pyarrow_files/pyarrow/_plasma.pyx\u001b[0m in \u001b[0;36mpyarrow._plasma.PlasmaClient._get_object_buffers\u001b[0;34m()\u001b[0m\n",
      "\u001b[0;32m~/anaconda3/envs/gai-project/lib/python3.7/site-packages/ray/pyarrow_files/pyarrow/error.pxi\u001b[0m in \u001b[0;36mpyarrow.lib.check_status\u001b[0;34m()\u001b[0m\n",
      "\u001b[0;32m~/anaconda3/envs/gai-project/lib/python3.7/site-packages/ray/pyarrow_files/pyarrow/compat.py\u001b[0m in \u001b[0;36mfrombytes\u001b[0;34m(o)\u001b[0m\n\u001b[1;32m    140\u001b[0m             \u001b[0;32mreturn\u001b[0m \u001b[0mo\u001b[0m\u001b[0;34m\u001b[0m\u001b[0;34m\u001b[0m\u001b[0m\n\u001b[1;32m    141\u001b[0m \u001b[0;34m\u001b[0m\u001b[0m\n\u001b[0;32m--> 142\u001b[0;31m     \u001b[0;32mdef\u001b[0m \u001b[0mfrombytes\u001b[0m\u001b[0;34m(\u001b[0m\u001b[0mo\u001b[0m\u001b[0;34m)\u001b[0m\u001b[0;34m:\u001b[0m\u001b[0;34m\u001b[0m\u001b[0;34m\u001b[0m\u001b[0m\n\u001b[0m\u001b[1;32m    143\u001b[0m         \u001b[0;32mreturn\u001b[0m \u001b[0mo\u001b[0m\u001b[0;34m.\u001b[0m\u001b[0mdecode\u001b[0m\u001b[0;34m(\u001b[0m\u001b[0;34m'utf8'\u001b[0m\u001b[0;34m)\u001b[0m\u001b[0;34m\u001b[0m\u001b[0;34m\u001b[0m\u001b[0m\n\u001b[1;32m    144\u001b[0m \u001b[0;34m\u001b[0m\u001b[0m\n",
      "\u001b[0;31mKeyboardInterrupt\u001b[0m: "
     ]
    }
   ],
   "source": [
    "while True:\n",
    "    round += 1\n",
    "    multi.self_play_games(current_agent,\n",
    "                          view,\n",
    "                          30,\n",
    "                          verbose=True,\n",
    "                          num_workers=3)\n",
    "    for e in range(4):\n",
    "        current_agent.fit(view.get_experiences(sample_k=1000), epochs=1)\n",
    "    if round % 5 == 0:\n",
    "        wins = multi.tally_wins([minimax.MinimaxSearchAgent(), current_agent], 10, num_workers=3)\n",
    "        print('Round {}, against minimax: {}'.format(round, wins))\n",
    "        wins = multi.tally_wins([best_agent, current_agent], 10, num_workers=3)\n",
    "        print('Round {}, against current best neural: {}'.format(round, wins))\n",
    "        if wins[-1] > 7:\n",
    "            print('Ratcheting best agent')\n",
    "            best_agent.model.set_weights(current_agent.model.get_weights())"
   ]
  },
  {
   "cell_type": "code",
   "execution_count": 14,
   "metadata": {
    "autoscroll": false,
    "collapsed": false,
    "ein.hycell": false,
    "ein.tags": "worksheet-0",
    "slideshow": {
     "slide_type": "-"
    }
   },
   "outputs": [
    {
     "name": "stderr",
     "output_type": "stream",
     "text": [
      "2019-04-12 16:25:20,142\tINFO node.py:423 -- Process STDOUT and STDERR is being redirected to /tmp/ray/session_2019-04-12_16-25-20_9356/logs.\n"
     ]
    },
    {
     "name": "stderr",
     "output_type": "stream",
     "text": [
      "2019-04-12 16:25:20,267\tINFO services.py:363 -- Waiting for redis server at 127.0.0.1:27105 to respond...\n"
     ]
    },
    {
     "name": "stderr",
     "output_type": "stream",
     "text": [
      "2019-04-12 16:25:20,403\tINFO services.py:363 -- Waiting for redis server at 127.0.0.1:57312 to respond...\n"
     ]
    },
    {
     "name": "stderr",
     "output_type": "stream",
     "text": [
      "2019-04-12 16:25:20,408\tINFO services.py:760 -- Starting Redis shard with 4.2 GB max memory.\n"
     ]
    },
    {
     "name": "stderr",
     "output_type": "stream",
     "text": [
      "2019-04-12 16:25:20,463\tINFO services.py:1384 -- Starting the Plasma object store with 6.3 GB memory using /dev/shm.\n"
     ]
    },
    {
     "data": {
      "text/plain": [
       "{'node_ip_address': None,\n 'redis_address': '10.39.10.6:27105',\n 'object_store_address': '/tmp/ray/session_2019-04-12_16-25-20_9356/sockets/plasma_store',\n 'webui_url': None,\n 'raylet_socket_name': '/tmp/ray/session_2019-04-12_16-25-20_9356/sockets/raylet'}"
      ]
     },
     "execution_count": 14,
     "metadata": {},
     "output_type": "execute_result"
    }
   ],
   "source": [
    "# some kind of epic memory leak going on...\n",
    "view.temp_memory.clear()\n",
    "ray.shutdown()\n",
    "importlib.reload(multi)\n",
    "ray.init()"
   ]
  },
  {
   "cell_type": "code",
   "execution_count": null,
   "metadata": {
    "autoscroll": false,
    "collapsed": false,
    "ein.hycell": false,
    "ein.tags": "worksheet-0",
    "slideshow": {
     "slide_type": "-"
    }
   },
   "outputs": [
    {
     "name": "stdout",
     "output_type": "stream",
     "text": [
      "\u001b[2m\u001b[36m(pid=1007)\u001b[0m WARNING:tensorflow:From /home/derick/anaconda3/envs/gai-project/lib/python3.7/site-packages/tensorflow/python/ops/resource_variable_ops.py:435: colocate_with (from tensorflow.python.framework.ops) is deprecated and will be removed in a future version.\n",
      "\u001b[2m\u001b[36m(pid=1007)\u001b[0m Instructions for updating:\n",
      "\u001b[2m\u001b[36m(pid=1007)\u001b[0m Colocations handled automatically by placer.\n",
      "\u001b[2m\u001b[36m(pid=1001)\u001b[0m WARNING:tensorflow:From /home/derick/anaconda3/envs/gai-project/lib/python3.7/site-packages/tensorflow/python/ops/resource_variable_ops.py:435: colocate_with (from tensorflow.python.framework.ops) is deprecated and will be removed in a future version.\n",
      "\u001b[2m\u001b[36m(pid=1001)\u001b[0m Instructions for updating:\n",
      "\u001b[2m\u001b[36m(pid=1001)\u001b[0m Colocations handled automatically by placer.\n",
      "\u001b[2m\u001b[36m(pid=1008)\u001b[0m WARNING:tensorflow:From /home/derick/anaconda3/envs/gai-project/lib/python3.7/site-packages/tensorflow/python/ops/resource_variable_ops.py:435: colocate_with (from tensorflow.python.framework.ops) is deprecated and will be removed in a future version.\n",
      "\u001b[2m\u001b[36m(pid=1008)\u001b[0m Instructions for updating:\n",
      "\u001b[2m\u001b[36m(pid=1008)\u001b[0m Colocations handled automatically by placer.\n"
     ]
    },
    {
     "name": "stdout",
     "output_type": "stream",
     "text": [
      "\u001b[2m\u001b[36m(pid=1001)\u001b[0m 2019-04-12 16:25:24.641519: I tensorflow/core/platform/profile_utils/cpu_utils.cc:94] CPU Frequency: 3502470000 Hz\n",
      "\u001b[2m\u001b[36m(pid=1001)\u001b[0m 2019-04-12 16:25:24.641684: I tensorflow/compiler/xla/service/service.cc:150] XLA service 0x563f2db74b30 executing computations on platform Host. Devices:\n",
      "\u001b[2m\u001b[36m(pid=1001)\u001b[0m 2019-04-12 16:25:24.641704: I tensorflow/compiler/xla/service/service.cc:158]   StreamExecutor device (0): <undefined>, <undefined>\n",
      "\u001b[2m\u001b[36m(pid=1007)\u001b[0m 2019-04-12 16:25:24.699061: I tensorflow/core/platform/profile_utils/cpu_utils.cc:94] CPU Frequency: 3502470000 Hz\n",
      "\u001b[2m\u001b[36m(pid=1007)\u001b[0m 2019-04-12 16:25:24.699211: I tensorflow/compiler/xla/service/service.cc:150] XLA service 0x55c453a772d0 executing computations on platform Host. Devices:\n",
      "\u001b[2m\u001b[36m(pid=1007)\u001b[0m 2019-04-12 16:25:24.699224: I tensorflow/compiler/xla/service/service.cc:158]   StreamExecutor device (0): <undefined>, <undefined>\n",
      "\u001b[2m\u001b[36m(pid=1008)\u001b[0m 2019-04-12 16:25:24.748682: I tensorflow/core/platform/profile_utils/cpu_utils.cc:94] CPU Frequency: 3502470000 Hz\n",
      "\u001b[2m\u001b[36m(pid=1008)\u001b[0m 2019-04-12 16:25:24.748871: I tensorflow/compiler/xla/service/service.cc:150] XLA service 0x55f877f2df10 executing computations on platform Host. Devices:\n",
      "\u001b[2m\u001b[36m(pid=1008)\u001b[0m 2019-04-12 16:25:24.748888: I tensorflow/compiler/xla/service/service.cc:158]   StreamExecutor device (0): <undefined>, <undefined>\n"
     ]
    },
    {
     "name": "stdout",
     "output_type": "stream",
     "text": [
      "346.6110875606537 seconds taken, 11.553702918688456 per game\n",
      "Train on 3600 samples, validate on 400 samples\n"
     ]
    },
    {
     "name": "stdout",
     "output_type": "stream",
     "text": [
      " - 5s - loss: 5.1070 - policy_head_loss: 4.1230 - value_head_loss: 0.9020 - val_loss: 5.1467 - val_policy_head_loss: 4.1336 - val_value_head_loss: 0.9313\n"
     ]
    },
    {
     "name": "stdout",
     "output_type": "stream",
     "text": [
      "Train on 3600 samples, validate on 400 samples\n"
     ]
    },
    {
     "name": "stdout",
     "output_type": "stream",
     "text": [
      " - 5s - loss: 5.0252 - policy_head_loss: 4.0495 - value_head_loss: 0.8940 - val_loss: 5.0798 - val_policy_head_loss: 4.0662 - val_value_head_loss: 0.9320\n"
     ]
    },
    {
     "name": "stdout",
     "output_type": "stream",
     "text": [
      "Train on 3600 samples, validate on 400 samples\n"
     ]
    },
    {
     "name": "stdout",
     "output_type": "stream",
     "text": [
      " - 5s - loss: 5.0565 - policy_head_loss: 4.0950 - value_head_loss: 0.8799 - val_loss: 5.1034 - val_policy_head_loss: 4.0898 - val_value_head_loss: 0.9323\n"
     ]
    },
    {
     "name": "stdout",
     "output_type": "stream",
     "text": [
      "Train on 3600 samples, validate on 400 samples\n"
     ]
    },
    {
     "name": "stdout",
     "output_type": "stream",
     "text": [
      " - 5s - loss: 5.0232 - policy_head_loss: 4.0694 - value_head_loss: 0.8725 - val_loss: 5.0297 - val_policy_head_loss: 4.0603 - val_value_head_loss: 0.8882\n"
     ]
    },
    {
     "name": "stdout",
     "output_type": "stream",
     "text": [
      "354.41918110847473 seconds taken, 11.813972703615825 per game\n",
      "Train on 3600 samples, validate on 400 samples\n"
     ]
    },
    {
     "name": "stdout",
     "output_type": "stream",
     "text": [
      " - 5s - loss: 5.0004 - policy_head_loss: 4.0637 - value_head_loss: 0.8556 - val_loss: 5.0494 - val_policy_head_loss: 4.0643 - val_value_head_loss: 0.9041\n"
     ]
    },
    {
     "name": "stdout",
     "output_type": "stream",
     "text": [
      "Train on 3600 samples, validate on 400 samples\n"
     ]
    },
    {
     "name": "stdout",
     "output_type": "stream",
     "text": [
      " - 5s - loss: 5.0435 - policy_head_loss: 4.0721 - value_head_loss: 0.8905 - val_loss: 5.1253 - val_policy_head_loss: 4.1063 - val_value_head_loss: 0.9383\n"
     ]
    },
    {
     "name": "stdout",
     "output_type": "stream",
     "text": [
      "Train on 3600 samples, validate on 400 samples\n"
     ]
    },
    {
     "name": "stdout",
     "output_type": "stream",
     "text": [
      " - 5s - loss: 5.0354 - policy_head_loss: 4.0513 - value_head_loss: 0.9034 - val_loss: 5.0218 - val_policy_head_loss: 4.0251 - val_value_head_loss: 0.9162\n"
     ]
    },
    {
     "name": "stdout",
     "output_type": "stream",
     "text": [
      "Train on 3600 samples, validate on 400 samples\n"
     ]
    },
    {
     "name": "stdout",
     "output_type": "stream",
     "text": [
      " - 5s - loss: 5.0424 - policy_head_loss: 4.0732 - value_head_loss: 0.8888 - val_loss: 5.0566 - val_policy_head_loss: 4.0749 - val_value_head_loss: 0.9015\n"
     ]
    },
    {
     "name": "stdout",
     "output_type": "stream",
     "text": [
      "331.8983311653137 seconds taken, 11.063277705510457 per game\n",
      "Train on 3600 samples, validate on 400 samples\n"
     ]
    },
    {
     "name": "stdout",
     "output_type": "stream",
     "text": [
      " - 5s - loss: 4.9944 - policy_head_loss: 4.0396 - value_head_loss: 0.8746 - val_loss: 5.0591 - val_policy_head_loss: 4.0640 - val_value_head_loss: 0.9151\n"
     ]
    },
    {
     "name": "stdout",
     "output_type": "stream",
     "text": [
      "Train on 3600 samples, validate on 400 samples\n"
     ]
    },
    {
     "name": "stdout",
     "output_type": "stream",
     "text": [
      " - 5s - loss: 5.0298 - policy_head_loss: 4.0604 - value_head_loss: 0.8895 - val_loss: 5.0918 - val_policy_head_loss: 4.1041 - val_value_head_loss: 0.9078\n"
     ]
    },
    {
     "name": "stdout",
     "output_type": "stream",
     "text": [
      "Train on 3600 samples, validate on 400 samples\n"
     ]
    },
    {
     "name": "stdout",
     "output_type": "stream",
     "text": [
      " - 5s - loss: 5.0424 - policy_head_loss: 4.0632 - value_head_loss: 0.8993 - val_loss: 5.0217 - val_policy_head_loss: 4.0568 - val_value_head_loss: 0.8852\n"
     ]
    },
    {
     "name": "stdout",
     "output_type": "stream",
     "text": [
      "Train on 3600 samples, validate on 400 samples\n"
     ]
    },
    {
     "name": "stdout",
     "output_type": "stream",
     "text": [
      " - 5s - loss: 5.0692 - policy_head_loss: 4.0869 - value_head_loss: 0.9027 - val_loss: 5.0923 - val_policy_head_loss: 4.0755 - val_value_head_loss: 0.9374\n"
     ]
    },
    {
     "name": "stdout",
     "output_type": "stream",
     "text": [
      "363.78892850875854 seconds taken, 12.126297616958619 per game\n",
      "Train on 3600 samples, validate on 400 samples\n"
     ]
    },
    {
     "name": "stdout",
     "output_type": "stream",
     "text": [
      " - 5s - loss: 4.9873 - policy_head_loss: 4.0167 - value_head_loss: 0.8912 - val_loss: 4.9839 - val_policy_head_loss: 3.9839 - val_value_head_loss: 0.9208\n"
     ]
    },
    {
     "name": "stdout",
     "output_type": "stream",
     "text": [
      "Train on 3600 samples, validate on 400 samples\n"
     ]
    },
    {
     "name": "stdout",
     "output_type": "stream",
     "text": [
      " - 5s - loss: 5.0677 - policy_head_loss: 4.0883 - value_head_loss: 0.9003 - val_loss: 5.0793 - val_policy_head_loss: 4.0754 - val_value_head_loss: 0.9249\n"
     ]
    },
    {
     "name": "stdout",
     "output_type": "stream",
     "text": [
      "Train on 3600 samples, validate on 400 samples\n"
     ]
    },
    {
     "name": "stdout",
     "output_type": "stream",
     "text": [
      " - 5s - loss: 5.0368 - policy_head_loss: 4.0378 - value_head_loss: 0.9200 - val_loss: 5.0565 - val_policy_head_loss: 4.0243 - val_value_head_loss: 0.9533\n"
     ]
    },
    {
     "name": "stdout",
     "output_type": "stream",
     "text": [
      "Train on 3600 samples, validate on 400 samples\n"
     ]
    },
    {
     "name": "stdout",
     "output_type": "stream",
     "text": [
      " - 5s - loss: 5.0243 - policy_head_loss: 4.0423 - value_head_loss: 0.9033 - val_loss: 5.0350 - val_policy_head_loss: 4.0418 - val_value_head_loss: 0.9146\n"
     ]
    },
    {
     "name": "stdout",
     "output_type": "stream",
     "text": [
      "\u001b[2m\u001b[36m(pid=1003)\u001b[0m WARNING:tensorflow:From /home/derick/anaconda3/envs/gai-project/lib/python3.7/site-packages/tensorflow/python/ops/resource_variable_ops.py:435: colocate_with (from tensorflow.python.framework.ops) is deprecated and will be removed in a future version.\n",
      "\u001b[2m\u001b[36m(pid=1003)\u001b[0m Instructions for updating:\n",
      "\u001b[2m\u001b[36m(pid=1003)\u001b[0m Colocations handled automatically by placer.\n"
     ]
    },
    {
     "name": "stdout",
     "output_type": "stream",
     "text": [
      "\u001b[2m\u001b[36m(pid=1003)\u001b[0m 2019-04-12 16:50:00.875121: I tensorflow/core/platform/profile_utils/cpu_utils.cc:94] CPU Frequency: 3502470000 Hz\n",
      "\u001b[2m\u001b[36m(pid=1003)\u001b[0m 2019-04-12 16:50:00.875301: I tensorflow/compiler/xla/service/service.cc:150] XLA service 0x559d69189b60 executing computations on platform Host. Devices:\n",
      "\u001b[2m\u001b[36m(pid=1003)\u001b[0m 2019-04-12 16:50:00.875319: I tensorflow/compiler/xla/service/service.cc:158]   StreamExecutor device (0): <undefined>, <undefined>\n"
     ]
    },
    {
     "name": "stdout",
     "output_type": "stream",
     "text": [
      "\u001b[2m\u001b[36m(pid=2539)\u001b[0m WARNING:tensorflow:From /home/derick/anaconda3/envs/gai-project/lib/python3.7/site-packages/tensorflow/python/ops/resource_variable_ops.py:435: colocate_with (from tensorflow.python.framework.ops) is deprecated and will be removed in a future version.\n",
      "\u001b[2m\u001b[36m(pid=2539)\u001b[0m Instructions for updating:\n",
      "\u001b[2m\u001b[36m(pid=2539)\u001b[0m Colocations handled automatically by placer.\n",
      "\u001b[2m\u001b[36m(pid=2537)\u001b[0m WARNING:tensorflow:From /home/derick/anaconda3/envs/gai-project/lib/python3.7/site-packages/tensorflow/python/ops/resource_variable_ops.py:435: colocate_with (from tensorflow.python.framework.ops) is deprecated and will be removed in a future version.\n",
      "\u001b[2m\u001b[36m(pid=2537)\u001b[0m Instructions for updating:\n",
      "\u001b[2m\u001b[36m(pid=2537)\u001b[0m Colocations handled automatically by placer.\n"
     ]
    },
    {
     "name": "stdout",
     "output_type": "stream",
     "text": [
      "\u001b[2m\u001b[36m(pid=2537)\u001b[0m 2019-04-12 16:50:02.317522: I tensorflow/core/platform/profile_utils/cpu_utils.cc:94] CPU Frequency: 3502470000 Hz\n",
      "\u001b[2m\u001b[36m(pid=2537)\u001b[0m 2019-04-12 16:50:02.317759: I tensorflow/compiler/xla/service/service.cc:150] XLA service 0x558a6fc43b60 executing computations on platform Host. Devices:\n",
      "\u001b[2m\u001b[36m(pid=2537)\u001b[0m 2019-04-12 16:50:02.317782: I tensorflow/compiler/xla/service/service.cc:158]   StreamExecutor device (0): <undefined>, <undefined>\n",
      "\u001b[2m\u001b[36m(pid=2539)\u001b[0m 2019-04-12 16:50:02.389045: I tensorflow/core/platform/profile_utils/cpu_utils.cc:94] CPU Frequency: 3502470000 Hz\n",
      "\u001b[2m\u001b[36m(pid=2539)\u001b[0m 2019-04-12 16:50:02.389265: I tensorflow/compiler/xla/service/service.cc:150] XLA service 0x55af0e2d4b60 executing computations on platform Host. Devices:\n",
      "\u001b[2m\u001b[36m(pid=2539)\u001b[0m 2019-04-12 16:50:02.389285: I tensorflow/compiler/xla/service/service.cc:158]   StreamExecutor device (0): <undefined>, <undefined>\n"
     ]
    },
    {
     "name": "stdout",
     "output_type": "stream",
     "text": [
      "Round 55, against minimax: Counter({1: 10, 0: 0, -1: 0})\n"
     ]
    },
    {
     "name": "stdout",
     "output_type": "stream",
     "text": [
      "Round 55, against current best neural: Counter({-1: 5, 1: 5, 0: 0})\n"
     ]
    },
    {
     "name": "stdout",
     "output_type": "stream",
     "text": [
      "309.27114272117615 seconds taken, 10.309038090705872 per game\n",
      "Train on 3600 samples, validate on 400 samples\n"
     ]
    },
    {
     "name": "stdout",
     "output_type": "stream",
     "text": [
      " - 5s - loss: 5.0103 - policy_head_loss: 4.0300 - value_head_loss: 0.9018 - val_loss: 5.0647 - val_policy_head_loss: 4.0588 - val_value_head_loss: 0.9275\n"
     ]
    },
    {
     "name": "stdout",
     "output_type": "stream",
     "text": [
      "Train on 3600 samples, validate on 400 samples\n"
     ]
    },
    {
     "name": "stdout",
     "output_type": "stream",
     "text": [
      " - 5s - loss: 5.0118 - policy_head_loss: 4.0209 - value_head_loss: 0.9126 - val_loss: 5.0293 - val_policy_head_loss: 4.0545 - val_value_head_loss: 0.8965\n"
     ]
    },
    {
     "name": "stdout",
     "output_type": "stream",
     "text": [
      "Train on 3600 samples, validate on 400 samples\n"
     ]
    },
    {
     "name": "stdout",
     "output_type": "stream",
     "text": [
      " - 5s - loss: 5.0363 - policy_head_loss: 4.0426 - value_head_loss: 0.9155 - val_loss: 5.0244 - val_policy_head_loss: 4.0246 - val_value_head_loss: 0.9218\n"
     ]
    },
    {
     "name": "stdout",
     "output_type": "stream",
     "text": [
      "Train on 3600 samples, validate on 400 samples\n"
     ]
    },
    {
     "name": "stdout",
     "output_type": "stream",
     "text": [
      " - 5s - loss: 5.0082 - policy_head_loss: 4.0432 - value_head_loss: 0.8871 - val_loss: 5.0655 - val_policy_head_loss: 4.0680 - val_value_head_loss: 0.9197\n"
     ]
    },
    {
     "name": "stdout",
     "output_type": "stream",
     "text": [
      "354.7578909397125 seconds taken, 11.82526303132375 per game\n",
      "Train on 3600 samples, validate on 400 samples\n"
     ]
    },
    {
     "name": "stdout",
     "output_type": "stream",
     "text": [
      " - 5s - loss: 4.9901 - policy_head_loss: 3.9909 - value_head_loss: 0.9214 - val_loss: 5.0235 - val_policy_head_loss: 4.0164 - val_value_head_loss: 0.9295\n"
     ]
    },
    {
     "name": "stdout",
     "output_type": "stream",
     "text": [
      "Train on 3600 samples, validate on 400 samples\n"
     ]
    },
    {
     "name": "stdout",
     "output_type": "stream",
     "text": [
      " - 5s - loss: 4.9752 - policy_head_loss: 4.0180 - value_head_loss: 0.8796 - val_loss: 5.0662 - val_policy_head_loss: 4.0594 - val_value_head_loss: 0.9294\n"
     ]
    },
    {
     "name": "stdout",
     "output_type": "stream",
     "text": [
      "Train on 3600 samples, validate on 400 samples\n"
     ]
    },
    {
     "name": "stdout",
     "output_type": "stream",
     "text": [
      " - 5s - loss: 4.9701 - policy_head_loss: 4.0197 - value_head_loss: 0.8731 - val_loss: 5.0186 - val_policy_head_loss: 4.0539 - val_value_head_loss: 0.8875\n"
     ]
    },
    {
     "name": "stdout",
     "output_type": "stream",
     "text": [
      "Train on 3600 samples, validate on 400 samples\n"
     ]
    },
    {
     "name": "stdout",
     "output_type": "stream",
     "text": [
      " - 5s - loss: 4.9912 - policy_head_loss: 4.0212 - value_head_loss: 0.8928 - val_loss: 5.0994 - val_policy_head_loss: 4.0415 - val_value_head_loss: 0.9809\n"
     ]
    },
    {
     "name": "stdout",
     "output_type": "stream",
     "text": [
      "331.51248717308044 seconds taken, 11.050416239102681 per game\n",
      "Train on 3600 samples, validate on 400 samples\n"
     ]
    },
    {
     "name": "stdout",
     "output_type": "stream",
     "text": [
      " - 5s - loss: 5.0087 - policy_head_loss: 4.0194 - value_head_loss: 0.9123 - val_loss: 5.0842 - val_policy_head_loss: 4.0792 - val_value_head_loss: 0.9282\n"
     ]
    },
    {
     "name": "stdout",
     "output_type": "stream",
     "text": [
      "Train on 3600 samples, validate on 400 samples\n"
     ]
    },
    {
     "name": "stdout",
     "output_type": "stream",
     "text": [
      " - 5s - loss: 4.9801 - policy_head_loss: 3.9986 - value_head_loss: 0.9047 - val_loss: 5.1218 - val_policy_head_loss: 4.0897 - val_value_head_loss: 0.9555\n"
     ]
    },
    {
     "name": "stdout",
     "output_type": "stream",
     "text": [
      "Train on 3600 samples, validate on 400 samples\n"
     ]
    },
    {
     "name": "stdout",
     "output_type": "stream",
     "text": [
      " - 5s - loss: 4.9489 - policy_head_loss: 3.9845 - value_head_loss: 0.8878 - val_loss: 5.0336 - val_policy_head_loss: 4.0008 - val_value_head_loss: 0.9562\n"
     ]
    },
    {
     "name": "stdout",
     "output_type": "stream",
     "text": [
      "Train on 3600 samples, validate on 400 samples\n"
     ]
    },
    {
     "name": "stdout",
     "output_type": "stream",
     "text": [
      " - 5s - loss: 4.9738 - policy_head_loss: 4.0114 - value_head_loss: 0.8859 - val_loss: 4.9337 - val_policy_head_loss: 3.9767 - val_value_head_loss: 0.8807\n"
     ]
    },
    {
     "name": "stdout",
     "output_type": "stream",
     "text": [
      "318.1088910102844 seconds taken, 10.603629700342815 per game\n",
      "Train on 3600 samples, validate on 400 samples\n"
     ]
    },
    {
     "name": "stdout",
     "output_type": "stream",
     "text": [
      " - 5s - loss: 4.9389 - policy_head_loss: 3.9995 - value_head_loss: 0.8631 - val_loss: 5.0560 - val_policy_head_loss: 4.0376 - val_value_head_loss: 0.9422\n"
     ]
    },
    {
     "name": "stdout",
     "output_type": "stream",
     "text": [
      "Train on 3600 samples, validate on 400 samples\n"
     ]
    },
    {
     "name": "stdout",
     "output_type": "stream",
     "text": [
      " - 5s - loss: 4.9256 - policy_head_loss: 3.9396 - value_head_loss: 0.9099 - val_loss: 4.8932 - val_policy_head_loss: 3.9102 - val_value_head_loss: 0.9069\n"
     ]
    },
    {
     "name": "stdout",
     "output_type": "stream",
     "text": [
      "Train on 3600 samples, validate on 400 samples\n"
     ]
    },
    {
     "name": "stdout",
     "output_type": "stream",
     "text": [
      " - 5s - loss: 4.8707 - policy_head_loss: 3.9273 - value_head_loss: 0.8674 - val_loss: 4.8989 - val_policy_head_loss: 3.9370 - val_value_head_loss: 0.8861\n"
     ]
    },
    {
     "name": "stdout",
     "output_type": "stream",
     "text": [
      "Train on 3600 samples, validate on 400 samples\n"
     ]
    },
    {
     "name": "stdout",
     "output_type": "stream",
     "text": [
      " - 5s - loss: 4.9673 - policy_head_loss: 4.0076 - value_head_loss: 0.8839 - val_loss: 5.0575 - val_policy_head_loss: 4.0105 - val_value_head_loss: 0.9713\n"
     ]
    },
    {
     "name": "stdout",
     "output_type": "stream",
     "text": [
      "354.4680120944977 seconds taken, 11.815600403149922 per game\n",
      "Train on 3600 samples, validate on 400 samples\n"
     ]
    },
    {
     "name": "stdout",
     "output_type": "stream",
     "text": [
      " - 5s - loss: 4.9297 - policy_head_loss: 3.9571 - value_head_loss: 0.8969 - val_loss: 4.9560 - val_policy_head_loss: 3.9885 - val_value_head_loss: 0.8921\n"
     ]
    },
    {
     "name": "stdout",
     "output_type": "stream",
     "text": [
      "Train on 3600 samples, validate on 400 samples\n"
     ]
    },
    {
     "name": "stdout",
     "output_type": "stream",
     "text": [
      " - 5s - loss: 4.9727 - policy_head_loss: 4.0071 - value_head_loss: 0.8902 - val_loss: 4.9317 - val_policy_head_loss: 3.9492 - val_value_head_loss: 0.9072\n"
     ]
    },
    {
     "name": "stdout",
     "output_type": "stream",
     "text": [
      "Train on 3600 samples, validate on 400 samples\n"
     ]
    },
    {
     "name": "stdout",
     "output_type": "stream",
     "text": [
      " - 5s - loss: 4.9668 - policy_head_loss: 3.9786 - value_head_loss: 0.9130 - val_loss: 4.9309 - val_policy_head_loss: 3.9116 - val_value_head_loss: 0.9443\n"
     ]
    },
    {
     "name": "stdout",
     "output_type": "stream",
     "text": [
      "Train on 3600 samples, validate on 400 samples\n"
     ]
    },
    {
     "name": "stdout",
     "output_type": "stream",
     "text": [
      " - 5s - loss: 4.9382 - policy_head_loss: 3.9632 - value_head_loss: 0.9001 - val_loss: 4.9110 - val_policy_head_loss: 3.9238 - val_value_head_loss: 0.9123\n"
     ]
    },
    {
     "name": "stdout",
     "output_type": "stream",
     "text": [
      "Round 60, against minimax: Counter({1: 8, -1: 2, 0: 0})\n"
     ]
    },
    {
     "name": "stdout",
     "output_type": "stream",
     "text": [
      "Round 60, against current best neural: Counter({-1: 9, 1: 1, 0: 0})\n",
      "Ratcheting best agent\n"
     ]
    },
    {
     "name": "stdout",
     "output_type": "stream",
     "text": [
      "334.7775094509125 seconds taken, 11.159250315030416 per game\n",
      "Train on 3600 samples, validate on 400 samples\n"
     ]
    },
    {
     "name": "stdout",
     "output_type": "stream",
     "text": [
      " - 5s - loss: 4.9733 - policy_head_loss: 3.9954 - value_head_loss: 0.9032 - val_loss: 4.9953 - val_policy_head_loss: 3.9697 - val_value_head_loss: 0.9510\n"
     ]
    },
    {
     "name": "stdout",
     "output_type": "stream",
     "text": [
      "Train on 3600 samples, validate on 400 samples\n"
     ]
    },
    {
     "name": "stdout",
     "output_type": "stream",
     "text": [
      " - 5s - loss: 4.8759 - policy_head_loss: 3.9092 - value_head_loss: 0.8921 - val_loss: 4.9408 - val_policy_head_loss: 3.9539 - val_value_head_loss: 0.9125\n"
     ]
    },
    {
     "name": "stdout",
     "output_type": "stream",
     "text": [
      "Train on 3600 samples, validate on 400 samples\n"
     ]
    },
    {
     "name": "stdout",
     "output_type": "stream",
     "text": [
      " - 5s - loss: 4.9283 - policy_head_loss: 3.9726 - value_head_loss: 0.8813 - val_loss: 4.8926 - val_policy_head_loss: 3.9165 - val_value_head_loss: 0.9018\n"
     ]
    },
    {
     "name": "stdout",
     "output_type": "stream",
     "text": [
      "Train on 3600 samples, validate on 400 samples\n"
     ]
    },
    {
     "name": "stdout",
     "output_type": "stream",
     "text": [
      " - 5s - loss: 4.9511 - policy_head_loss: 3.9743 - value_head_loss: 0.9025 - val_loss: 4.9699 - val_policy_head_loss: 3.9863 - val_value_head_loss: 0.9095\n"
     ]
    },
    {
     "name": "stdout",
     "output_type": "stream",
     "text": [
      "334.9491949081421 seconds taken, 11.164973163604737 per game\n",
      "Train on 3600 samples, validate on 400 samples\n"
     ]
    },
    {
     "name": "stdout",
     "output_type": "stream",
     "text": [
      " - 5s - loss: 4.9381 - policy_head_loss: 3.9906 - value_head_loss: 0.8734 - val_loss: 5.0181 - val_policy_head_loss: 4.0305 - val_value_head_loss: 0.9136\n"
     ]
    },
    {
     "name": "stdout",
     "output_type": "stream",
     "text": [
      "Train on 3600 samples, validate on 400 samples\n"
     ]
    },
    {
     "name": "stdout",
     "output_type": "stream",
     "text": [
      " - 5s - loss: 4.8866 - policy_head_loss: 3.9329 - value_head_loss: 0.8797 - val_loss: 4.8962 - val_policy_head_loss: 3.9371 - val_value_head_loss: 0.8853\n"
     ]
    },
    {
     "name": "stdout",
     "output_type": "stream",
     "text": [
      "Train on 3600 samples, validate on 400 samples\n"
     ]
    },
    {
     "name": "stdout",
     "output_type": "stream",
     "text": [
      " - 5s - loss: 4.8950 - policy_head_loss: 3.9531 - value_head_loss: 0.8681 - val_loss: 4.8908 - val_policy_head_loss: 3.9385 - val_value_head_loss: 0.8787\n"
     ]
    },
    {
     "name": "stdout",
     "output_type": "stream",
     "text": [
      "Train on 3600 samples, validate on 400 samples\n"
     ]
    },
    {
     "name": "stdout",
     "output_type": "stream",
     "text": [
      " - 5s - loss: 4.9834 - policy_head_loss: 4.0020 - value_head_loss: 0.9077 - val_loss: 4.9987 - val_policy_head_loss: 3.9962 - val_value_head_loss: 0.9289\n"
     ]
    },
    {
     "name": "stdout",
     "output_type": "stream",
     "text": [
      "346.674156665802 seconds taken, 11.555805222193401 per game\n",
      "Train on 3600 samples, validate on 400 samples\n"
     ]
    },
    {
     "name": "stdout",
     "output_type": "stream",
     "text": [
      " - 5s - loss: 4.9224 - policy_head_loss: 3.9726 - value_head_loss: 0.8763 - val_loss: 4.9264 - val_policy_head_loss: 3.9408 - val_value_head_loss: 0.9122\n"
     ]
    },
    {
     "name": "stdout",
     "output_type": "stream",
     "text": [
      "Train on 3600 samples, validate on 400 samples\n"
     ]
    },
    {
     "name": "stdout",
     "output_type": "stream",
     "text": [
      " - 5s - loss: 4.9278 - policy_head_loss: 3.9680 - value_head_loss: 0.8865 - val_loss: 4.9889 - val_policy_head_loss: 3.9962 - val_value_head_loss: 0.9194\n"
     ]
    },
    {
     "name": "stdout",
     "output_type": "stream",
     "text": [
      "Train on 3600 samples, validate on 400 samples\n"
     ]
    },
    {
     "name": "stdout",
     "output_type": "stream",
     "text": [
      " - 5s - loss: 4.9005 - policy_head_loss: 3.9427 - value_head_loss: 0.8846 - val_loss: 4.9686 - val_policy_head_loss: 3.9581 - val_value_head_loss: 0.9375\n"
     ]
    },
    {
     "name": "stdout",
     "output_type": "stream",
     "text": [
      "Train on 3600 samples, validate on 400 samples\n"
     ]
    },
    {
     "name": "stdout",
     "output_type": "stream",
     "text": [
      " - 5s - loss: 4.9568 - policy_head_loss: 3.9986 - value_head_loss: 0.8851 - val_loss: 5.0367 - val_policy_head_loss: 4.0605 - val_value_head_loss: 0.9033\n"
     ]
    },
    {
     "name": "stdout",
     "output_type": "stream",
     "text": [
      "276.0155415534973 seconds taken, 9.200518051783243 per game\n",
      "Train on 3600 samples, validate on 400 samples\n"
     ]
    },
    {
     "name": "stdout",
     "output_type": "stream",
     "text": [
      " - 5s - loss: 4.8919 - policy_head_loss: 3.9465 - value_head_loss: 0.8725 - val_loss: 4.9841 - val_policy_head_loss: 4.0138 - val_value_head_loss: 0.8976\n"
     ]
    },
    {
     "name": "stdout",
     "output_type": "stream",
     "text": [
      "Train on 3600 samples, validate on 400 samples\n"
     ]
    },
    {
     "name": "stdout",
     "output_type": "stream",
     "text": [
      " - 5s - loss: 4.9095 - policy_head_loss: 3.9547 - value_head_loss: 0.8820 - val_loss: 4.9560 - val_policy_head_loss: 3.9719 - val_value_head_loss: 0.9114\n"
     ]
    },
    {
     "name": "stdout",
     "output_type": "stream",
     "text": [
      "Train on 3600 samples, validate on 400 samples\n"
     ]
    },
    {
     "name": "stdout",
     "output_type": "stream",
     "text": [
      " - 5s - loss: 4.8838 - policy_head_loss: 3.9251 - value_head_loss: 0.8861 - val_loss: 5.0196 - val_policy_head_loss: 4.0104 - val_value_head_loss: 0.9367\n"
     ]
    },
    {
     "name": "stdout",
     "output_type": "stream",
     "text": [
      "Train on 3600 samples, validate on 400 samples\n"
     ]
    },
    {
     "name": "stdout",
     "output_type": "stream",
     "text": [
      " - 5s - loss: 4.9134 - policy_head_loss: 3.9565 - value_head_loss: 0.8844 - val_loss: 4.9765 - val_policy_head_loss: 3.9794 - val_value_head_loss: 0.9247\n"
     ]
    },
    {
     "name": "stdout",
     "output_type": "stream",
     "text": [
      "297.25318479537964 seconds taken, 9.908439493179321 per game\n",
      "Train on 3600 samples, validate on 400 samples\n"
     ]
    },
    {
     "name": "stdout",
     "output_type": "stream",
     "text": [
      " - 5s - loss: 4.9168 - policy_head_loss: 3.9639 - value_head_loss: 0.8806 - val_loss: 5.0143 - val_policy_head_loss: 4.0106 - val_value_head_loss: 0.9315\n"
     ]
    },
    {
     "name": "stdout",
     "output_type": "stream",
     "text": [
      "Train on 3600 samples, validate on 400 samples\n"
     ]
    },
    {
     "name": "stdout",
     "output_type": "stream",
     "text": [
      " - 5s - loss: 4.9311 - policy_head_loss: 3.9700 - value_head_loss: 0.8890 - val_loss: 4.8901 - val_policy_head_loss: 3.9188 - val_value_head_loss: 0.8993\n"
     ]
    },
    {
     "name": "stdout",
     "output_type": "stream",
     "text": [
      "Train on 3600 samples, validate on 400 samples\n"
     ]
    },
    {
     "name": "stdout",
     "output_type": "stream",
     "text": [
      " - 5s - loss: 4.9168 - policy_head_loss: 3.9562 - value_head_loss: 0.8886 - val_loss: 4.8693 - val_policy_head_loss: 3.9020 - val_value_head_loss: 0.8954\n"
     ]
    },
    {
     "name": "stdout",
     "output_type": "stream",
     "text": [
      "Train on 3600 samples, validate on 400 samples\n"
     ]
    },
    {
     "name": "stdout",
     "output_type": "stream",
     "text": [
      " - 5s - loss: 4.8862 - policy_head_loss: 3.9332 - value_head_loss: 0.8812 - val_loss: 4.9397 - val_policy_head_loss: 3.9327 - val_value_head_loss: 0.9352\n"
     ]
    },
    {
     "name": "stdout",
     "output_type": "stream",
     "text": [
      "Round 65, against minimax: Counter({1: 8, -1: 2, 0: 0})\n"
     ]
    },
    {
     "name": "stdout",
     "output_type": "stream",
     "text": [
      "Round 65, against current best neural: Counter({1: 6, -1: 4, 0: 0})\n"
     ]
    },
    {
     "name": "stdout",
     "output_type": "stream",
     "text": [
      "340.4388086795807 seconds taken, 11.347960289319357 per game\n",
      "Train on 3600 samples, validate on 400 samples\n"
     ]
    },
    {
     "name": "stdout",
     "output_type": "stream",
     "text": [
      " - 5s - loss: 4.9680 - policy_head_loss: 3.9862 - value_head_loss: 0.9101 - val_loss: 5.0566 - val_policy_head_loss: 4.0046 - val_value_head_loss: 0.9804\n"
     ]
    },
    {
     "name": "stdout",
     "output_type": "stream",
     "text": [
      "Train on 3600 samples, validate on 400 samples\n"
     ]
    },
    {
     "name": "stdout",
     "output_type": "stream",
     "text": [
      " - 5s - loss: 4.8233 - policy_head_loss: 3.8908 - value_head_loss: 0.8610 - val_loss: 4.8936 - val_policy_head_loss: 3.9134 - val_value_head_loss: 0.9089\n"
     ]
    },
    {
     "name": "stdout",
     "output_type": "stream",
     "text": [
      "Train on 3600 samples, validate on 400 samples\n"
     ]
    },
    {
     "name": "stdout",
     "output_type": "stream",
     "text": [
      " - 5s - loss: 4.9902 - policy_head_loss: 4.0041 - value_head_loss: 0.9147 - val_loss: 4.9788 - val_policy_head_loss: 4.0133 - val_value_head_loss: 0.8942\n"
     ]
    },
    {
     "name": "stdout",
     "output_type": "stream",
     "text": [
      "Train on 3600 samples, validate on 400 samples\n"
     ]
    },
    {
     "name": "stdout",
     "output_type": "stream",
     "text": [
      " - 5s - loss: 4.9276 - policy_head_loss: 3.9832 - value_head_loss: 0.8732 - val_loss: 4.8922 - val_policy_head_loss: 3.9373 - val_value_head_loss: 0.8838\n"
     ]
    },
    {
     "name": "stdout",
     "output_type": "stream",
     "text": [
      "335.2756187915802 seconds taken, 11.17585395971934 per game\n",
      "Train on 3600 samples, validate on 400 samples\n"
     ]
    },
    {
     "name": "stdout",
     "output_type": "stream",
     "text": [
      " - 5s - loss: 4.8850 - policy_head_loss: 3.9669 - value_head_loss: 0.8470 - val_loss: 4.8999 - val_policy_head_loss: 3.9458 - val_value_head_loss: 0.8831\n"
     ]
    },
    {
     "name": "stdout",
     "output_type": "stream",
     "text": [
      "Train on 3600 samples, validate on 400 samples\n"
     ]
    },
    {
     "name": "stdout",
     "output_type": "stream",
     "text": [
      " - 5s - loss: 4.9664 - policy_head_loss: 4.0067 - value_head_loss: 0.8887 - val_loss: 4.9771 - val_policy_head_loss: 4.0111 - val_value_head_loss: 0.8951\n"
     ]
    },
    {
     "name": "stdout",
     "output_type": "stream",
     "text": [
      "Train on 3600 samples, validate on 400 samples\n"
     ]
    },
    {
     "name": "stdout",
     "output_type": "stream",
     "text": [
      " - 5s - loss: 4.8774 - policy_head_loss: 3.9236 - value_head_loss: 0.8830 - val_loss: 4.8566 - val_policy_head_loss: 3.8567 - val_value_head_loss: 0.9291\n"
     ]
    },
    {
     "name": "stdout",
     "output_type": "stream",
     "text": [
      "Train on 3600 samples, validate on 400 samples\n"
     ]
    },
    {
     "name": "stdout",
     "output_type": "stream",
     "text": [
      " - 5s - loss: 4.9651 - policy_head_loss: 4.0235 - value_head_loss: 0.8709 - val_loss: 5.0397 - val_policy_head_loss: 4.0253 - val_value_head_loss: 0.9437\n"
     ]
    },
    {
     "name": "stdout",
     "output_type": "stream",
     "text": [
      "324.86016821861267 seconds taken, 10.828672273953755 per game\n",
      "Train on 3600 samples, validate on 400 samples\n"
     ]
    },
    {
     "name": "stdout",
     "output_type": "stream",
     "text": [
      " - 5s - loss: 4.8355 - policy_head_loss: 3.9039 - value_head_loss: 0.8610 - val_loss: 4.9730 - val_policy_head_loss: 4.0073 - val_value_head_loss: 0.8952\n"
     ]
    },
    {
     "name": "stdout",
     "output_type": "stream",
     "text": [
      "Train on 3600 samples, validate on 400 samples\n"
     ]
    },
    {
     "name": "stdout",
     "output_type": "stream",
     "text": [
      " - 5s - loss: 4.8734 - policy_head_loss: 3.9533 - value_head_loss: 0.8496 - val_loss: 4.9031 - val_policy_head_loss: 3.9634 - val_value_head_loss: 0.8692\n"
     ]
    },
    {
     "name": "stdout",
     "output_type": "stream",
     "text": [
      "Train on 3600 samples, validate on 400 samples\n"
     ]
    },
    {
     "name": "stdout",
     "output_type": "stream",
     "text": [
      " - 5s - loss: 4.9345 - policy_head_loss: 4.0014 - value_head_loss: 0.8626 - val_loss: 4.9619 - val_policy_head_loss: 3.9995 - val_value_head_loss: 0.8919\n"
     ]
    },
    {
     "name": "stdout",
     "output_type": "stream",
     "text": [
      "Train on 3600 samples, validate on 400 samples\n"
     ]
    },
    {
     "name": "stdout",
     "output_type": "stream",
     "text": [
      " - 5s - loss: 4.9006 - policy_head_loss: 3.9478 - value_head_loss: 0.8824 - val_loss: 4.9576 - val_policy_head_loss: 3.9633 - val_value_head_loss: 0.9240\n"
     ]
    },
    {
     "name": "stdout",
     "output_type": "stream",
     "text": [
      "340.4261622428894 seconds taken, 11.347538741429647 per game\n",
      "Train on 3600 samples, validate on 400 samples\n"
     ]
    },
    {
     "name": "stdout",
     "output_type": "stream",
     "text": [
      " - 5s - loss: 4.8611 - policy_head_loss: 3.9122 - value_head_loss: 0.8786 - val_loss: 4.7849 - val_policy_head_loss: 3.8894 - val_value_head_loss: 0.8253\n"
     ]
    },
    {
     "name": "stdout",
     "output_type": "stream",
     "text": [
      "Train on 3600 samples, validate on 400 samples\n"
     ]
    },
    {
     "name": "stdout",
     "output_type": "stream",
     "text": [
      " - 5s - loss: 4.8585 - policy_head_loss: 3.9169 - value_head_loss: 0.8714 - val_loss: 4.9189 - val_policy_head_loss: 3.9236 - val_value_head_loss: 0.9253\n"
     ]
    },
    {
     "name": "stdout",
     "output_type": "stream",
     "text": [
      "Train on 3600 samples, validate on 400 samples\n"
     ]
    },
    {
     "name": "stdout",
     "output_type": "stream",
     "text": [
      " - 5s - loss: 4.9051 - policy_head_loss: 3.9592 - value_head_loss: 0.8759 - val_loss: 4.8468 - val_policy_head_loss: 3.9163 - val_value_head_loss: 0.8605\n"
     ]
    },
    {
     "name": "stdout",
     "output_type": "stream",
     "text": [
      "Train on 3600 samples, validate on 400 samples\n"
     ]
    },
    {
     "name": "stdout",
     "output_type": "stream",
     "text": [
      " - 5s - loss: 4.8480 - policy_head_loss: 3.9334 - value_head_loss: 0.8446 - val_loss: 4.9578 - val_policy_head_loss: 3.9368 - val_value_head_loss: 0.9511\n"
     ]
    },
    {
     "name": "stdout",
     "output_type": "stream",
     "text": [
      "319.20912623405457 seconds taken, 10.640304207801819 per game\n",
      "Train on 3600 samples, validate on 400 samples\n"
     ]
    },
    {
     "name": "stdout",
     "output_type": "stream",
     "text": [
      " - 5s - loss: 4.8722 - policy_head_loss: 3.9706 - value_head_loss: 0.8317 - val_loss: 4.9524 - val_policy_head_loss: 3.9244 - val_value_head_loss: 0.9583\n"
     ]
    },
    {
     "name": "stdout",
     "output_type": "stream",
     "text": [
      "Train on 3600 samples, validate on 400 samples\n"
     ]
    },
    {
     "name": "stdout",
     "output_type": "stream",
     "text": [
      " - 5s - loss: 4.8325 - policy_head_loss: 3.9147 - value_head_loss: 0.8480 - val_loss: 4.8384 - val_policy_head_loss: 3.8858 - val_value_head_loss: 0.8829\n"
     ]
    },
    {
     "name": "stdout",
     "output_type": "stream",
     "text": [
      "Train on 3600 samples, validate on 400 samples\n"
     ]
    },
    {
     "name": "stdout",
     "output_type": "stream",
     "text": [
      " - 5s - loss: 4.8757 - policy_head_loss: 3.9428 - value_head_loss: 0.8632 - val_loss: 4.9036 - val_policy_head_loss: 3.9637 - val_value_head_loss: 0.8703\n"
     ]
    },
    {
     "name": "stdout",
     "output_type": "stream",
     "text": [
      "Train on 3600 samples, validate on 400 samples\n"
     ]
    },
    {
     "name": "stdout",
     "output_type": "stream",
     "text": [
      " - 5s - loss: 4.9248 - policy_head_loss: 3.9603 - value_head_loss: 0.8950 - val_loss: 4.9322 - val_policy_head_loss: 3.9659 - val_value_head_loss: 0.8970\n"
     ]
    },
    {
     "name": "stdout",
     "output_type": "stream",
     "text": [
      "Round 70, against minimax: Counter({1: 7, -1: 3, 0: 0})\n"
     ]
    },
    {
     "name": "stdout",
     "output_type": "stream",
     "text": [
      "Round 70, against current best neural: Counter({-1: 5, 1: 5, 0: 0})\n"
     ]
    },
    {
     "name": "stdout",
     "output_type": "stream",
     "text": [
      "286.17955899238586 seconds taken, 9.539318633079528 per game\n",
      "Train on 3600 samples, validate on 400 samples\n"
     ]
    },
    {
     "name": "stdout",
     "output_type": "stream",
     "text": [
      " - 5s - loss: 4.8098 - policy_head_loss: 3.9039 - value_head_loss: 0.8366 - val_loss: 4.8891 - val_policy_head_loss: 3.9496 - val_value_head_loss: 0.8703\n"
     ]
    },
    {
     "name": "stdout",
     "output_type": "stream",
     "text": [
      "Train on 3600 samples, validate on 400 samples\n"
     ]
    },
    {
     "name": "stdout",
     "output_type": "stream",
     "text": [
      " - 5s - loss: 4.8911 - policy_head_loss: 3.9418 - value_head_loss: 0.8801 - val_loss: 4.9737 - val_policy_head_loss: 3.9787 - val_value_head_loss: 0.9259\n"
     ]
    },
    {
     "name": "stdout",
     "output_type": "stream",
     "text": [
      "Train on 3600 samples, validate on 400 samples\n"
     ]
    },
    {
     "name": "stdout",
     "output_type": "stream",
     "text": [
      " - 5s - loss: 4.8503 - policy_head_loss: 3.9186 - value_head_loss: 0.8626 - val_loss: 4.8777 - val_policy_head_loss: 3.9509 - val_value_head_loss: 0.8578\n"
     ]
    },
    {
     "name": "stdout",
     "output_type": "stream",
     "text": [
      "Train on 3600 samples, validate on 400 samples\n"
     ]
    },
    {
     "name": "stdout",
     "output_type": "stream",
     "text": [
      " - 5s - loss: 4.8437 - policy_head_loss: 3.9135 - value_head_loss: 0.8612 - val_loss: 4.8633 - val_policy_head_loss: 3.8962 - val_value_head_loss: 0.8982\n"
     ]
    },
    {
     "name": "stdout",
     "output_type": "stream",
     "text": [
      "302.87834906578064 seconds taken, 10.095944968859355 per game\n",
      "Train on 3600 samples, validate on 400 samples\n"
     ]
    },
    {
     "name": "stdout",
     "output_type": "stream",
     "text": [
      " - 5s - loss: 4.7962 - policy_head_loss: 3.8806 - value_head_loss: 0.8468 - val_loss: 4.8903 - val_policy_head_loss: 3.9180 - val_value_head_loss: 0.9035\n"
     ]
    },
    {
     "name": "stdout",
     "output_type": "stream",
     "text": [
      "Train on 3600 samples, validate on 400 samples\n"
     ]
    },
    {
     "name": "stdout",
     "output_type": "stream",
     "text": [
      " - 5s - loss: 4.8445 - policy_head_loss: 3.8947 - value_head_loss: 0.8810 - val_loss: 4.8916 - val_policy_head_loss: 3.8997 - val_value_head_loss: 0.9231\n"
     ]
    },
    {
     "name": "stdout",
     "output_type": "stream",
     "text": [
      "Train on 3600 samples, validate on 400 samples\n"
     ]
    },
    {
     "name": "stdout",
     "output_type": "stream",
     "text": [
      " - 5s - loss: 4.8457 - policy_head_loss: 3.9145 - value_head_loss: 0.8625 - val_loss: 4.8437 - val_policy_head_loss: 3.8626 - val_value_head_loss: 0.9124\n"
     ]
    },
    {
     "name": "stdout",
     "output_type": "stream",
     "text": [
      "Train on 3600 samples, validate on 400 samples\n"
     ]
    },
    {
     "name": "stdout",
     "output_type": "stream",
     "text": [
      " - 5s - loss: 4.8368 - policy_head_loss: 3.9101 - value_head_loss: 0.8581 - val_loss: 4.8481 - val_policy_head_loss: 3.9435 - val_value_head_loss: 0.8360\n"
     ]
    },
    {
     "name": "stdout",
     "output_type": "stream",
     "text": [
      "318.3775863647461 seconds taken, 10.612586212158202 per game\n",
      "Train on 3600 samples, validate on 400 samples\n"
     ]
    },
    {
     "name": "stdout",
     "output_type": "stream",
     "text": [
      " - 5s - loss: 4.8029 - policy_head_loss: 3.9067 - value_head_loss: 0.8277 - val_loss: 4.8921 - val_policy_head_loss: 3.9457 - val_value_head_loss: 0.8779\n"
     ]
    },
    {
     "name": "stdout",
     "output_type": "stream",
     "text": [
      "Train on 3600 samples, validate on 400 samples\n"
     ]
    },
    {
     "name": "stdout",
     "output_type": "stream",
     "text": [
      " - 5s - loss: 4.8319 - policy_head_loss: 3.9123 - value_head_loss: 0.8512 - val_loss: 4.9021 - val_policy_head_loss: 3.9252 - val_value_head_loss: 0.9085\n"
     ]
    },
    {
     "name": "stdout",
     "output_type": "stream",
     "text": [
      "Train on 3600 samples, validate on 400 samples\n"
     ]
    },
    {
     "name": "stdout",
     "output_type": "stream",
     "text": [
      " - 5s - loss: 4.8554 - policy_head_loss: 3.9878 - value_head_loss: 0.7992 - val_loss: 4.9011 - val_policy_head_loss: 4.0137 - val_value_head_loss: 0.8190\n"
     ]
    },
    {
     "name": "stdout",
     "output_type": "stream",
     "text": [
      "Train on 3600 samples, validate on 400 samples\n"
     ]
    },
    {
     "name": "stdout",
     "output_type": "stream",
     "text": [
      " - 5s - loss: 4.8257 - policy_head_loss: 3.9456 - value_head_loss: 0.8118 - val_loss: 4.9205 - val_policy_head_loss: 3.9967 - val_value_head_loss: 0.8555\n"
     ]
    },
    {
     "name": "stdout",
     "output_type": "stream",
     "text": [
      "304.1097927093506 seconds taken, 10.136993090311686 per game\n",
      "Train on 3600 samples, validate on 400 samples\n"
     ]
    },
    {
     "name": "stdout",
     "output_type": "stream",
     "text": [
      " - 5s - loss: 4.8836 - policy_head_loss: 3.9862 - value_head_loss: 0.8291 - val_loss: 4.9077 - val_policy_head_loss: 3.9774 - val_value_head_loss: 0.8621\n"
     ]
    },
    {
     "name": "stdout",
     "output_type": "stream",
     "text": [
      "Train on 3600 samples, validate on 400 samples\n"
     ]
    },
    {
     "name": "stdout",
     "output_type": "stream",
     "text": [
      " - 5s - loss: 4.7923 - policy_head_loss: 3.8966 - value_head_loss: 0.8276 - val_loss: 4.8227 - val_policy_head_loss: 3.8965 - val_value_head_loss: 0.8581\n"
     ]
    },
    {
     "name": "stdout",
     "output_type": "stream",
     "text": [
      "Train on 3600 samples, validate on 400 samples\n"
     ]
    },
    {
     "name": "stdout",
     "output_type": "stream",
     "text": [
      " - 5s - loss: 4.8486 - policy_head_loss: 3.9646 - value_head_loss: 0.8160 - val_loss: 4.8037 - val_policy_head_loss: 3.9345 - val_value_head_loss: 0.8012\n"
     ]
    },
    {
     "name": "stdout",
     "output_type": "stream",
     "text": [
      "Train on 3600 samples, validate on 400 samples\n"
     ]
    },
    {
     "name": "stdout",
     "output_type": "stream",
     "text": [
      " - 5s - loss: 4.8539 - policy_head_loss: 3.9489 - value_head_loss: 0.8370 - val_loss: 4.8503 - val_policy_head_loss: 3.9461 - val_value_head_loss: 0.8362\n"
     ]
    },
    {
     "name": "stdout",
     "output_type": "stream",
     "text": [
      "321.41111850738525 seconds taken, 10.713703950246176 per game\n",
      "Train on 3600 samples, validate on 400 samples\n"
     ]
    },
    {
     "name": "stdout",
     "output_type": "stream",
     "text": [
      " - 5s - loss: 4.7960 - policy_head_loss: 3.9096 - value_head_loss: 0.8185 - val_loss: 4.7992 - val_policy_head_loss: 3.9153 - val_value_head_loss: 0.8160\n"
     ]
    },
    {
     "name": "stdout",
     "output_type": "stream",
     "text": [
      "Train on 3600 samples, validate on 400 samples\n"
     ]
    },
    {
     "name": "stdout",
     "output_type": "stream",
     "text": [
      " - 5s - loss: 4.8045 - policy_head_loss: 3.9275 - value_head_loss: 0.8092 - val_loss: 4.9245 - val_policy_head_loss: 3.9937 - val_value_head_loss: 0.8630\n"
     ]
    },
    {
     "name": "stdout",
     "output_type": "stream",
     "text": [
      "Train on 3600 samples, validate on 400 samples\n"
     ]
    },
    {
     "name": "stdout",
     "output_type": "stream",
     "text": [
      " - 5s - loss: 4.7772 - policy_head_loss: 3.8994 - value_head_loss: 0.8099 - val_loss: 4.7800 - val_policy_head_loss: 3.9357 - val_value_head_loss: 0.7766\n"
     ]
    },
    {
     "name": "stdout",
     "output_type": "stream",
     "text": [
      "Train on 3600 samples, validate on 400 samples\n"
     ]
    },
    {
     "name": "stdout",
     "output_type": "stream",
     "text": [
      " - 5s - loss: 4.7827 - policy_head_loss: 3.8803 - value_head_loss: 0.8347 - val_loss: 4.8966 - val_policy_head_loss: 3.9663 - val_value_head_loss: 0.8626\n"
     ]
    },
    {
     "name": "stdout",
     "output_type": "stream",
     "text": [
      "Round 75, against minimax: Counter({1: 9, -1: 1, 0: 0})\n"
     ]
    },
    {
     "name": "stdout",
     "output_type": "stream",
     "text": [
      "Round 75, against current best neural: Counter({-1: 6, 1: 4, 0: 0})\n"
     ]
    },
    {
     "name": "stdout",
     "output_type": "stream",
     "text": [
      "313.44987320899963 seconds taken, 10.448329106966655 per game\n",
      "Train on 3600 samples, validate on 400 samples\n"
     ]
    },
    {
     "name": "stdout",
     "output_type": "stream",
     "text": [
      " - 5s - loss: 4.7700 - policy_head_loss: 3.8692 - value_head_loss: 0.8332 - val_loss: 4.9429 - val_policy_head_loss: 3.9337 - val_value_head_loss: 0.9416\n"
     ]
    },
    {
     "name": "stdout",
     "output_type": "stream",
     "text": [
      "Train on 3600 samples, validate on 400 samples\n"
     ]
    },
    {
     "name": "stdout",
     "output_type": "stream",
     "text": [
      " - 5s - loss: 4.8722 - policy_head_loss: 3.9400 - value_head_loss: 0.8647 - val_loss: 4.9959 - val_policy_head_loss: 3.9455 - val_value_head_loss: 0.9830\n"
     ]
    },
    {
     "name": "stdout",
     "output_type": "stream",
     "text": [
      "Train on 3600 samples, validate on 400 samples\n"
     ]
    },
    {
     "name": "stdout",
     "output_type": "stream",
     "text": [
      " - 5s - loss: 4.8461 - policy_head_loss: 3.9181 - value_head_loss: 0.8606 - val_loss: 4.7790 - val_policy_head_loss: 3.8163 - val_value_head_loss: 0.8954\n"
     ]
    },
    {
     "name": "stdout",
     "output_type": "stream",
     "text": [
      "Train on 3600 samples, validate on 400 samples\n"
     ]
    },
    {
     "name": "stdout",
     "output_type": "stream",
     "text": [
      " - 5s - loss: 4.7717 - policy_head_loss: 3.8793 - value_head_loss: 0.8250 - val_loss: 4.8962 - val_policy_head_loss: 3.8866 - val_value_head_loss: 0.9423\n"
     ]
    },
    {
     "name": "stdout",
     "output_type": "stream",
     "text": [
      "320.57330870628357 seconds taken, 10.685776956876119 per game\n",
      "Train on 3600 samples, validate on 400 samples\n"
     ]
    },
    {
     "name": "stdout",
     "output_type": "stream",
     "text": [
      " - 5s - loss: 4.7381 - policy_head_loss: 3.8892 - value_head_loss: 0.7816 - val_loss: 4.8281 - val_policy_head_loss: 3.9471 - val_value_head_loss: 0.8138\n"
     ]
    },
    {
     "name": "stdout",
     "output_type": "stream",
     "text": [
      "Train on 3600 samples, validate on 400 samples\n"
     ]
    },
    {
     "name": "stdout",
     "output_type": "stream",
     "text": [
      " - 5s - loss: 4.8273 - policy_head_loss: 3.9266 - value_head_loss: 0.8335 - val_loss: 4.9663 - val_policy_head_loss: 4.0279 - val_value_head_loss: 0.8712\n"
     ]
    },
    {
     "name": "stdout",
     "output_type": "stream",
     "text": [
      "Train on 3600 samples, validate on 400 samples\n"
     ]
    },
    {
     "name": "stdout",
     "output_type": "stream",
     "text": [
      " - 5s - loss: 4.6745 - policy_head_loss: 3.8018 - value_head_loss: 0.8055 - val_loss: 4.7351 - val_policy_head_loss: 3.8275 - val_value_head_loss: 0.8405\n"
     ]
    },
    {
     "name": "stdout",
     "output_type": "stream",
     "text": [
      "Train on 3600 samples, validate on 400 samples\n"
     ]
    },
    {
     "name": "stdout",
     "output_type": "stream",
     "text": [
      " - 5s - loss: 4.7659 - policy_head_loss: 3.8973 - value_head_loss: 0.8015 - val_loss: 4.8094 - val_policy_head_loss: 3.9218 - val_value_head_loss: 0.8206\n"
     ]
    },
    {
     "name": "stdout",
     "output_type": "stream",
     "text": [
      "307.02722239494324 seconds taken, 10.234240746498108 per game\n",
      "Train on 3600 samples, validate on 400 samples\n"
     ]
    },
    {
     "name": "stdout",
     "output_type": "stream",
     "text": [
      " - 5s - loss: 4.8314 - policy_head_loss: 3.9344 - value_head_loss: 0.8299 - val_loss: 4.8375 - val_policy_head_loss: 3.9208 - val_value_head_loss: 0.8497\n"
     ]
    },
    {
     "name": "stdout",
     "output_type": "stream",
     "text": [
      "Train on 3600 samples, validate on 400 samples\n"
     ]
    },
    {
     "name": "stdout",
     "output_type": "stream",
     "text": [
      " - 5s - loss: 4.7930 - policy_head_loss: 3.8627 - value_head_loss: 0.8634 - val_loss: 4.8304 - val_policy_head_loss: 3.8557 - val_value_head_loss: 0.9079\n"
     ]
    },
    {
     "name": "stdout",
     "output_type": "stream",
     "text": [
      "Train on 3600 samples, validate on 400 samples\n"
     ]
    },
    {
     "name": "stdout",
     "output_type": "stream",
     "text": [
      " - 5s - loss: 4.8169 - policy_head_loss: 3.9419 - value_head_loss: 0.8081 - val_loss: 4.7652 - val_policy_head_loss: 3.9105 - val_value_head_loss: 0.7880\n"
     ]
    },
    {
     "name": "stdout",
     "output_type": "stream",
     "text": [
      "Train on 3600 samples, validate on 400 samples\n"
     ]
    },
    {
     "name": "stdout",
     "output_type": "stream",
     "text": [
      " - 5s - loss: 4.7266 - policy_head_loss: 3.8962 - value_head_loss: 0.7636 - val_loss: 4.7608 - val_policy_head_loss: 3.9123 - val_value_head_loss: 0.7817\n"
     ]
    },
    {
     "name": "stdout",
     "output_type": "stream",
     "text": [
      "322.55638694763184 seconds taken, 10.751879564921062 per game\n",
      "Train on 3600 samples, validate on 400 samples\n"
     ]
    },
    {
     "name": "stdout",
     "output_type": "stream",
     "text": [
      " - 5s - loss: 4.7704 - policy_head_loss: 3.9079 - value_head_loss: 0.7958 - val_loss: 4.8962 - val_policy_head_loss: 3.9075 - val_value_head_loss: 0.9220\n"
     ]
    },
    {
     "name": "stdout",
     "output_type": "stream",
     "text": [
      "Train on 3600 samples, validate on 400 samples\n"
     ]
    },
    {
     "name": "stdout",
     "output_type": "stream",
     "text": [
      " - 5s - loss: 4.7466 - policy_head_loss: 3.8718 - value_head_loss: 0.8082 - val_loss: 4.8091 - val_policy_head_loss: 3.9368 - val_value_head_loss: 0.8057\n"
     ]
    },
    {
     "name": "stdout",
     "output_type": "stream",
     "text": [
      "Train on 3600 samples, validate on 400 samples\n"
     ]
    },
    {
     "name": "stdout",
     "output_type": "stream",
     "text": [
      " - 5s - loss: 4.7393 - policy_head_loss: 3.8951 - value_head_loss: 0.7776 - val_loss: 4.7436 - val_policy_head_loss: 3.8752 - val_value_head_loss: 0.8018\n"
     ]
    },
    {
     "name": "stdout",
     "output_type": "stream",
     "text": [
      "Train on 3600 samples, validate on 400 samples\n"
     ]
    },
    {
     "name": "stdout",
     "output_type": "stream",
     "text": [
      " - 5s - loss: 4.7059 - policy_head_loss: 3.8732 - value_head_loss: 0.7662 - val_loss: 4.7822 - val_policy_head_loss: 3.9100 - val_value_head_loss: 0.8056\n"
     ]
    }
   ],
   "source": [
    "while True:\n",
    "    round += 1\n",
    "    multi.self_play_games(current_agent,\n",
    "                          view,\n",
    "                          30,\n",
    "                          verbose=True,\n",
    "                          num_workers=3)\n",
    "    for e in range(4):\n",
    "        current_agent.fit(view.get_experiences(sample_k=1000), epochs=1)\n",
    "    if round % 5 == 0:\n",
    "        wins = multi.tally_wins([minimax.MinimaxSearchAgent(), current_agent], 10, num_workers=3)\n",
    "        print('Round {}, against minimax: {}'.format(round, wins))\n",
    "        wins = multi.tally_wins([best_agent, current_agent], 10, num_workers=3)\n",
    "        print('Round {}, against current best neural: {}'.format(round, wins))\n",
    "        if wins[-1] > 7:\n",
    "            print('Ratcheting best agent')\n",
    "            best_agent.model.set_weights(current_agent.model.get_weights())"
   ]
  }
 ],
 "metadata": {
  "kernelspec": {
   "display_name": "Python [conda env:gai-project]",
   "name": "conda-env-gai-project-py"
  },
  "name": "training_experiments.ipynb"
 },
 "nbformat": 4,
 "nbformat_minor": 2
}
