{
 "cells": [
  {
   "cell_type": "code",
   "execution_count": 1,
   "metadata": {
    "autoscroll": false,
    "ein.hycell": false,
    "ein.tags": "worksheet-0",
    "slideshow": {
     "slide_type": "-"
    }
   },
   "outputs": [],
   "source": [
    "import importlib\n",
    "from tqdm import tqdm\n",
    "from tqdm import trange\n",
    "\n",
    "import pentago\n",
    "from pentago import agent, memory, minimax, learning_agent, neural_model, monte_carlo, monte_carlo_multi, evaluate, game"
   ]
  },
  {
   "cell_type": "code",
   "execution_count": null,
   "metadata": {
    "autoscroll": false,
    "ein.hycell": false,
    "ein.tags": "worksheet-0",
    "slideshow": {
     "slide_type": "-"
    }
   },
   "outputs": [
    {
     "name": "stderr",
     "output_type": "stream",
     "text": [
      " 43%|████▎     | 431/1000 [19:12<25:17,  2.67s/it]"
     ]
    }
   ],
   "source": [
    "initial_view = memory.MemoryView()\n",
    "controller = pentago.Controller([minimax.MinimaxSearchAgent(depth=2)] * 2, initial_view)\n",
    "for i in tqdm(range(1000)):\n",
    "    controller.play_game()"
   ]
  },
  {
   "cell_type": "code",
   "execution_count": null,
   "metadata": {
    "autoscroll": false,
    "ein.hycell": false,
    "ein.tags": "worksheet-0",
    "slideshow": {
     "slide_type": "-"
    }
   },
   "outputs": [],
   "source": [
    "import dill as pickle"
   ]
  },
  {
   "cell_type": "code",
   "execution_count": null,
   "metadata": {
    "autoscroll": false,
    "ein.hycell": false,
    "ein.tags": "worksheet-0",
    "slideshow": {
     "slide_type": "-"
    }
   },
   "outputs": [],
   "source": [
    "pickle.dump(initial_view, open('initial_view.pkl', mode='wb'))"
   ]
  },
  {
   "cell_type": "code",
   "execution_count": null,
   "metadata": {
    "autoscroll": false,
    "ein.hycell": false,
    "ein.tags": "worksheet-0",
    "scrolled": true,
    "slideshow": {
     "slide_type": "-"
    }
   },
   "outputs": [],
   "source": [
    "initial_view = pickle.load(open('initial_view.pkl', mode='rb'))"
   ]
  },
  {
   "cell_type": "code",
   "execution_count": null,
   "metadata": {
    "autoscroll": false,
    "ein.hycell": false,
    "ein.tags": "worksheet-0",
    "slideshow": {
     "slide_type": "-"
    }
   },
   "outputs": [],
   "source": [
    "importlib.reload(neural_model)\n",
    "importlib.reload(learning_agent)\n",
    "importlib.reload(game)\n",
    "importlib.reload(monte_carlo_multi)\n",
    "neural_agent = learning_agent.NeuralAgent(model_params={'dense_regularization_const': 1e-2,\n",
    "                                                        'regularization_const': 0,\n",
    "                                                        'num_layers': 5,\n",
    "                                                        'kernel_size': 3,\n",
    "                                                        'num_filters': 64})"
   ]
  },
  {
   "cell_type": "code",
   "execution_count": null,
   "metadata": {
    "autoscroll": false,
    "ein.hycell": false,
    "ein.tags": "worksheet-0",
    "slideshow": {
     "slide_type": "-"
    }
   },
   "outputs": [],
   "source": [
    "print(evaluate.tally_wins([agent.RandomAgent(), neural_agent], trials=10))\n",
    "print(evaluate.tally_wins([minimax.MinimaxSearchAgent(), neural_agent], trials=10, verbose=True))"
   ]
  },
  {
   "cell_type": "code",
   "execution_count": null,
   "metadata": {
    "autoscroll": false,
    "ein.hycell": false,
    "ein.tags": "worksheet-0",
    "slideshow": {
     "slide_type": "-"
    }
   },
   "outputs": [],
   "source": [
    "neural_agent.fit(initial_view.get_experiences())"
   ]
  },
  {
   "cell_type": "code",
   "execution_count": null,
   "metadata": {
    "autoscroll": false,
    "ein.hycell": false,
    "ein.tags": "worksheet-0",
    "slideshow": {
     "slide_type": "-"
    }
   },
   "outputs": [],
   "source": [
    "print(evaluate.tally_wins([agent.RandomAgent(), neural_agent], trials=10))\n",
    "print(evaluate.tally_wins([minimax.MinimaxSearchAgent(), neural_agent], trials=10))"
   ]
  },
  {
   "cell_type": "code",
   "execution_count": null,
   "metadata": {
    "autoscroll": false,
    "ein.hycell": false,
    "ein.tags": "worksheet-0",
    "slideshow": {
     "slide_type": "-"
    }
   },
   "outputs": [],
   "source": [
    "while True:\n",
    "    view = memory.MemoryView()\n",
    "    controller = pentago.Controller([neural_agent] * 2, view)\n",
    "    with trange(500) as t:\n",
    "        for i in t:\n",
    "            controller.play_game()\n",
    "    neural_agent.fit(view.get_experiences())\n",
    "    wins = evaluate.tally_wins([minimax.MinimaxSearchAgent(), neural_agent], trials=10)\n",
    "    print(wins)\n",
    "    if wins[-1] > 7:\n",
    "        break"
   ]
  }
 ],
 "metadata": {
  "kernelspec": {
   "display_name": "Python 3",
   "language": "python",
   "name": "python3"
  },
  "language_info": {
   "codemirror_mode": {
    "name": "ipython",
    "version": 3
   },
   "file_extension": ".py",
   "mimetype": "text/x-python",
   "name": "python",
   "nbconvert_exporter": "python",
   "pygments_lexer": "ipython3",
   "version": "3.6.8"
  },
  "name": "training_experiments.ipynb"
 },
 "nbformat": 4,
 "nbformat_minor": 2
}
