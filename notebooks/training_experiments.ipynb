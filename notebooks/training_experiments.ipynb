{
 "cells": [
  {
   "cell_type": "code",
   "execution_count": 1,
   "metadata": {
    "autoscroll": false,
    "ein.hycell": false,
    "ein.tags": "worksheet-0",
    "slideshow": {
     "slide_type": "-"
    }
   },
   "outputs": [],
   "source": [
    "import importlib\n",
    "import time\n",
    "\n",
    "from tqdm import tqdm\n",
    "from tqdm import trange\n",
    "\n",
    "from multiprocessing import Pool, Queue\n",
    "\n",
    "import pentago\n",
    "from pentago import agent, memory, minimax, learning_agent, neural_model, monte_carlo, evaluate, game"
   ]
  },
  {
   "cell_type": "code",
   "execution_count": 2,
   "metadata": {},
   "outputs": [],
   "source": [
    "thread_count = 20\n",
    "training_chunk_size = 500\n",
    "q = None\n",
    "\n",
    "def load_queue(queue):\n",
    "    q = queue\n",
    "    \n",
    "def train_thread(controller):\n",
    "    for _ in range(int(training_chunk_size/thread_count)):\n",
    "        controller.play_game()\n",
    "        q.put(1)\n",
    "    q.close()\n",
    "    q.join_thread()\n",
    "    return controller.view"
   ]
  },
  {
   "cell_type": "code",
   "execution_count": 4,
   "metadata": {
    "autoscroll": false,
    "ein.hycell": false,
    "ein.tags": "worksheet-0",
    "slideshow": {
     "slide_type": "-"
    }
   },
   "outputs": [
    {
     "name": "stderr",
     "output_type": "stream",
     "text": [
      "100%|██████████| 500/500 [04:59<00:00,  2.20it/s]"
     ]
    }
   ],
   "source": [
    "view = memory.MemoryView()\n",
    "controller = pentago.Controller([minimax.MinimaxSearchAgent(depth=2)] * 2, view)\n",
    "initial_view = memory.MemoryView()\n",
    "\n",
    "q = Queue()\n",
    "pbar = tqdm(total=int(training_chunk_size/thread_count)*thread_count,position=0)\n",
    "pool = Pool(thread_count,load_queue,(q,))\n",
    "result = pool.map_async(train_thread, [controller for x in range(thread_count)])\n",
    "pool.close()\n",
    "\n",
    "while True:\n",
    "    if q.empty() and result.ready():\n",
    "        break\n",
    "    elif not q.empty():\n",
    "        q.get()\n",
    "        pbar.update()\n",
    "    else:\n",
    "        time.sleep(1)\n",
    "q.close()\n",
    "pool.join()\n",
    "q.join_thread()\n",
    "pbar.refresh()\n",
    "\n",
    "initial_view = memory.MemoryView().add_experiences(result.get())"
   ]
  },
  {
   "cell_type": "code",
   "execution_count": 5,
   "metadata": {
    "autoscroll": false,
    "ein.hycell": false,
    "ein.tags": "worksheet-0",
    "slideshow": {
     "slide_type": "-"
    }
   },
   "outputs": [],
   "source": [
    "import dill as pickle"
   ]
  },
  {
   "cell_type": "code",
   "execution_count": 6,
   "metadata": {
    "autoscroll": false,
    "ein.hycell": false,
    "ein.tags": "worksheet-0",
    "slideshow": {
     "slide_type": "-"
    }
   },
   "outputs": [],
   "source": [
    "pickle.dump(initial_view, open('initial_view.pkl', mode='wb'))"
   ]
  },
  {
   "cell_type": "code",
   "execution_count": 7,
   "metadata": {
    "autoscroll": false,
    "ein.hycell": false,
    "ein.tags": "worksheet-0",
    "slideshow": {
     "slide_type": "-"
    }
   },
   "outputs": [],
   "source": [
    "initial_view = pickle.load(open('initial_view.pkl', mode='rb'))"
   ]
  },
  {
   "cell_type": "code",
   "execution_count": 8,
   "metadata": {
    "autoscroll": false,
    "ein.hycell": false,
    "ein.tags": "worksheet-0",
    "slideshow": {
     "slide_type": "-"
    }
   },
   "outputs": [
    {
     "name": "stdout",
     "output_type": "stream",
     "text": [
      "WARNING:tensorflow:From /anaconda3/envs/gai-final-project/lib/python3.6/site-packages/tensorflow/python/ops/resource_variable_ops.py:435: colocate_with (from tensorflow.python.framework.ops) is deprecated and will be removed in a future version.\n",
      "Instructions for updating:\n",
      "Colocations handled automatically by placer.\n"
     ]
    }
   ],
   "source": [
    "importlib.reload(neural_model)\n",
    "importlib.reload(learning_agent)\n",
    "importlib.reload(game)\n",
    "importlib.reload(monte_carlo)\n",
    "neural_agent = learning_agent.NeuralAgent(model_params={'dense_regularization_const': 1e-2,\n",
    "                                                        'regularization_const': 0,\n",
    "                                                        'num_layers': 5,\n",
    "                                                        'kernel_size': 3,\n",
    "                                                        'num_filters': 64})"
   ]
  },
  {
   "cell_type": "code",
   "execution_count": null,
   "metadata": {
    "autoscroll": false,
    "ein.hycell": false,
    "ein.tags": "worksheet-0",
    "slideshow": {
     "slide_type": "-"
    }
   },
   "outputs": [],
   "source": [
    "print(evaluate.tally_wins([agent.RandomAgent(), neural_agent], trials=10))\n",
    "print(evaluate.tally_wins([minimax.MinimaxSearchAgent(), neural_agent], trials=10, verbose=True))"
   ]
  },
  {
   "cell_type": "code",
   "execution_count": null,
   "metadata": {
    "autoscroll": false,
    "ein.hycell": false,
    "ein.tags": "worksheet-0",
    "scrolled": false,
    "slideshow": {
     "slide_type": "-"
    }
   },
   "outputs": [],
   "source": [
    "neural_agent.fit(view.get_experiences())"
   ]
  },
  {
   "cell_type": "code",
   "execution_count": null,
   "metadata": {
    "autoscroll": false,
    "ein.hycell": false,
    "ein.tags": "worksheet-0",
    "slideshow": {
     "slide_type": "-"
    }
   },
   "outputs": [],
   "source": [
    "print(evaluate.tally_wins([agent.RandomAgent(), neural_agent], trials=10))\n",
    "print(evaluate.tally_wins([minimax.MinimaxSearchAgent(), neural_agent], trials=10))"
   ]
  },
  {
   "cell_type": "code",
   "execution_count": null,
   "metadata": {
    "autoscroll": false,
    "ein.hycell": false,
    "ein.tags": "worksheet-0",
    "scrolled": true,
    "slideshow": {
     "slide_type": "-"
    }
   },
   "outputs": [],
   "source": [
    "q = Queue()\n",
    "pool = Pool(thread_count,load_queue,(q,))\n",
    "\n",
    "while True:\n",
    "    view = memory.MemoryView()\n",
    "    controller = pentago.Controller([neural_agent] * 2, view)\n",
    "    pbar = tqdm(total=int(training_chunk_size/thread_count)*thread_count,position=0)\n",
    "    \n",
    "    result = pool.map_async(train_thread, [controller for x in range(thread_count)])\n",
    "\n",
    "    while True:\n",
    "        if q.empty() and result.ready():\n",
    "            break\n",
    "        elif not q.empty():\n",
    "            q.get()\n",
    "            pbar.update()\n",
    "        else:\n",
    "            time.sleep(1)\n",
    "    pbar.refresh()\n",
    "\n",
    "    view = memory.MemoryView().add_experiences(result.get())\n",
    "\n",
    "    neural_agent.fit(view.get_experiences())\n",
    "    wins = evaluate.tally_wins([minimax.MinimaxSearchAgent(), neural_agent], trials=10)\n",
    "    print(wins)\n",
    "    if wins[-1] > 7:\n",
    "        break\n"
   ]
  },
  {
   "cell_type": "code",
   "execution_count": null,
   "metadata": {},
   "outputs": [],
   "source": [
    "pool.close()\n",
    "q.close()\n",
    "pool.join()\n",
    "q.join_thread()"
   ]
  },
  {
   "cell_type": "code",
   "execution_count": null,
   "metadata": {},
   "outputs": [],
   "source": [
    "pickle.dump(view, open('trained_view.pkl', mode='wb'))"
   ]
  },
  {
   "cell_type": "code",
   "execution_count": null,
   "metadata": {},
   "outputs": [],
   "source": [
    "view = pickle.load(open('trained_view.pkl', mode='rb'))"
   ]
  },
  {
   "cell_type": "code",
   "execution_count": null,
   "metadata": {},
   "outputs": [],
   "source": [
    "params = neural_agent.to_params()\n",
    "print(params)"
   ]
  },
  {
   "cell_type": "code",
   "execution_count": null,
   "metadata": {},
   "outputs": [],
   "source": []
  }
 ],
 "metadata": {
  "kernelspec": {
   "display_name": "Python 3",
   "language": "python",
   "name": "python3"
  },
  "language_info": {
   "codemirror_mode": {
    "name": "ipython",
    "version": 3
   },
   "file_extension": ".py",
   "mimetype": "text/x-python",
   "name": "python",
   "nbconvert_exporter": "python",
   "pygments_lexer": "ipython3",
   "version": "3.6.8"
  },
  "name": "training_experiments.ipynb"
 },
 "nbformat": 4,
 "nbformat_minor": 2
}
