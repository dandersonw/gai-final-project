{
 "cells": [
  {
   "cell_type": "code",
   "execution_count": 1,
   "metadata": {
    "autoscroll": false,
    "collapsed": false,
    "ein.hycell": false,
    "ein.tags": "worksheet-0",
    "slideshow": {
     "slide_type": "-"
    }
   },
   "outputs": [],
   "source": [
    "import importlib\n",
    "\n",
    "import pentago\n",
    "from pentago import game, agent, memory, minimax, learning_agent, neural_model, monte_carlo"
   ]
  },
  {
   "cell_type": "code",
   "execution_count": 2,
   "metadata": {
    "autoscroll": false,
    "collapsed": false,
    "ein.hycell": false,
    "ein.tags": "worksheet-0",
    "slideshow": {
     "slide_type": "-"
    }
   },
   "outputs": [],
   "source": [
    "agents = [minimax.MinimaxSearchAgent()] * 2\n",
    "initial_view = memory.MemoryView()\n",
    "controller = pentago.Controller(agents, initial_view)\n",
    "\n",
    "for i in range(10):\n",
    "    controller.play_game()"
   ]
  },
  {
   "cell_type": "code",
   "execution_count": 17,
   "metadata": {
    "autoscroll": false,
    "collapsed": false,
    "ein.hycell": false,
    "ein.tags": "worksheet-0",
    "slideshow": {
     "slide_type": "-"
    }
   },
   "outputs": [],
   "source": [
    "importlib.reload(learning_agent)\n",
    "neural_agent = learning_agent.NeuralAgent(model_name='residual_conv_net', model_params=dict())"
   ]
  },
  {
   "cell_type": "code",
   "execution_count": 18,
   "metadata": {
    "autoscroll": false,
    "collapsed": false,
    "ein.hycell": false,
    "ein.tags": "worksheet-0",
    "slideshow": {
     "slide_type": "-"
    }
   },
   "outputs": [
    {
     "name": "stdout",
     "output_type": "stream",
     "text": [
      "Epoch 1/5\n"
     ]
    },
    {
     "name": "stdout",
     "output_type": "stream",
     "text": [
      "\r",
      "90/90 [==============================] - 1s 6ms/sample - loss: 7.3281 - policy_head_loss: 5.6341 - value_head_loss: 1.6705\n"
     ]
    },
    {
     "name": "stdout",
     "output_type": "stream",
     "text": [
      "Epoch 2/5\n",
      "\r",
      "90/90 [==============================] - 0s 94us/sample - loss: 7.2622 - policy_head_loss: 5.6017 - value_head_loss: 1.6370\n"
     ]
    },
    {
     "name": "stdout",
     "output_type": "stream",
     "text": [
      "Epoch 3/5\n",
      "\r",
      "90/90 [==============================] - 0s 73us/sample - loss: 7.1966 - policy_head_loss: 5.5694 - value_head_loss: 1.6037\n"
     ]
    },
    {
     "name": "stdout",
     "output_type": "stream",
     "text": [
      "Epoch 4/5\n",
      "\r",
      "90/90 [==============================] - 0s 76us/sample - loss: 7.1316 - policy_head_loss: 5.5372 - value_head_loss: 1.5710\n"
     ]
    },
    {
     "name": "stdout",
     "output_type": "stream",
     "text": [
      "Epoch 5/5\n",
      "\r",
      "90/90 [==============================] - 0s 68us/sample - loss: 7.0676 - policy_head_loss: 5.5050 - value_head_loss: 1.5391\n"
     ]
    }
   ],
   "source": [
    "neural_agent.fit(initial_view.get_experiences())"
   ]
  },
  {
   "cell_type": "code",
   "execution_count": 20,
   "metadata": {
    "autoscroll": false,
    "collapsed": false,
    "ein.hycell": false,
    "ein.tags": "worksheet-0",
    "slideshow": {
     "slide_type": "-"
    }
   },
   "outputs": [],
   "source": [
    "importlib.reload(monte_carlo)\n",
    "view = memory.MemoryView()\n",
    "controller = pentago.Controller([neural_agent] * 2, view)\n",
    "for i in range(1):\n",
    "    controller.play_game()"
   ]
  },
  {
   "cell_type": "code",
   "execution_count": 22,
   "metadata": {
    "autoscroll": false,
    "collapsed": false,
    "ein.hycell": false,
    "ein.tags": "worksheet-0",
    "slideshow": {
     "slide_type": "-"
    }
   },
   "outputs": [
    {
     "name": "stdout",
     "output_type": "stream",
     "text": [
      "Epoch 1/5\n",
      "\r",
      "57/57 [==============================] - 0s 96us/sample - loss: 7.8794 - policy_head_loss: 5.6714 - value_head_loss: 2.1845\n"
     ]
    },
    {
     "name": "stdout",
     "output_type": "stream",
     "text": [
      "Epoch 2/5\n",
      "\r",
      "57/57 [==============================] - 0s 76us/sample - loss: 7.8426 - policy_head_loss: 5.6590 - value_head_loss: 2.1602\n"
     ]
    },
    {
     "name": "stdout",
     "output_type": "stream",
     "text": [
      "Epoch 3/5\n",
      "\r",
      "57/57 [==============================] - 0s 82us/sample - loss: 7.7949 - policy_head_loss: 5.6427 - value_head_loss: 2.1288\n"
     ]
    },
    {
     "name": "stdout",
     "output_type": "stream",
     "text": [
      "Epoch 4/5\n",
      "\r",
      "57/57 [==============================] - 0s 80us/sample - loss: 7.7401 - policy_head_loss: 5.6241 - value_head_loss: 2.0927\n"
     ]
    },
    {
     "name": "stdout",
     "output_type": "stream",
     "text": [
      "Epoch 5/5\n",
      "\r",
      "57/57 [==============================] - 0s 90us/sample - loss: 7.6803 - policy_head_loss: 5.6038 - value_head_loss: 2.0530\n"
     ]
    }
   ],
   "source": [
    "neural_agent.fit(view.get_experiences())"
   ]
  }
 ],
 "metadata": {
  "kernelspec": {
   "display_name": "Python [conda env:gai-project]",
   "name": "conda-env-gai-project-py"
  },
  "name": "training_experiments.ipynb"
 },
 "nbformat": 4,
 "nbformat_minor": 2
}
