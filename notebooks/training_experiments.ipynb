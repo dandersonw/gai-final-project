{
 "cells": [
  {
   "cell_type": "code",
   "execution_count": 1,
   "metadata": {
    "autoscroll": false,
    "collapsed": false,
    "ein.hycell": false,
    "ein.tags": "worksheet-0",
    "slideshow": {
     "slide_type": "-"
    }
   },
   "outputs": [],
   "source": [
    "import importlib\n",
    "\n",
    "import pentago\n",
    "from pentago import game, agent, memory, controller, search_ai, learning_agent\n",
    "import pentago.neural_model as nm"
   ]
  },
  {
   "cell_type": "code",
   "execution_count": 2,
   "metadata": {
    "autoscroll": false,
    "collapsed": false,
    "ein.hycell": false,
    "ein.tags": "worksheet-0",
    "slideshow": {
     "slide_type": "-"
    }
   },
   "outputs": [],
   "source": [
    "agents = [search_ai.MinimaxSearchAgent()] * 2\n",
    "view = memory.MemoryView()\n",
    "controller = controller.Controller(agents, view)\n",
    "\n",
    "for i in range(10):\n",
    "    controller.play_game()"
   ]
  },
  {
   "cell_type": "code",
   "execution_count": 3,
   "metadata": {
    "autoscroll": false,
    "collapsed": false,
    "ein.hycell": false,
    "ein.tags": "worksheet-0",
    "slideshow": {
     "slide_type": "-"
    }
   },
   "outputs": [
    {
     "name": "stdout",
     "output_type": "stream",
     "text": [
      "WARNING:tensorflow:From /home/derick/anaconda3/envs/gai-project/lib/python3.7/site-packages/tensorflow/python/ops/resource_variable_ops.py:435: colocate_with (from tensorflow.python.framework.ops) is deprecated and will be removed in a future version.\n",
      "Instructions for updating:\n",
      "Colocations handled automatically by placer.\n"
     ]
    }
   ],
   "source": [
    "importlib.reload(nm)\n",
    "m = nm.residual_conv_net()"
   ]
  },
  {
   "cell_type": "code",
   "execution_count": 14,
   "metadata": {
    "autoscroll": false,
    "collapsed": false,
    "ein.hycell": false,
    "ein.tags": "worksheet-0",
    "slideshow": {
     "slide_type": "-"
    }
   },
   "outputs": [],
   "source": [
    "importlib.reload(learning_agent)\n",
    "data = learning_agent.experiences_to_feed_dict(view.get_experiences())"
   ]
  },
  {
   "cell_type": "code",
   "execution_count": 16,
   "metadata": {
    "autoscroll": false,
    "collapsed": false,
    "ein.hycell": false,
    "ein.tags": "worksheet-0",
    "slideshow": {
     "slide_type": "-"
    }
   },
   "outputs": [
    {
     "name": "stdout",
     "output_type": "stream",
     "text": [
      "Epoch 1/10\n",
      "\r",
      "32/90 [=========>....................] - ETA: 0s - loss: 7.1164 - policy_head_loss: 5.6662 - value_head_loss: 1.4270"
     ]
    },
    {
     "name": "stdout",
     "output_type": "stream",
     "text": [
      "\b\b\b\b\b\b\b\b\b\b\b\b\b\b\b\b\b\b\b\b\b\b\b\b\b\b\b\b\b\b\b\b\b\b\b\b\b\b\b\b\b\b\b\b\b\b\b\b\b\b\b\b\b\b\b\b\b\b\b\b\b\b\b\b\b\b\b\b\b\b\b\b\b\b\b\b\b\b\b\b\b\b\b\b\b\b\b\b\b\b\b\b\b\b\b\b\b\b\b\b\b\b\b\b\b\b\b\b\b\b\b\b\b\b\b\b\r",
      "90/90 [==============================] - 0s 136us/sample - loss: 7.0805 - policy_head_loss: 5.6044 - value_head_loss: 1.4529\n"
     ]
    },
    {
     "name": "stdout",
     "output_type": "stream",
     "text": [
      "Epoch 2/10\n",
      "\r",
      "32/90 [=========>....................] - ETA: 0s - loss: 6.9559 - policy_head_loss: 5.5948 - value_head_loss: 1.3378"
     ]
    },
    {
     "name": "stdout",
     "output_type": "stream",
     "text": [
      "\b\b\b\b\b\b\b\b\b\b\b\b\b\b\b\b\b\b\b\b\b\b\b\b\b\b\b\b\b\b\b\b\b\b\b\b\b\b\b\b\b\b\b\b\b\b\b\b\b\b\b\b\b\b\b\b\b\b\b\b\b\b\b\b\b\b\b\b\b\b\b\b\b\b\b\b\b\b\b\b\b\b\b\b\b\b\b\b\b\b\b\b\b\b\b\b\b\b\b\b\b\b\b\b\b\b\b\b\b\b\b\b\b\b\b\b\r",
      "90/90 [==============================] - 0s 162us/sample - loss: 6.9519 - policy_head_loss: 5.5463 - value_head_loss: 1.3824\n"
     ]
    },
    {
     "name": "stdout",
     "output_type": "stream",
     "text": [
      "Epoch 3/10\n",
      "\r",
      "32/90 [=========>....................] - ETA: 0s - loss: 6.7362 - policy_head_loss: 5.5419 - value_head_loss: 1.1712"
     ]
    },
    {
     "name": "stdout",
     "output_type": "stream",
     "text": [
      "\b\b\b\b\b\b\b\b\b\b\b\b\b\b\b\b\b\b\b\b\b\b\b\b\b\b\b\b\b\b\b\b\b\b\b\b\b\b\b\b\b\b\b\b\b\b\b\b\b\b\b\b\b\b\b\b\b\b\b\b\b\b\b\b\b\b\b\b\b\b\b\b\b\b\b\b\b\b\b\b\b\b\b\b\b\b\b\b\b\b\b\b\b\b\b\b\b\b\b\b\b\b\b\b\b\b\b\b\b\b\b\b\b\b\b\b\r",
      "90/90 [==============================] - 0s 138us/sample - loss: 6.8473 - policy_head_loss: 5.4931 - value_head_loss: 1.3310\n"
     ]
    },
    {
     "name": "stdout",
     "output_type": "stream",
     "text": [
      "Epoch 4/10\n",
      "\r",
      "32/90 [=========>....................] - ETA: 0s - loss: 6.6701 - policy_head_loss: 5.3511 - value_head_loss: 1.2959"
     ]
    },
    {
     "name": "stdout",
     "output_type": "stream",
     "text": [
      "\b\b\b\b\b\b\b\b\b\b\b\b\b\b\b\b\b\b\b\b\b\b\b\b\b\b\b\b\b\b\b\b\b\b\b\b\b\b\b\b\b\b\b\b\b\b\b\b\b\b\b\b\b\b\b\b\b\b\b\b\b\b\b\b\b\b\b\b\b\b\b\b\b\b\b\b\b\b\b\b\b\b\b\b\b\b\b\b\b\b\b\b\b\b\b\b\b\b\b\b\b\b\b\b\b\b\b\b\b\b\b\b\b\b\b\b\r",
      "90/90 [==============================] - 0s 160us/sample - loss: 6.7343 - policy_head_loss: 5.4344 - value_head_loss: 1.2768\n"
     ]
    },
    {
     "name": "stdout",
     "output_type": "stream",
     "text": [
      "Epoch 5/10\n",
      "\r",
      "32/90 [=========>....................] - ETA: 0s - loss: 6.5046 - policy_head_loss: 5.3441 - value_head_loss: 1.1375"
     ]
    },
    {
     "name": "stdout",
     "output_type": "stream",
     "text": [
      "\b\b\b\b\b\b\b\b\b\b\b\b\b\b\b\b\b\b\b\b\b\b\b\b\b\b\b\b\b\b\b\b\b\b\b\b\b\b\b\b\b\b\b\b\b\b\b\b\b\b\b\b\b\b\b\b\b\b\b\b\b\b\b\b\b\b\b\b\b\b\b\b\b\b\b\b\b\b\b\b\b\b\b\b\b\b\b\b\b\b\b\b\b\b\b\b\b\b\b\b\b\b\b\b\b\b\b\b\b\b\b\b\b\b\b\b\r",
      "90/90 [==============================] - 0s 345us/sample - loss: 6.6105 - policy_head_loss: 5.3686 - value_head_loss: 1.2188\n"
     ]
    },
    {
     "name": "stdout",
     "output_type": "stream",
     "text": [
      "Epoch 6/10\n",
      "\r",
      "32/90 [=========>....................] - ETA: 0s - loss: 6.3420 - policy_head_loss: 5.2872 - value_head_loss: 1.0318"
     ]
    },
    {
     "name": "stdout",
     "output_type": "stream",
     "text": [
      "\b\b\b\b\b\b\b\b\b\b\b\b\b\b\b\b\b\b\b\b\b\b\b\b\b\b\b\b\b\b\b\b\b\b\b\b\b\b\b\b\b\b\b\b\b\b\b\b\b\b\b\b\b\b\b\b\b\b\b\b\b\b\b\b\b\b\b\b\b\b\b\b\b\b\b\b\b\b\b\b\b\b\b\b\b\b\b\b\b\b\b\b\b\b\b\b\b\b\b\b\b\b\b\b\b\b\b\b\b\b\b\b\b\b\b\b\r",
      "90/90 [==============================] - 0s 138us/sample - loss: 6.5003 - policy_head_loss: 5.3058 - value_head_loss: 1.1715\n"
     ]
    },
    {
     "name": "stdout",
     "output_type": "stream",
     "text": [
      "Epoch 7/10\n",
      "\r",
      "32/90 [=========>....................] - ETA: 0s - loss: 6.5016 - policy_head_loss: 5.3115 - value_head_loss: 1.1671"
     ]
    },
    {
     "name": "stdout",
     "output_type": "stream",
     "text": [
      "\b\b\b\b\b\b\b\b\b\b\b\b\b\b\b\b\b\b\b\b\b\b\b\b\b\b\b\b\b\b\b\b\b\b\b\b\b\b\b\b\b\b\b\b\b\b\b\b\b\b\b\b\b\b\b\b\b\b\b\b\b\b\b\b\b\b\b\b\b\b\b\b\b\b\b\b\b\b\b\b\b\b\b\b\b\b\b\b\b\b\b\b\b\b\b\b\b\b\b\b\b\b\b\b\b\b\b\b\b\b\b\b\b\b\b\b\r",
      "90/90 [==============================] - 0s 142us/sample - loss: 6.3983 - policy_head_loss: 5.2398 - value_head_loss: 1.1354\n"
     ]
    },
    {
     "name": "stdout",
     "output_type": "stream",
     "text": [
      "Epoch 8/10\n",
      "\r",
      "32/90 [=========>....................] - ETA: 0s - loss: 6.5082 - policy_head_loss: 5.2028 - value_head_loss: 1.2824"
     ]
    },
    {
     "name": "stdout",
     "output_type": "stream",
     "text": [
      "\b\b\b\b\b\b\b\b\b\b\b\b\b\b\b\b\b\b\b\b\b\b\b\b\b\b\b\b\b\b\b\b\b\b\b\b\b\b\b\b\b\b\b\b\b\b\b\b\b\b\b\b\b\b\b\b\b\b\b\b\b\b\b\b\b\b\b\b\b\b\b\b\b\b\b\b\b\b\b\b\b\b\b\b\b\b\b\b\b\b\b\b\b\b\b\b\b\b\b\b\b\b\b\b\b\b\b\b\b\b\b\b\b\b\b\b\r",
      "90/90 [==============================] - 0s 124us/sample - loss: 6.3079 - policy_head_loss: 5.1746 - value_head_loss: 1.1102\n"
     ]
    },
    {
     "name": "stdout",
     "output_type": "stream",
     "text": [
      "Epoch 9/10\n",
      "\r",
      "32/90 [=========>....................] - ETA: 0s - loss: 6.1519 - policy_head_loss: 5.1125 - value_head_loss: 1.0164"
     ]
    },
    {
     "name": "stdout",
     "output_type": "stream",
     "text": [
      "\b\b\b\b\b\b\b\b\b\b\b\b\b\b\b\b\b\b\b\b\b\b\b\b\b\b\b\b\b\b\b\b\b\b\b\b\b\b\b\b\b\b\b\b\b\b\b\b\b\b\b\b\b\b\b\b\b\b\b\b\b\b\b\b\b\b\b\b\b\b\b\b\b\b\b\b\b\b\b\b\b\b\b\b\b\b\b\b\b\b\b\b\b\b\b\b\b\b\b\b\b\b\b\b\b\b\b\b\b\b\b\b\b\b\b\b\r",
      "90/90 [==============================] - 0s 199us/sample - loss: 6.1951 - policy_head_loss: 5.1106 - value_head_loss: 1.0615\n"
     ]
    },
    {
     "name": "stdout",
     "output_type": "stream",
     "text": [
      "Epoch 10/10\n",
      "\r",
      "32/90 [=========>....................] - ETA: 0s - loss: 6.1597 - policy_head_loss: 5.2163 - value_head_loss: 0.9205"
     ]
    },
    {
     "name": "stdout",
     "output_type": "stream",
     "text": [
      "\b\b\b\b\b\b\b\b\b\b\b\b\b\b\b\b\b\b\b\b\b\b\b\b\b\b\b\b\b\b\b\b\b\b\b\b\b\b\b\b\b\b\b\b\b\b\b\b\b\b\b\b\b\b\b\b\b\b\b\b\b\b\b\b\b\b\b\b\b\b\b\b\b\b\b\b\b\b\b\b\b\b\b\b\b\b\b\b\b\b\b\b\b\b\b\b\b\b\b\b\b\b\b\b\b\b\b\b\b\b\b\b\b\b\b\b\r",
      "90/90 [==============================] - 0s 153us/sample - loss: 6.0942 - policy_head_loss: 5.0421 - value_head_loss: 1.0290\n"
     ]
    },
    {
     "data": {
      "text/plain": [
       "<tensorflow.python.keras.callbacks.History at 0x7fb32d762f60>"
      ]
     },
     "execution_count": 16,
     "metadata": {},
     "output_type": "execute_result"
    }
   ],
   "source": [
    "m.fit(data, data, epochs=10)"
   ]
  },
  {
   "cell_type": "code",
   "execution_count": 17,
   "metadata": {
    "autoscroll": false,
    "collapsed": false,
    "ein.hycell": false,
    "ein.tags": "worksheet-0",
    "slideshow": {
     "slide_type": "-"
    }
   },
   "outputs": [],
   "source": [
    "board = game.generate_clean_board()"
   ]
  },
  {
   "cell_type": "code",
   "execution_count": 18,
   "metadata": {
    "autoscroll": false,
    "collapsed": false,
    "ein.hycell": false,
    "ein.tags": "worksheet-0",
    "slideshow": {
     "slide_type": "-"
    }
   },
   "outputs": [
    {
     "data": {
      "text/plain": [
       "[array([[ 0.04877622, -0.07849334, -0.03232711, -0.09622978, -0.04272208,\n         -0.07947364, -0.02314683, -0.02570649,  0.01420662, -0.01259615,\n         -0.10646476, -0.05380244, -0.07400768, -0.00993368, -0.08148594,\n          0.02675574, -0.01865363, -0.02509798,  0.00073752, -0.14348483,\n          0.0082186 ,  0.01018691,  0.00358339, -0.00311911, -0.02576347,\n          0.06738314, -0.069642  ,  0.10899404,  0.00847886,  0.05248877,\n         -0.04252549, -0.04321807, -0.1772995 , -0.09124606,  0.0196792 ,\n          0.02274176,  0.08799955,  0.06794083, -0.11270265,  0.02551499,\n         -0.01023168,  0.03423123, -0.00639127, -0.02614494, -0.11485706,\n          0.02948301,  0.00599036, -0.09000704,  0.04182579,  0.024322  ,\n         -0.0425876 , -0.00522539, -0.03157272, -0.02332612,  0.0668173 ,\n          0.01293207, -0.02517111,  0.0397127 , -0.01209816,  0.04138671,\n          0.00172685,  0.04003854,  0.0754399 , -0.01816123,  0.06325457,\n         -0.07821746,  0.0080543 , -0.10043783,  0.0170393 ,  0.10416993,\n         -0.03241825,  0.08831298,  0.00765946,  0.00515671, -0.05497113,\n          0.0873223 ,  0.04631763,  0.10121609, -0.05206228,  0.0441769 ,\n         -0.10937158,  0.06127981,  0.10665546, -0.03730972,  0.02017533,\n         -0.1320281 ,  0.0277301 , -0.0204422 ,  0.00520799, -0.01347771,\n         -0.0615043 ,  0.01005138,  0.06089319,  0.07411708, -0.02928141,\n         -0.05755395,  0.04175072, -0.01896061, -0.01455476, -0.05679559,\n         -0.0828776 ,  0.07794531,  0.17185745, -0.07623725, -0.10262726,\n          0.12527463, -0.01548451, -0.0498599 ,  0.04721757, -0.00276715,\n         -0.06013381, -0.09969786, -0.01697326,  0.05028843,  0.02851763,\n          0.05399294,  0.03059502,  0.00850738,  0.10134625,  0.02603914,\n          0.07762151,  0.11638656,  0.00708843, -0.04220815,  0.00576379,\n         -0.06270777,  0.03187755, -0.06703647,  0.09177564,  0.03705813,\n         -0.04863501, -0.03429388,  0.11005789,  0.00951975, -0.08494222,\n         -0.02265929,  0.09880219, -0.07850627,  0.05367395,  0.00579016,\n          0.03614233, -0.10994392,  0.00450952,  0.03122176,  0.01485252,\n         -0.0356353 ,  0.04543176,  0.00456232,  0.02369366,  0.09330109,\n          0.0579303 ,  0.02016756, -0.01357118,  0.06068438, -0.1281438 ,\n         -0.02455245,  0.09467958, -0.00497146, -0.04442909,  0.01080387,\n          0.06872217, -0.01219697,  0.01339936,  0.03893733, -0.03250037,\n         -0.06305378, -0.02876254,  0.03195916,  0.0756171 , -0.05441348,\n          0.08757396, -0.06752653,  0.09943645, -0.05799618, -0.02734079,\n         -0.01686323,  0.00800457, -0.03994356,  0.03128057, -0.05900479,\n          0.00941356,  0.01084185,  0.01535529, -0.15627664, -0.00272688,\n         -0.05384286, -0.00426376,  0.04259436, -0.04021989,  0.07771134,\n         -0.10686423,  0.02689035,  0.04329929, -0.06162365, -0.03044584,\n          0.0189661 , -0.01155958,  0.03159758,  0.04236664,  0.08440288,\n          0.10165023, -0.01514704, -0.0313486 , -0.06885637, -0.05313275,\n          0.02079145,  0.03187184,  0.06862609,  0.07428107, -0.00870366,\n         -0.03950619,  0.07759914,  0.05485706, -0.15262958, -0.03776086,\n         -0.06845172,  0.05454075,  0.03254436, -0.07110829,  0.10088222,\n         -0.09657386, -0.07463064,  0.06829564, -0.06077289,  0.04953621,\n          0.01508488, -0.0765256 ,  0.0047168 ,  0.01129789,  0.01594579,\n          0.0217506 ,  0.0190234 , -0.06387134, -0.01978887,  0.03900134,\n         -0.04044264,  0.04398735,  0.0726487 , -0.04207022,  0.02702972,\n         -0.02780589,  0.00467501, -0.03284933,  0.05321457, -0.0511124 ,\n          0.08038075, -0.05750832, -0.02427475,  0.05225115,  0.06304878,\n          0.04403584, -0.06860317, -0.07773031,  0.10552575,  0.11856961,\n         -0.15068458,  0.0325501 , -0.03402999,  0.03074431,  0.03451686,\n          0.00482974,  0.06926791,  0.01478872,  0.03627839, -0.05619178,\n          0.08052938,  0.0127782 ,  0.1297665 ,  0.02413931,  0.10372009,\n          0.1302216 ,  0.06184024, -0.0077953 ,  0.00038494,  0.03988322,\n         -0.01243598, -0.00620645, -0.07068878, -0.06781856,  0.04491733,\n          0.04520806, -0.07540481, -0.05959944, -0.08750201,  0.0338572 ,\n         -0.06198012,  0.11123814, -0.0137244 ]], dtype=float32),\n array([[0.03080674]], dtype=float32)]"
      ]
     },
     "execution_count": 18,
     "metadata": {},
     "output_type": "execute_result"
    }
   ],
   "source": [
    "m.predict(nm.board_to_input(board)[None])"
   ]
  }
 ],
 "metadata": {
  "kernelspec": {
   "display_name": "Python [conda env:gai-project]",
   "name": "conda-env-gai-project-py"
  },
  "name": "training_experiments.ipynb"
 },
 "nbformat": 4,
 "nbformat_minor": 2
}
