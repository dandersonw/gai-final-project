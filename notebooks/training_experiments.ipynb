{
 "cells": [
  {
   "cell_type": "code",
   "execution_count": 1,
   "metadata": {
    "autoscroll": false,
    "ein.hycell": false,
    "ein.tags": "worksheet-0",
    "slideshow": {
     "slide_type": "-"
    }
   },
   "outputs": [
    {
     "name": "stderr",
     "output_type": "stream",
     "text": [
      "2019-04-16 13:33:34,345\tWARNING worker.py:1406 -- WARNING: Not updating worker name since `setproctitle` is not installed. Install this with `pip install setproctitle` (or ray[debug]) to enable monitoring of worker processes.\n",
      "2019-04-16 13:33:34,348\tINFO node.py:423 -- Process STDOUT and STDERR is being redirected to /tmp/ray/session_2019-04-16_13-33-34_20162/logs.\n",
      "2019-04-16 13:33:34,457\tINFO services.py:363 -- Waiting for redis server at 127.0.0.1:50590 to respond...\n"
     ]
    },
    {
     "name": "stdout",
     "output_type": "stream",
     "text": [
      "WARNING: Not monitoring node memory since `psutil` is not installed. Install this with `pip install psutil` (or ray[debug]) to enable debugging of memory-related crashes.\n"
     ]
    },
    {
     "name": "stderr",
     "output_type": "stream",
     "text": [
      "2019-04-16 13:33:34,573\tINFO services.py:363 -- Waiting for redis server at 127.0.0.1:20172 to respond...\n",
      "2019-04-16 13:33:34,576\tINFO services.py:760 -- Starting Redis shard with 6.87 GB max memory.\n",
      "2019-04-16 13:33:34,591\tINFO services.py:1384 -- Starting the Plasma object store with 10.31 GB memory using /tmp.\n",
      "2019-04-16 13:33:34,604\tWARNING services.py:863 -- Failed to start the reporter. The reporter requires 'pip install psutil'.\n"
     ]
    },
    {
     "data": {
      "text/plain": [
       "{'node_ip_address': None,\n",
       " 'redis_address': '10.110.8.99:50590',\n",
       " 'object_store_address': '/tmp/ray/session_2019-04-16_13-33-34_20162/sockets/plasma_store',\n",
       " 'webui_url': None,\n",
       " 'raylet_socket_name': '/tmp/ray/session_2019-04-16_13-33-34_20162/sockets/raylet'}"
      ]
     },
     "execution_count": 1,
     "metadata": {},
     "output_type": "execute_result"
    }
   ],
   "source": [
    "import importlib\n",
    "import dill as pickle\n",
    "from tqdm import tqdm\n",
    "from tqdm import trange\n",
    "\n",
    "import pentago\n",
    "from pentago import agent, memory, minimax, learning_agent, neural_model, monte_carlo, evaluate, game, multi\n",
    "\n",
    "import ray\n",
    "ray.init()"
   ]
  },
  {
   "cell_type": "code",
   "execution_count": 2,
   "metadata": {
    "autoscroll": false,
    "ein.hycell": false,
    "ein.tags": "worksheet-0",
    "slideshow": {
     "slide_type": "-"
    }
   },
   "outputs": [],
   "source": [
    "view = memory.MemoryView()\n",
    "round = 0"
   ]
  },
  {
   "cell_type": "code",
   "execution_count": 3,
   "metadata": {
    "autoscroll": false,
    "ein.hycell": false,
    "ein.tags": "worksheet-0",
    "slideshow": {
     "slide_type": "-"
    }
   },
   "outputs": [
    {
     "name": "stdout",
     "output_type": "stream",
     "text": [
      "646.0712208747864 seconds taken, 0.6460712208747864 per game\n"
     ]
    }
   ],
   "source": [
    "multi.self_play_games(minimax.MinimaxSearchAgent(depth=2),\n",
    "                      view,\n",
    "                      1000,\n",
    "                      verbose=True,\n",
    "                      num_workers=20)"
   ]
  },
  {
   "cell_type": "code",
   "execution_count": null,
   "metadata": {
    "autoscroll": false,
    "ein.hycell": false,
    "ein.tags": "worksheet-0",
    "slideshow": {
     "slide_type": "-"
    }
   },
   "outputs": [],
   "source": [
    "pickle.dump(view, open('initial_view.pkl', mode='wb'))"
   ]
  },
  {
   "cell_type": "code",
   "execution_count": null,
   "metadata": {
    "autoscroll": false,
    "ein.hycell": false,
    "ein.tags": "worksheet-0",
    "slideshow": {
     "slide_type": "-"
    }
   },
   "outputs": [],
   "source": [
    "view = pickle.load(open('initial_view.pkl', mode='rb'))"
   ]
  },
  {
   "cell_type": "code",
   "execution_count": null,
   "metadata": {
    "autoscroll": false,
    "ein.hycell": false,
    "ein.tags": "worksheet-0",
    "slideshow": {
     "slide_type": "-"
    }
   },
   "outputs": [
    {
     "name": "stdout",
     "output_type": "stream",
     "text": [
      "WARNING:tensorflow:From /anaconda3/envs/gai-final-project/lib/python3.6/site-packages/tensorflow/python/ops/resource_variable_ops.py:435: colocate_with (from tensorflow.python.framework.ops) is deprecated and will be removed in a future version.\n",
      "Instructions for updating:\n",
      "Colocations handled automatically by placer.\n"
     ]
    }
   ],
   "source": [
    "model_params = {'dense_regularization_const': 1e-2,\n",
    "                'regularization_const': 1e-4,\n",
    "                'num_layers': 5,\n",
    "                'kernel_size': 5,\n",
    "                'num_filters': 64}\n",
    "current_agent = learning_agent.NeuralAgent(model_params=model_params)\n",
    "best_agent = learning_agent.NeuralAgent(model_params=model_params)"
   ]
  },
  {
   "cell_type": "code",
   "execution_count": null,
   "metadata": {
    "autoscroll": false,
    "ein.hycell": false,
    "ein.tags": "worksheet-0",
    "slideshow": {
     "slide_type": "-"
    }
   },
   "outputs": [
    {
     "name": "stdout",
     "output_type": "stream",
     "text": [
      "\u001b[2m\u001b[36m(pid=20189)\u001b[0m WARNING:tensorflow:From /anaconda3/envs/gai-final-project/lib/python3.6/site-packages/tensorflow/python/ops/resource_variable_ops.py:435: colocate_with (from tensorflow.python.framework.ops) is deprecated and will be removed in a future version.\n",
      "\u001b[2m\u001b[36m(pid=20189)\u001b[0m Instructions for updating:\n",
      "\u001b[2m\u001b[36m(pid=20189)\u001b[0m Colocations handled automatically by placer.\n",
      "\u001b[2m\u001b[36m(pid=20190)\u001b[0m WARNING:tensorflow:From /anaconda3/envs/gai-final-project/lib/python3.6/site-packages/tensorflow/python/ops/resource_variable_ops.py:435: colocate_with (from tensorflow.python.framework.ops) is deprecated and will be removed in a future version.\n",
      "\u001b[2m\u001b[36m(pid=20190)\u001b[0m Instructions for updating:\n",
      "\u001b[2m\u001b[36m(pid=20190)\u001b[0m Colocations handled automatically by placer.\n",
      "\u001b[2m\u001b[36m(pid=20185)\u001b[0m WARNING:tensorflow:From /anaconda3/envs/gai-final-project/lib/python3.6/site-packages/tensorflow/python/ops/resource_variable_ops.py:435: colocate_with (from tensorflow.python.framework.ops) is deprecated and will be removed in a future version.\n",
      "\u001b[2m\u001b[36m(pid=20185)\u001b[0m Instructions for updating:\n",
      "\u001b[2m\u001b[36m(pid=20185)\u001b[0m Colocations handled automatically by placer.\n",
      "\u001b[2m\u001b[36m(pid=20182)\u001b[0m WARNING:tensorflow:From /anaconda3/envs/gai-final-project/lib/python3.6/site-packages/tensorflow/python/ops/resource_variable_ops.py:435: colocate_with (from tensorflow.python.framework.ops) is deprecated and will be removed in a future version.\n",
      "\u001b[2m\u001b[36m(pid=20182)\u001b[0m Instructions for updating:\n",
      "\u001b[2m\u001b[36m(pid=20182)\u001b[0m Colocations handled automatically by placer.\n",
      "\u001b[2m\u001b[36m(pid=20181)\u001b[0m WARNING:tensorflow:From /anaconda3/envs/gai-final-project/lib/python3.6/site-packages/tensorflow/python/ops/resource_variable_ops.py:435: colocate_with (from tensorflow.python.framework.ops) is deprecated and will be removed in a future version.\n",
      "\u001b[2m\u001b[36m(pid=20181)\u001b[0m Instructions for updating:\n",
      "\u001b[2m\u001b[36m(pid=20181)\u001b[0m Colocations handled automatically by placer.\n",
      "\u001b[2m\u001b[36m(pid=20179)\u001b[0m WARNING:tensorflow:From /anaconda3/envs/gai-final-project/lib/python3.6/site-packages/tensorflow/python/ops/resource_variable_ops.py:435: colocate_with (from tensorflow.python.framework.ops) is deprecated and will be removed in a future version.\n",
      "\u001b[2m\u001b[36m(pid=20179)\u001b[0m Instructions for updating:\n",
      "\u001b[2m\u001b[36m(pid=20179)\u001b[0m Colocations handled automatically by placer.\n",
      "\u001b[2m\u001b[36m(pid=20187)\u001b[0m WARNING:tensorflow:From /anaconda3/envs/gai-final-project/lib/python3.6/site-packages/tensorflow/python/ops/resource_variable_ops.py:435: colocate_with (from tensorflow.python.framework.ops) is deprecated and will be removed in a future version.\n",
      "\u001b[2m\u001b[36m(pid=20187)\u001b[0m Instructions for updating:\n",
      "\u001b[2m\u001b[36m(pid=20187)\u001b[0m Colocations handled automatically by placer.\n",
      "\u001b[2m\u001b[36m(pid=20184)\u001b[0m WARNING:tensorflow:From /anaconda3/envs/gai-final-project/lib/python3.6/site-packages/tensorflow/python/ops/resource_variable_ops.py:435: colocate_with (from tensorflow.python.framework.ops) is deprecated and will be removed in a future version.\n",
      "\u001b[2m\u001b[36m(pid=20184)\u001b[0m Instructions for updating:\n",
      "\u001b[2m\u001b[36m(pid=20184)\u001b[0m Colocations handled automatically by placer.\n",
      "\u001b[2m\u001b[36m(pid=20188)\u001b[0m WARNING:tensorflow:From /anaconda3/envs/gai-final-project/lib/python3.6/site-packages/tensorflow/python/ops/resource_variable_ops.py:435: colocate_with (from tensorflow.python.framework.ops) is deprecated and will be removed in a future version.\n",
      "\u001b[2m\u001b[36m(pid=20188)\u001b[0m Instructions for updating:\n",
      "\u001b[2m\u001b[36m(pid=20188)\u001b[0m Colocations handled automatically by placer.\n",
      "\u001b[2m\u001b[36m(pid=20180)\u001b[0m WARNING:tensorflow:From /anaconda3/envs/gai-final-project/lib/python3.6/site-packages/tensorflow/python/ops/resource_variable_ops.py:435: colocate_with (from tensorflow.python.framework.ops) is deprecated and will be removed in a future version.\n",
      "\u001b[2m\u001b[36m(pid=20180)\u001b[0m Instructions for updating:\n",
      "\u001b[2m\u001b[36m(pid=20180)\u001b[0m Colocations handled automatically by placer.\n",
      "\u001b[2m\u001b[36m(pid=20186)\u001b[0m WARNING:tensorflow:From /anaconda3/envs/gai-final-project/lib/python3.6/site-packages/tensorflow/python/ops/resource_variable_ops.py:435: colocate_with (from tensorflow.python.framework.ops) is deprecated and will be removed in a future version.\n",
      "\u001b[2m\u001b[36m(pid=20186)\u001b[0m Instructions for updating:\n",
      "\u001b[2m\u001b[36m(pid=20186)\u001b[0m Colocations handled automatically by placer.\n",
      "\u001b[2m\u001b[36m(pid=20183)\u001b[0m WARNING:tensorflow:From /anaconda3/envs/gai-final-project/lib/python3.6/site-packages/tensorflow/python/ops/resource_variable_ops.py:435: colocate_with (from tensorflow.python.framework.ops) is deprecated and will be removed in a future version.\n",
      "\u001b[2m\u001b[36m(pid=20183)\u001b[0m Instructions for updating:\n",
      "\u001b[2m\u001b[36m(pid=20183)\u001b[0m Colocations handled automatically by placer.\n",
      "\u001b[2m\u001b[36m(pid=20190)\u001b[0m 2019-04-16 13:44:30.811164: I tensorflow/core/platform/cpu_feature_guard.cc:141] Your CPU supports instructions that this TensorFlow binary was not compiled to use: SSE4.1 SSE4.2 AVX AVX2 FMA\n",
      "\u001b[2m\u001b[36m(pid=20190)\u001b[0m 2019-04-16 13:44:30.811682: I tensorflow/core/common_runtime/process_util.cc:71] Creating new thread pool with default inter op setting: 12. Tune using inter_op_parallelism_threads for best performance.\n",
      "\u001b[2m\u001b[36m(pid=20185)\u001b[0m 2019-04-16 13:44:30.804956: I tensorflow/core/platform/cpu_feature_guard.cc:141] Your CPU supports instructions that this TensorFlow binary was not compiled to use: SSE4.1 SSE4.2 AVX AVX2 FMA\n",
      "\u001b[2m\u001b[36m(pid=20185)\u001b[0m 2019-04-16 13:44:30.805470: I tensorflow/core/common_runtime/process_util.cc:71] Creating new thread pool with default inter op setting: 12. Tune using inter_op_parallelism_threads for best performance.\n",
      "\u001b[2m\u001b[36m(pid=20179)\u001b[0m 2019-04-16 13:44:30.828321: I tensorflow/core/platform/cpu_feature_guard.cc:141] Your CPU supports instructions that this TensorFlow binary was not compiled to use: SSE4.1 SSE4.2 AVX AVX2 FMA\n",
      "\u001b[2m\u001b[36m(pid=20179)\u001b[0m 2019-04-16 13:44:30.828922: I tensorflow/core/common_runtime/process_util.cc:71] Creating new thread pool with default inter op setting: 12. Tune using inter_op_parallelism_threads for best performance.\n",
      "\u001b[2m\u001b[36m(pid=20180)\u001b[0m 2019-04-16 13:44:30.854957: I tensorflow/core/platform/cpu_feature_guard.cc:141] Your CPU supports instructions that this TensorFlow binary was not compiled to use: SSE4.1 SSE4.2 AVX AVX2 FMA\n",
      "\u001b[2m\u001b[36m(pid=20180)\u001b[0m 2019-04-16 13:44:30.855459: I tensorflow/core/common_runtime/process_util.cc:71] Creating new thread pool with default inter op setting: 12. Tune using inter_op_parallelism_threads for best performance.\n",
      "\u001b[2m\u001b[36m(pid=20189)\u001b[0m 2019-04-16 13:44:30.817098: I tensorflow/core/platform/cpu_feature_guard.cc:141] Your CPU supports instructions that this TensorFlow binary was not compiled to use: SSE4.1 SSE4.2 AVX AVX2 FMA\n",
      "\u001b[2m\u001b[36m(pid=20189)\u001b[0m 2019-04-16 13:44:30.817580: I tensorflow/core/common_runtime/process_util.cc:71] Creating new thread pool with default inter op setting: 12. Tune using inter_op_parallelism_threads for best performance.\n",
      "\u001b[2m\u001b[36m(pid=20182)\u001b[0m 2019-04-16 13:44:30.823097: I tensorflow/core/platform/cpu_feature_guard.cc:141] Your CPU supports instructions that this TensorFlow binary was not compiled to use: SSE4.1 SSE4.2 AVX AVX2 FMA\n",
      "\u001b[2m\u001b[36m(pid=20182)\u001b[0m 2019-04-16 13:44:30.823627: I tensorflow/core/common_runtime/process_util.cc:71] Creating new thread pool with default inter op setting: 12. Tune using inter_op_parallelism_threads for best performance.\n",
      "\u001b[2m\u001b[36m(pid=20187)\u001b[0m 2019-04-16 13:44:30.840175: I tensorflow/core/platform/cpu_feature_guard.cc:141] Your CPU supports instructions that this TensorFlow binary was not compiled to use: SSE4.1 SSE4.2 AVX AVX2 FMA\n",
      "\u001b[2m\u001b[36m(pid=20187)\u001b[0m 2019-04-16 13:44:30.841288: I tensorflow/core/common_runtime/process_util.cc:71] Creating new thread pool with default inter op setting: 12. Tune using inter_op_parallelism_threads for best performance.\n",
      "\u001b[2m\u001b[36m(pid=20184)\u001b[0m 2019-04-16 13:44:30.835760: I tensorflow/core/platform/cpu_feature_guard.cc:141] Your CPU supports instructions that this TensorFlow binary was not compiled to use: SSE4.1 SSE4.2 AVX AVX2 FMA\n",
      "\u001b[2m\u001b[36m(pid=20184)\u001b[0m 2019-04-16 13:44:30.836919: I tensorflow/core/common_runtime/process_util.cc:71] Creating new thread pool with default inter op setting: 12. Tune using inter_op_parallelism_threads for best performance.\n",
      "\u001b[2m\u001b[36m(pid=20181)\u001b[0m 2019-04-16 13:44:30.834379: I tensorflow/core/platform/cpu_feature_guard.cc:141] Your CPU supports instructions that this TensorFlow binary was not compiled to use: SSE4.1 SSE4.2 AVX AVX2 FMA\n",
      "\u001b[2m\u001b[36m(pid=20181)\u001b[0m 2019-04-16 13:44:30.834874: I tensorflow/core/common_runtime/process_util.cc:71] Creating new thread pool with default inter op setting: 12. Tune using inter_op_parallelism_threads for best performance.\n",
      "\u001b[2m\u001b[36m(pid=20188)\u001b[0m 2019-04-16 13:44:30.838954: I tensorflow/core/platform/cpu_feature_guard.cc:141] Your CPU supports instructions that this TensorFlow binary was not compiled to use: SSE4.1 SSE4.2 AVX AVX2 FMA\n",
      "\u001b[2m\u001b[36m(pid=20188)\u001b[0m 2019-04-16 13:44:30.839488: I tensorflow/core/common_runtime/process_util.cc:71] Creating new thread pool with default inter op setting: 12. Tune using inter_op_parallelism_threads for best performance.\n",
      "\u001b[2m\u001b[36m(pid=20186)\u001b[0m 2019-04-16 13:44:30.861211: I tensorflow/core/platform/cpu_feature_guard.cc:141] Your CPU supports instructions that this TensorFlow binary was not compiled to use: SSE4.1 SSE4.2 AVX AVX2 FMA\n",
      "\u001b[2m\u001b[36m(pid=20186)\u001b[0m 2019-04-16 13:44:30.862643: I tensorflow/core/common_runtime/process_util.cc:71] Creating new thread pool with default inter op setting: 12. Tune using inter_op_parallelism_threads for best performance.\n",
      "\u001b[2m\u001b[36m(pid=20183)\u001b[0m 2019-04-16 13:44:30.867967: I tensorflow/core/platform/cpu_feature_guard.cc:141] Your CPU supports instructions that this TensorFlow binary was not compiled to use: SSE4.1 SSE4.2 AVX AVX2 FMA\n",
      "\u001b[2m\u001b[36m(pid=20183)\u001b[0m 2019-04-16 13:44:30.868660: I tensorflow/core/common_runtime/process_util.cc:71] Creating new thread pool with default inter op setting: 12. Tune using inter_op_parallelism_threads for best performance.\n"
     ]
    },
    {
     "name": "stdout",
     "output_type": "stream",
     "text": [
      "\u001b[2m\u001b[36m(pid=20193)\u001b[0m WARNING:tensorflow:From /anaconda3/envs/gai-final-project/lib/python3.6/site-packages/tensorflow/python/ops/resource_variable_ops.py:435: colocate_with (from tensorflow.python.framework.ops) is deprecated and will be removed in a future version.\n",
      "\u001b[2m\u001b[36m(pid=20193)\u001b[0m Instructions for updating:\n",
      "\u001b[2m\u001b[36m(pid=20193)\u001b[0m Colocations handled automatically by placer.\n",
      "\u001b[2m\u001b[36m(pid=20194)\u001b[0m WARNING:tensorflow:From /anaconda3/envs/gai-final-project/lib/python3.6/site-packages/tensorflow/python/ops/resource_variable_ops.py:435: colocate_with (from tensorflow.python.framework.ops) is deprecated and will be removed in a future version.\n",
      "\u001b[2m\u001b[36m(pid=20194)\u001b[0m Instructions for updating:\n",
      "\u001b[2m\u001b[36m(pid=20194)\u001b[0m Colocations handled automatically by placer.\n",
      "\u001b[2m\u001b[36m(pid=20191)\u001b[0m WARNING:tensorflow:From /anaconda3/envs/gai-final-project/lib/python3.6/site-packages/tensorflow/python/ops/resource_variable_ops.py:435: colocate_with (from tensorflow.python.framework.ops) is deprecated and will be removed in a future version.\n",
      "\u001b[2m\u001b[36m(pid=20191)\u001b[0m Instructions for updating:\n",
      "\u001b[2m\u001b[36m(pid=20191)\u001b[0m Colocations handled automatically by placer.\n",
      "\u001b[2m\u001b[36m(pid=20198)\u001b[0m WARNING:tensorflow:From /anaconda3/envs/gai-final-project/lib/python3.6/site-packages/tensorflow/python/ops/resource_variable_ops.py:435: colocate_with (from tensorflow.python.framework.ops) is deprecated and will be removed in a future version.\n",
      "\u001b[2m\u001b[36m(pid=20198)\u001b[0m Instructions for updating:\n",
      "\u001b[2m\u001b[36m(pid=20198)\u001b[0m Colocations handled automatically by placer.\n",
      "\u001b[2m\u001b[36m(pid=20197)\u001b[0m WARNING:tensorflow:From /anaconda3/envs/gai-final-project/lib/python3.6/site-packages/tensorflow/python/ops/resource_variable_ops.py:435: colocate_with (from tensorflow.python.framework.ops) is deprecated and will be removed in a future version.\n",
      "\u001b[2m\u001b[36m(pid=20197)\u001b[0m Instructions for updating:\n",
      "\u001b[2m\u001b[36m(pid=20197)\u001b[0m Colocations handled automatically by placer.\n",
      "\u001b[2m\u001b[36m(pid=20196)\u001b[0m WARNING:tensorflow:From /anaconda3/envs/gai-final-project/lib/python3.6/site-packages/tensorflow/python/ops/resource_variable_ops.py:435: colocate_with (from tensorflow.python.framework.ops) is deprecated and will be removed in a future version.\n",
      "\u001b[2m\u001b[36m(pid=20196)\u001b[0m Instructions for updating:\n",
      "\u001b[2m\u001b[36m(pid=20196)\u001b[0m Colocations handled automatically by placer.\n",
      "\u001b[2m\u001b[36m(pid=20192)\u001b[0m WARNING:tensorflow:From /anaconda3/envs/gai-final-project/lib/python3.6/site-packages/tensorflow/python/ops/resource_variable_ops.py:435: colocate_with (from tensorflow.python.framework.ops) is deprecated and will be removed in a future version.\n",
      "\u001b[2m\u001b[36m(pid=20192)\u001b[0m Instructions for updating:\n",
      "\u001b[2m\u001b[36m(pid=20192)\u001b[0m Colocations handled automatically by placer.\n",
      "\u001b[2m\u001b[36m(pid=20195)\u001b[0m WARNING:tensorflow:From /anaconda3/envs/gai-final-project/lib/python3.6/site-packages/tensorflow/python/ops/resource_variable_ops.py:435: colocate_with (from tensorflow.python.framework.ops) is deprecated and will be removed in a future version.\n",
      "\u001b[2m\u001b[36m(pid=20195)\u001b[0m Instructions for updating:\n",
      "\u001b[2m\u001b[36m(pid=20195)\u001b[0m Colocations handled automatically by placer.\n",
      "\u001b[2m\u001b[36m(pid=20194)\u001b[0m 2019-04-16 13:44:34.720153: I tensorflow/core/platform/cpu_feature_guard.cc:141] Your CPU supports instructions that this TensorFlow binary was not compiled to use: SSE4.1 SSE4.2 AVX AVX2 FMA\n",
      "\u001b[2m\u001b[36m(pid=20194)\u001b[0m 2019-04-16 13:44:34.721390: I tensorflow/core/common_runtime/process_util.cc:71] Creating new thread pool with default inter op setting: 12. Tune using inter_op_parallelism_threads for best performance.\n",
      "\u001b[2m\u001b[36m(pid=20193)\u001b[0m 2019-04-16 13:44:34.747596: I tensorflow/core/platform/cpu_feature_guard.cc:141] Your CPU supports instructions that this TensorFlow binary was not compiled to use: SSE4.1 SSE4.2 AVX AVX2 FMA\n",
      "\u001b[2m\u001b[36m(pid=20193)\u001b[0m 2019-04-16 13:44:34.748337: I tensorflow/core/common_runtime/process_util.cc:71] Creating new thread pool with default inter op setting: 12. Tune using inter_op_parallelism_threads for best performance.\n",
      "\u001b[2m\u001b[36m(pid=20191)\u001b[0m 2019-04-16 13:44:34.776859: I tensorflow/core/platform/cpu_feature_guard.cc:141] Your CPU supports instructions that this TensorFlow binary was not compiled to use: SSE4.1 SSE4.2 AVX AVX2 FMA\n",
      "\u001b[2m\u001b[36m(pid=20191)\u001b[0m 2019-04-16 13:44:34.777986: I tensorflow/core/common_runtime/process_util.cc:71] Creating new thread pool with default inter op setting: 12. Tune using inter_op_parallelism_threads for best performance.\n",
      "\u001b[2m\u001b[36m(pid=20198)\u001b[0m 2019-04-16 13:44:34.736532: I tensorflow/core/platform/cpu_feature_guard.cc:141] Your CPU supports instructions that this TensorFlow binary was not compiled to use: SSE4.1 SSE4.2 AVX AVX2 FMA\n",
      "\u001b[2m\u001b[36m(pid=20198)\u001b[0m 2019-04-16 13:44:34.736966: I tensorflow/core/common_runtime/process_util.cc:71] Creating new thread pool with default inter op setting: 12. Tune using inter_op_parallelism_threads for best performance.\n",
      "\u001b[2m\u001b[36m(pid=20197)\u001b[0m 2019-04-16 13:44:34.773810: I tensorflow/core/platform/cpu_feature_guard.cc:141] Your CPU supports instructions that this TensorFlow binary was not compiled to use: SSE4.1 SSE4.2 AVX AVX2 FMA\n",
      "\u001b[2m\u001b[36m(pid=20197)\u001b[0m 2019-04-16 13:44:34.774375: I tensorflow/core/common_runtime/process_util.cc:71] Creating new thread pool with default inter op setting: 12. Tune using inter_op_parallelism_threads for best performance.\n",
      "\u001b[2m\u001b[36m(pid=20196)\u001b[0m 2019-04-16 13:44:34.843540: I tensorflow/core/platform/cpu_feature_guard.cc:141] Your CPU supports instructions that this TensorFlow binary was not compiled to use: SSE4.1 SSE4.2 AVX AVX2 FMA\n",
      "\u001b[2m\u001b[36m(pid=20196)\u001b[0m 2019-04-16 13:44:34.844686: I tensorflow/core/common_runtime/process_util.cc:71] Creating new thread pool with default inter op setting: 12. Tune using inter_op_parallelism_threads for best performance.\n",
      "\u001b[2m\u001b[36m(pid=20192)\u001b[0m 2019-04-16 13:44:34.829917: I tensorflow/core/platform/cpu_feature_guard.cc:141] Your CPU supports instructions that this TensorFlow binary was not compiled to use: SSE4.1 SSE4.2 AVX AVX2 FMA\n",
      "\u001b[2m\u001b[36m(pid=20192)\u001b[0m 2019-04-16 13:44:34.831024: I tensorflow/core/common_runtime/process_util.cc:71] Creating new thread pool with default inter op setting: 12. Tune using inter_op_parallelism_threads for best performance.\n",
      "\u001b[2m\u001b[36m(pid=20195)\u001b[0m 2019-04-16 13:44:34.826509: I tensorflow/core/platform/cpu_feature_guard.cc:141] Your CPU supports instructions that this TensorFlow binary was not compiled to use: SSE4.1 SSE4.2 AVX AVX2 FMA\n",
      "\u001b[2m\u001b[36m(pid=20195)\u001b[0m 2019-04-16 13:44:34.828217: I tensorflow/core/common_runtime/process_util.cc:71] Creating new thread pool with default inter op setting: 12. Tune using inter_op_parallelism_threads for best performance.\n"
     ]
    }
   ],
   "source": [
    "while True:\n",
    "    round += 1\n",
    "    multi.self_play_games(current_agent,\n",
    "                          view,\n",
    "                          100,\n",
    "                          verbose=True,\n",
    "                          num_workers=20)\n",
    "    for e in range(4):\n",
    "        current_agent.fit(view.get_experiences(sample_k=1000), epochs=1)\n",
    "    if round % 5 == 0:\n",
    "        wins = multi.tally_wins([minimax.MinimaxSearchAgent(), current_agent], 10, num_workers=3)\n",
    "        print('Round {}, against minimax: {}'.format(round, wins))\n",
    "        wins = multi.tally_wins([best_agent, current_agent], 10, num_workers=3)\n",
    "        print('Round {}, against current best neural: {}'.format(round, wins))\n",
    "        if wins[-1] > 7:\n",
    "            print('Ratcheting best agent')\n",
    "            best_agent.model.set_weights(current_agent.model.get_weights())"
   ]
  },
  {
   "cell_type": "code",
   "execution_count": null,
   "metadata": {
    "autoscroll": false,
    "ein.hycell": false,
    "ein.tags": "worksheet-0",
    "slideshow": {
     "slide_type": "-"
    }
   },
   "outputs": [],
   "source": [
    "# some kind of epic memory leak going on...\n",
    "view.temp_memory.clear()\n",
    "ray.shutdown()\n",
    "importlib.reload(multi)\n",
    "ray.init()"
   ]
  },
  {
   "cell_type": "code",
   "execution_count": null,
   "metadata": {
    "autoscroll": false,
    "ein.hycell": false,
    "ein.tags": "worksheet-0",
    "slideshow": {
     "slide_type": "-"
    }
   },
   "outputs": [],
   "source": [
    "while True:\n",
    "    round += 1\n",
    "    multi.self_play_games(current_agent,\n",
    "                          view,\n",
    "                          100,\n",
    "                          verbose=True,\n",
    "                          num_workers=20)\n",
    "    for e in range(4):\n",
    "        current_agent.fit(view.get_experiences(sample_k=1000), epochs=1)\n",
    "    if round % 5 == 0:\n",
    "        wins = multi.tally_wins([minimax.MinimaxSearchAgent(), current_agent], 10, num_workers=3)\n",
    "        print('Round {}, against minimax: {}'.format(round, wins))\n",
    "        wins = multi.tally_wins([best_agent, current_agent], 10, num_workers=3)\n",
    "        print('Round {}, against current best neural: {}'.format(round, wins))\n",
    "        if wins[-1] > 7:\n",
    "            print('Ratcheting best agent')\n",
    "            best_agent.model.set_weights(current_agent.model.get_weights())"
   ]
  },
  {
   "cell_type": "code",
   "execution_count": null,
   "metadata": {},
   "outputs": [],
   "source": []
  }
 ],
 "metadata": {
  "kernelspec": {
   "display_name": "Python 3",
   "language": "python",
   "name": "python3"
  },
  "language_info": {
   "codemirror_mode": {
    "name": "ipython",
    "version": 3
   },
   "file_extension": ".py",
   "mimetype": "text/x-python",
   "name": "python",
   "nbconvert_exporter": "python",
   "pygments_lexer": "ipython3",
   "version": "3.6.8"
  },
  "name": "training_experiments.ipynb"
 },
 "nbformat": 4,
 "nbformat_minor": 2
}
