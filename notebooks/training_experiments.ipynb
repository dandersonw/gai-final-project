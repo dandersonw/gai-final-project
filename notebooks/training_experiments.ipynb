{
 "cells": [
  {
   "cell_type": "code",
   "execution_count": 1,
   "metadata": {
    "autoscroll": false,
    "collapsed": false,
    "ein.hycell": false,
    "ein.tags": "worksheet-0",
    "slideshow": {
     "slide_type": "-"
    }
   },
   "outputs": [],
   "source": [
    "import pentago\n",
    "import pentago.agent\n",
    "import pentago.memory"
   ]
  },
  {
   "cell_type": "code",
   "execution_count": 2,
   "metadata": {
    "autoscroll": false,
    "collapsed": false,
    "ein.hycell": false,
    "ein.tags": "worksheet-0",
    "slideshow": {
     "slide_type": "-"
    }
   },
   "outputs": [],
   "source": [
    "agents = [pentago.agent.RandomAgent()] * 2\n",
    "view = pentago.memory.MemoryView()\n",
    "controller = pentago.controller.Controller(agents, view)\n",
    "\n",
    "for i in range(10):\n",
    "    controller.play_game()"
   ]
  },
  {
   "cell_type": "code",
   "execution_count": 3,
   "metadata": {
    "autoscroll": false,
    "collapsed": false,
    "ein.hycell": false,
    "ein.tags": "worksheet-0",
    "slideshow": {
     "slide_type": "-"
    }
   },
   "outputs": [
    {
     "data": {
      "text/plain": [
       "deque([<pentago.memory.Experience at 0x7fe5f589d1d0>,\n       <pentago.memory.Experience at 0x7fe5f5985438>,\n       <pentago.memory.Experience at 0x7fe5f589d080>,\n       <pentago.memory.Experience at 0x7fe5f5867dd8>,\n       <pentago.memory.Experience at 0x7fe62c05fa90>,\n       <pentago.memory.Experience at 0x7fe62c05fb70>,\n       <pentago.memory.Experience at 0x7fe62501bac8>,\n       <pentago.memory.Experience at 0x7fe62501b9b0>,\n       <pentago.memory.Experience at 0x7fe62501b780>,\n       <pentago.memory.Experience at 0x7fe5f5881f98>,\n       <pentago.memory.Experience at 0x7fe5f589d320>,\n       <pentago.memory.Experience at 0x7fe5f589d438>,\n       <pentago.memory.Experience at 0x7fe5f589d4a8>,\n       <pentago.memory.Experience at 0x7fe5f589d550>,\n       <pentago.memory.Experience at 0x7fe5f589d5f8>,\n       <pentago.memory.Experience at 0x7fe5f589d6a0>,\n       <pentago.memory.Experience at 0x7fe5f589d748>,\n       <pentago.memory.Experience at 0x7fe5f589d7f0>,\n       <pentago.memory.Experience at 0x7fe5f589d898>,\n       <pentago.memory.Experience at 0x7fe5f589d940>,\n       <pentago.memory.Experience at 0x7fe5f589d9e8>,\n       <pentago.memory.Experience at 0x7fe5f589da90>,\n       <pentago.memory.Experience at 0x7fe5f589db38>,\n       <pentago.memory.Experience at 0x7fe5f589dbe0>,\n       <pentago.memory.Experience at 0x7fe5f589dc88>,\n       <pentago.memory.Experience at 0x7fe5f589dd30>,\n       <pentago.memory.Experience at 0x7fe5f589ddd8>,\n       <pentago.memory.Experience at 0x7fe5f589de80>,\n       <pentago.memory.Experience at 0x7fe5f589df28>,\n       <pentago.memory.Experience at 0x7fe5f589dfd0>,\n       <pentago.memory.Experience at 0x7fe63030a0b8>,\n       <pentago.memory.Experience at 0x7fe63030a160>,\n       <pentago.memory.Experience at 0x7fe625001b38>,\n       <pentago.memory.Experience at 0x7fe63030a240>,\n       <pentago.memory.Experience at 0x7fe63030a3c8>,\n       <pentago.memory.Experience at 0x7fe63030a470>,\n       <pentago.memory.Experience at 0x7fe63030a518>,\n       <pentago.memory.Experience at 0x7fe63030a5c0>,\n       <pentago.memory.Experience at 0x7fe63030a668>,\n       <pentago.memory.Experience at 0x7fe63030a710>,\n       <pentago.memory.Experience at 0x7fe63030a7b8>,\n       <pentago.memory.Experience at 0x7fe63030a860>,\n       <pentago.memory.Experience at 0x7fe63030a908>,\n       <pentago.memory.Experience at 0x7fe5f58816d8>,\n       <pentago.memory.Experience at 0x7fe62501b748>,\n       <pentago.memory.Experience at 0x7fe62501b9e8>,\n       <pentago.memory.Experience at 0x7fe62501b978>,\n       <pentago.memory.Experience at 0x7fe5f589df98>,\n       <pentago.memory.Experience at 0x7fe5f589de10>,\n       <pentago.memory.Experience at 0x7fe5f589dda0>,\n       <pentago.memory.Experience at 0x7fe5f589dc18>,\n       <pentago.memory.Experience at 0x7fe5f589dba8>,\n       <pentago.memory.Experience at 0x7fe5f589da20>,\n       <pentago.memory.Experience at 0x7fe5f589d9b0>,\n       <pentago.memory.Experience at 0x7fe5f589d828>,\n       <pentago.memory.Experience at 0x7fe5f589d7b8>,\n       <pentago.memory.Experience at 0x7fe5f589d630>,\n       <pentago.memory.Experience at 0x7fe5f589d5c0>,\n       <pentago.memory.Experience at 0x7fe5f589d3c8>,\n       <pentago.memory.Experience at 0x7fe5f589d240>,\n       <pentago.memory.Experience at 0x7fe5f589d400>,\n       <pentago.memory.Experience at 0x7fe63030a940>,\n       <pentago.memory.Experience at 0x7fe63030a8d0>,\n       <pentago.memory.Experience at 0x7fe63030a748>,\n       <pentago.memory.Experience at 0x7fe63030a6d8>,\n       <pentago.memory.Experience at 0x7fe63030a550>,\n       <pentago.memory.Experience at 0x7fe63030a4e0>,\n       <pentago.memory.Experience at 0x7fe63030a358>,\n       <pentago.memory.Experience at 0x7fe63030a278>,\n       <pentago.memory.Experience at 0x7fe63030a0f0>,\n       <pentago.memory.Experience at 0x7fe63030a048>,\n       <pentago.memory.Experience at 0x7fe63030aa90>,\n       <pentago.memory.Experience at 0x7fe63030ab38>,\n       <pentago.memory.Experience at 0x7fe63030abe0>,\n       <pentago.memory.Experience at 0x7fe63030ac88>,\n       <pentago.memory.Experience at 0x7fe63030ad30>,\n       <pentago.memory.Experience at 0x7fe63030add8>,\n       <pentago.memory.Experience at 0x7fe63030ae80>,\n       <pentago.memory.Experience at 0x7fe63030af28>,\n       <pentago.memory.Experience at 0x7fe63030afd0>,\n       <pentago.memory.Experience at 0x7fe6303140b8>,\n       <pentago.memory.Experience at 0x7fe630314160>,\n       <pentago.memory.Experience at 0x7fe630314208>,\n       <pentago.memory.Experience at 0x7fe6303142b0>,\n       <pentago.memory.Experience at 0x7fe630314358>,\n       <pentago.memory.Experience at 0x7fe630314400>,\n       <pentago.memory.Experience at 0x7fe6303144a8>,\n       <pentago.memory.Experience at 0x7fe630314550>,\n       <pentago.memory.Experience at 0x7fe6303145f8>,\n       <pentago.memory.Experience at 0x7fe6303146a0>,\n       <pentago.memory.Experience at 0x7fe630314748>,\n       <pentago.memory.Experience at 0x7fe5f589d390>,\n       <pentago.memory.Experience at 0x7fe5f589d2e8>,\n       <pentago.memory.Experience at 0x7fe5f589d668>,\n       <pentago.memory.Experience at 0x7fe5f589d710>,\n       <pentago.memory.Experience at 0x7fe5f589d8d0>,\n       <pentago.memory.Experience at 0x7fe5f589d978>,\n       <pentago.memory.Experience at 0x7fe5f589dc50>,\n       <pentago.memory.Experience at 0x7fe5f589dcf8>,\n       <pentago.memory.Experience at 0x7fe5f589deb8>,\n       <pentago.memory.Experience at 0x7fe5f589def0>,\n       <pentago.memory.Experience at 0x7fe62501ba90>,\n       <pentago.memory.Experience at 0x7fe62501ba20>,\n       <pentago.memory.Experience at 0x7fe63030aef0>,\n       <pentago.memory.Experience at 0x7fe63030ad68>,\n       <pentago.memory.Experience at 0x7fe63030acf8>,\n       <pentago.memory.Experience at 0x7fe63030ab70>,\n       <pentago.memory.Experience at 0x7fe63030ab00>,\n       <pentago.memory.Experience at 0x7fe63030a128>,\n       <pentago.memory.Experience at 0x7fe63030a1d0>,\n       <pentago.memory.Experience at 0x7fe63030a400>,\n       <pentago.memory.Experience at 0x7fe63030a4a8>,\n       <pentago.memory.Experience at 0x7fe63030a780>,\n       <pentago.memory.Experience at 0x7fe63030a828>,\n       <pentago.memory.Experience at 0x7fe63030a2e8>,\n       <pentago.memory.Experience at 0x7fe63030a9b0>,\n       <pentago.memory.Experience at 0x7fe630314710>,\n       <pentago.memory.Experience at 0x7fe630314588>,\n       <pentago.memory.Experience at 0x7fe630314518>,\n       <pentago.memory.Experience at 0x7fe630314390>,\n       <pentago.memory.Experience at 0x7fe630314320>,\n       <pentago.memory.Experience at 0x7fe630314198>,\n       <pentago.memory.Experience at 0x7fe630314128>,\n       <pentago.memory.Experience at 0x7fe630314860>,\n       <pentago.memory.Experience at 0x7fe6303148d0>,\n       <pentago.memory.Experience at 0x7fe630314978>,\n       <pentago.memory.Experience at 0x7fe630314a20>,\n       <pentago.memory.Experience at 0x7fe630314ac8>,\n       <pentago.memory.Experience at 0x7fe630314b70>,\n       <pentago.memory.Experience at 0x7fe630314c18>,\n       <pentago.memory.Experience at 0x7fe630314cc0>,\n       <pentago.memory.Experience at 0x7fe630314d68>,\n       <pentago.memory.Experience at 0x7fe630314e10>,\n       <pentago.memory.Experience at 0x7fe630314eb8>,\n       <pentago.memory.Experience at 0x7fe630314f60>,\n       <pentago.memory.Experience at 0x7fe630314f98>,\n       <pentago.memory.Experience at 0x7fe63031f0f0>,\n       <pentago.memory.Experience at 0x7fe63031f198>,\n       <pentago.memory.Experience at 0x7fe63031f240>,\n       <pentago.memory.Experience at 0x7fe63030a7f0>,\n       <pentago.memory.Experience at 0x7fe63030a898>,\n       <pentago.memory.Experience at 0x7fe63030a588>,\n       <pentago.memory.Experience at 0x7fe63030a080>,\n       <pentago.memory.Experience at 0x7fe63030a9e8>,\n       <pentago.memory.Experience at 0x7fe63030ac18>,\n       <pentago.memory.Experience at 0x7fe63030acc0>,\n       <pentago.memory.Experience at 0x7fe63030af98>,\n       <pentago.memory.Experience at 0x7fe63030aeb8>,\n       <pentago.memory.Experience at 0x7fe5f59854a8>,\n       <pentago.memory.Experience at 0x7fe5f589de48>,\n       <pentago.memory.Experience at 0x7fe5f589dcc0>,\n       <pentago.memory.Experience at 0x7fe5f589d908>,\n       <pentago.memory.Experience at 0x7fe5f589d780>,\n       <pentago.memory.Experience at 0x7fe5f589d4e0>,\n       <pentago.memory.Experience at 0x7fe5f589d358>,\n       <pentago.memory.Experience at 0x7fe630314f28>,\n       <pentago.memory.Experience at 0x7fe630314da0>,\n       <pentago.memory.Experience at 0x7fe630314d30>,\n       <pentago.memory.Experience at 0x7fe630314ba8>,\n       <pentago.memory.Experience at 0x7fe630314b38>,\n       <pentago.memory.Experience at 0x7fe6303149b0>,\n       <pentago.memory.Experience at 0x7fe630314940>,\n       <pentago.memory.Experience at 0x7fe630314048>,\n       <pentago.memory.Experience at 0x7fe6303140f0>,\n       <pentago.memory.Experience at 0x7fe6303143c8>,\n       <pentago.memory.Experience at 0x7fe630314470>,\n       <pentago.memory.Experience at 0x7fe630314630>,\n       <pentago.memory.Experience at 0x7fe6303146d8>,\n       <pentago.memory.Experience at 0x7fe6303147f0>,\n       <pentago.memory.Experience at 0x7fe63031f128>,\n       <pentago.memory.Experience at 0x7fe63031f0b8>,\n       <pentago.memory.Experience at 0x7fe63031f278>,\n       <pentago.memory.Experience at 0x7fe63031f390>,\n       <pentago.memory.Experience at 0x7fe63031f438>,\n       <pentago.memory.Experience at 0x7fe63031f4e0>,\n       <pentago.memory.Experience at 0x7fe63031f588>,\n       <pentago.memory.Experience at 0x7fe63031f630>,\n       <pentago.memory.Experience at 0x7fe63031f6d8>,\n       <pentago.memory.Experience at 0x7fe63031f780>,\n       <pentago.memory.Experience at 0x7fe63031f828>,\n       <pentago.memory.Experience at 0x7fe63031f8d0>,\n       <pentago.memory.Experience at 0x7fe63031f978>,\n       <pentago.memory.Experience at 0x7fe63031fa20>,\n       <pentago.memory.Experience at 0x7fe63031fac8>,\n       <pentago.memory.Experience at 0x7fe63031fb70>,\n       <pentago.memory.Experience at 0x7fe63031fc18>,\n       <pentago.memory.Experience at 0x7fe630314668>,\n       <pentago.memory.Experience at 0x7fe6303147b8>,\n       <pentago.memory.Experience at 0x7fe630314438>,\n       <pentago.memory.Experience at 0x7fe630314080>,\n       <pentago.memory.Experience at 0x7fe630314898>,\n       <pentago.memory.Experience at 0x7fe630314a58>,\n       <pentago.memory.Experience at 0x7fe630314b00>,\n       <pentago.memory.Experience at 0x7fe630314dd8>,\n       <pentago.memory.Experience at 0x7fe630314e80>,\n       <pentago.memory.Experience at 0x7fe630314fd0>,\n       <pentago.memory.Experience at 0x7fe5f589d6d8>,\n       <pentago.memory.Experience at 0x7fe5f589dac8>,\n       <pentago.memory.Experience at 0x7fe5f59855f8>,\n       <pentago.memory.Experience at 0x7fe5f589db70>,\n       <pentago.memory.Experience at 0x7fe62501b908>,\n       <pentago.memory.Experience at 0x7fe63030ae48>,\n       <pentago.memory.Experience at 0x7fe63030aba8>,\n       <pentago.memory.Experience at 0x7fe63030aa58>,\n       <pentago.memory.Experience at 0x7fe63030a630>,\n       <pentago.memory.Experience at 0x7fe63030a6a0>,\n       <pentago.memory.Experience at 0x7fe63031fcf8>,\n       <pentago.memory.Experience at 0x7fe63031fba8>,\n       <pentago.memory.Experience at 0x7fe63031fb38>,\n       <pentago.memory.Experience at 0x7fe63031f9b0>,\n       <pentago.memory.Experience at 0x7fe63031f940>,\n       <pentago.memory.Experience at 0x7fe63031f7b8>,\n       <pentago.memory.Experience at 0x7fe63031f748>,\n       <pentago.memory.Experience at 0x7fe63031f5c0>,\n       <pentago.memory.Experience at 0x7fe63031f550>,\n       <pentago.memory.Experience at 0x7fe63031f3c8>,\n       <pentago.memory.Experience at 0x7fe63031f358>,\n       <pentago.memory.Experience at 0x7fe63031f160>,\n       <pentago.memory.Experience at 0x7fe63031f208>,\n       <pentago.memory.Experience at 0x7fe63031fda0>,\n       <pentago.memory.Experience at 0x7fe63031fe48>,\n       <pentago.memory.Experience at 0x7fe63031fef0>,\n       <pentago.memory.Experience at 0x7fe63031ff98>,\n       <pentago.memory.Experience at 0x7fe63030c080>,\n       <pentago.memory.Experience at 0x7fe63030c128>,\n       <pentago.memory.Experience at 0x7fe63030c1d0>,\n       <pentago.memory.Experience at 0x7fe63030c278>,\n       <pentago.memory.Experience at 0x7fe63030c320>,\n       <pentago.memory.Experience at 0x7fe63030c3c8>,\n       <pentago.memory.Experience at 0x7fe63030c470>,\n       <pentago.memory.Experience at 0x7fe63030c518>,\n       <pentago.memory.Experience at 0x7fe63030c5c0>,\n       <pentago.memory.Experience at 0x7fe63030c668>,\n       <pentago.memory.Experience at 0x7fe63030c710>,\n       <pentago.memory.Experience at 0x7fe63030a390>,\n       <pentago.memory.Experience at 0x7fe63030a5f8>,\n       <pentago.memory.Experience at 0x7fe63030ac50>,\n       <pentago.memory.Experience at 0x7fe62501b940>,\n       <pentago.memory.Experience at 0x7fe63030aa20>,\n       <pentago.memory.Experience at 0x7fe5f589dd68>,\n       <pentago.memory.Experience at 0x7fe5f589d470>,\n       <pentago.memory.Experience at 0x7fe5f589d588>,\n       <pentago.memory.Experience at 0x7fe630314e48>,\n       <pentago.memory.Experience at 0x7fe630314a90>,\n       <pentago.memory.Experience at 0x7fe630314908>,\n       <pentago.memory.Experience at 0x7fe630314240>,\n       <pentago.memory.Experience at 0x7fe6303142e8>,\n       <pentago.memory.Experience at 0x7fe63031ff28>,\n       <pentago.memory.Experience at 0x7fe63031feb8>,\n       <pentago.memory.Experience at 0x7fe63031f2b0>,\n       <pentago.memory.Experience at 0x7fe63031f1d0>,\n       <pentago.memory.Experience at 0x7fe63031f400>,\n       <pentago.memory.Experience at 0x7fe63031f4a8>,\n       <pentago.memory.Experience at 0x7fe63031f668>,\n       <pentago.memory.Experience at 0x7fe63031f710>,\n       <pentago.memory.Experience at 0x7fe63031f9e8>,\n       <pentago.memory.Experience at 0x7fe63031fa90>,\n       <pentago.memory.Experience at 0x7fe63031fc50>,\n       <pentago.memory.Experience at 0x7fe63031fd30>,\n       <pentago.memory.Experience at 0x7fe63030c6a0>,\n       <pentago.memory.Experience at 0x7fe63030c630>,\n       <pentago.memory.Experience at 0x7fe63030c4a8>,\n       <pentago.memory.Experience at 0x7fe63030c438>,\n       <pentago.memory.Experience at 0x7fe63030c2b0>,\n       <pentago.memory.Experience at 0x7fe63030c240>,\n       <pentago.memory.Experience at 0x7fe63030c0b8>,\n       <pentago.memory.Experience at 0x7fe63030c828>,\n       <pentago.memory.Experience at 0x7fe63030c898>,\n       <pentago.memory.Experience at 0x7fe63030c940>,\n       <pentago.memory.Experience at 0x7fe63030c9e8>,\n       <pentago.memory.Experience at 0x7fe63030ca90>,\n       <pentago.memory.Experience at 0x7fe63030cb38>,\n       <pentago.memory.Experience at 0x7fe63030cbe0>,\n       <pentago.memory.Experience at 0x7fe63030cc88>,\n       <pentago.memory.Experience at 0x7fe63030cd30>,\n       <pentago.memory.Experience at 0x7fe63030cdd8>,\n       <pentago.memory.Experience at 0x7fe63030ce80>,\n       <pentago.memory.Experience at 0x7fe63030cf28>,\n       <pentago.memory.Experience at 0x7fe63030cfd0>,\n       <pentago.memory.Experience at 0x7fe6303290b8>,\n       <pentago.memory.Experience at 0x7fe630329160>,\n       <pentago.memory.Experience at 0x7fe63031fcc0>,\n       <pentago.memory.Experience at 0x7fe63031fbe0>,\n       <pentago.memory.Experience at 0x7fe63031f860>,\n       <pentago.memory.Experience at 0x7fe63031f7f0>,\n       <pentago.memory.Experience at 0x7fe63031f320>,\n       <pentago.memory.Experience at 0x7fe63031f2e8>,\n       <pentago.memory.Experience at 0x7fe63031fdd8>,\n       <pentago.memory.Experience at 0x7fe63031fe80>,\n       <pentago.memory.Experience at 0x7fe630314278>])"
      ]
     },
     "execution_count": 3,
     "metadata": {},
     "output_type": "execute_result"
    }
   ],
   "source": [
    "view.memory"
   ]
  },
  {
   "cell_type": "code",
   "execution_count": 4,
   "metadata": {
    "autoscroll": false,
    "collapsed": false,
    "ein.hycell": false,
    "ein.tags": "worksheet-0",
    "slideshow": {
     "slide_type": "-"
    }
   },
   "outputs": [],
   "source": [
    "exp = view.memory[0]"
   ]
  },
  {
   "cell_type": "code",
   "execution_count": 7,
   "metadata": {
    "autoscroll": false,
    "collapsed": false,
    "ein.hycell": false,
    "ein.tags": "worksheet-0",
    "slideshow": {
     "slide_type": "-"
    }
   },
   "outputs": [
    {
     "data": {
      "text/plain": [
       "True"
      ]
     },
     "execution_count": 7,
     "metadata": {},
     "output_type": "execute_result"
    }
   ],
   "source": [
    "exp.explanation is None"
   ]
  }
 ],
 "metadata": {
  "kernelspec": {
   "display_name": "Python [conda env:gai-project]",
   "name": "conda-env-gai-project-py"
  },
  "name": "training_experiments.ipynb"
 },
 "nbformat": 4,
 "nbformat_minor": 2
}
